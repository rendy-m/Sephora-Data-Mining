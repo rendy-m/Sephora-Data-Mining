{
  "nbformat": 4,
  "nbformat_minor": 0,
  "metadata": {
    "colab": {
      "name": "Sephora data mining_Muhammad aulia rendy.ipynb",
      "provenance": [],
      "collapsed_sections": []
    },
    "kernelspec": {
      "name": "python3",
      "display_name": "Python 3"
    },
    "language_info": {
      "name": "python"
    }
  },
  "cells": [
    {
      "cell_type": "markdown",
      "metadata": {
        "id": "asT1YePIdtGl"
      },
      "source": [
        "# About sephora"
      ]
    },
    {
      "cell_type": "markdown",
      "metadata": {
        "id": "2pIu3gKSSFc5"
      },
      "source": [
        "Sephora sells beauty products and showcases various classic and new brands in various product categories including skin care, makeup, fragrances, body and hair care, in addition to Sephora's own private label."
      ]
    },
    {
      "cell_type": "markdown",
      "metadata": {
        "id": "-hJ4v293CoDf"
      },
      "source": [
        "# Sephora Dataset information\n",
        "| column | information |\n",
        "|--|--|\n",
        "|Id|The product ID at Sephora's website|\n",
        "|brand|The brand of the product at Sephora's website|\n",
        "|category|The category of the product at Sephora's website|\n",
        "|name|The name of the product at Sephora's website|\n",
        "|size|The size of the product|\n",
        "|rating|The rating of the product|\n",
        "|numberofreviews|\tThe number of reviews of the product|\n",
        "|love|The number of people loving the product|\n",
        "|price|\tThe price of the product|\n",
        "|value_price|The value price of the product (for discounted products|\n",
        "|URL|The URL link of the product|\n",
        "|MarketingFlags|\tThe Marketing Flags of the product from the website if they were exclusive or sold online only|\n",
        "|MarketingFlags_content|The kinds of Marketing Flags of the product|\n",
        "|options|The options available on the website for the product like colors and sizes|\n",
        "|details|The details of the product available on the website|\n",
        "|howtouse|The instructions of the product if available|\n",
        "|ingredients|The ingredients of the product if available|\n",
        "|online_only|If the product is sold online only|\n",
        "|exclusive|If the product is sold exclusively on Sephora's website|\n",
        "|limited_edition|If the product is limited edition|\n",
        "|limitedtimeoffer|If the product has a limited time offer|\n",
        "\n",
        "\n",
        "\n",
        "\n"
      ]
    },
    {
      "cell_type": "code",
      "metadata": {
        "id": "3y2dwXuk9KeD"
      },
      "source": [
        "import pandas as pd\n",
        "import numpy as np\n",
        "import matplotlib.pyplot as plt\n",
        "import seaborn as sns\n",
        "import plotly.express as px\n",
        "import warnings\n",
        "warnings.filterwarnings('ignore')\n"
      ],
      "execution_count": null,
      "outputs": []
    },
    {
      "cell_type": "code",
      "metadata": {
        "colab": {
          "base_uri": "https://localhost:8080/",
          "height": 612
        },
        "id": "VmI8envSNgtg",
        "outputId": "89bd37a5-2f5a-47b5-fe6c-9441d0f3d8fa"
      },
      "source": [
        "df = pd.read_csv('sephora_website_dataset.csv')\n",
        "df.sample(5)"
      ],
      "execution_count": null,
      "outputs": [
        {
          "output_type": "execute_result",
          "data": {
            "text/html": [
              "<div>\n",
              "<style scoped>\n",
              "    .dataframe tbody tr th:only-of-type {\n",
              "        vertical-align: middle;\n",
              "    }\n",
              "\n",
              "    .dataframe tbody tr th {\n",
              "        vertical-align: top;\n",
              "    }\n",
              "\n",
              "    .dataframe thead th {\n",
              "        text-align: right;\n",
              "    }\n",
              "</style>\n",
              "<table border=\"1\" class=\"dataframe\">\n",
              "  <thead>\n",
              "    <tr style=\"text-align: right;\">\n",
              "      <th></th>\n",
              "      <th>id</th>\n",
              "      <th>brand</th>\n",
              "      <th>category</th>\n",
              "      <th>name</th>\n",
              "      <th>size</th>\n",
              "      <th>rating</th>\n",
              "      <th>number_of_reviews</th>\n",
              "      <th>love</th>\n",
              "      <th>price</th>\n",
              "      <th>value_price</th>\n",
              "      <th>URL</th>\n",
              "      <th>MarketingFlags</th>\n",
              "      <th>MarketingFlags_content</th>\n",
              "      <th>options</th>\n",
              "      <th>details</th>\n",
              "      <th>how_to_use</th>\n",
              "      <th>ingredients</th>\n",
              "      <th>online_only</th>\n",
              "      <th>exclusive</th>\n",
              "      <th>limited_edition</th>\n",
              "      <th>limited_time_offer</th>\n",
              "    </tr>\n",
              "  </thead>\n",
              "  <tbody>\n",
              "    <tr>\n",
              "      <th>6732</th>\n",
              "      <td>2262426</td>\n",
              "      <td>Primera</td>\n",
              "      <td>Eye Creams &amp; Treatments</td>\n",
              "      <td>Wild Seed Firming Eye Cream</td>\n",
              "      <td>0.84 oz/ 25 mL</td>\n",
              "      <td>4.0</td>\n",
              "      <td>6</td>\n",
              "      <td>649</td>\n",
              "      <td>64.0</td>\n",
              "      <td>64.0</td>\n",
              "      <td>https://www.sephora.com/product/primera-wild-s...</td>\n",
              "      <td>True</td>\n",
              "      <td>exclusive</td>\n",
              "      <td>no options</td>\n",
              "      <td>What it is:  A formula that simultaneously imp...</td>\n",
              "      <td>Suggested Usage:-After serum- gently tap a sma...</td>\n",
              "      <td>-Wild-Firming Complex™ with Grace Soybean: Str...</td>\n",
              "      <td>0</td>\n",
              "      <td>1</td>\n",
              "      <td>0</td>\n",
              "      <td>0</td>\n",
              "    </tr>\n",
              "    <tr>\n",
              "      <th>2359</th>\n",
              "      <td>2278695</td>\n",
              "      <td>Dr. Barbara Sturm</td>\n",
              "      <td>Body Lotions &amp; Body Oils</td>\n",
              "      <td>Anti-Aging Body Cream</td>\n",
              "      <td>7 oz/ 150 mL</td>\n",
              "      <td>3.5</td>\n",
              "      <td>2</td>\n",
              "      <td>320</td>\n",
              "      <td>95.0</td>\n",
              "      <td>95.0</td>\n",
              "      <td>https://www.sephora.com/product/dr-barbara-stu...</td>\n",
              "      <td>False</td>\n",
              "      <td>0</td>\n",
              "      <td>no options</td>\n",
              "      <td>What it is:  A lightweight- fast-absorbing bod...</td>\n",
              "      <td>Suggested Usage:-Massage the body cream into y...</td>\n",
              "      <td>-Indian Almond: Tightens skin and restores the...</td>\n",
              "      <td>0</td>\n",
              "      <td>0</td>\n",
              "      <td>0</td>\n",
              "      <td>0</td>\n",
              "    </tr>\n",
              "    <tr>\n",
              "      <th>143</th>\n",
              "      <td>2140226</td>\n",
              "      <td>ALTERNA Haircare</td>\n",
              "      <td>Hair Styling Products</td>\n",
              "      <td>CAVIAR Anti-Aging® Restructuring Bond Repair L...</td>\n",
              "      <td>4.2 oz/ 125 mL</td>\n",
              "      <td>4.5</td>\n",
              "      <td>97</td>\n",
              "      <td>5300</td>\n",
              "      <td>32.0</td>\n",
              "      <td>32.0</td>\n",
              "      <td>https://www.sephora.com/product/caviar-anti-ag...</td>\n",
              "      <td>True</td>\n",
              "      <td>online only</td>\n",
              "      <td>no options</td>\n",
              "      <td>Which hair type is it good for?✔ Straight✔ Wav...</td>\n",
              "      <td>Suggested Usage:-Press down firmly to spray. -...</td>\n",
              "      <td>-Caviar Extract: Restores moisture- elasticit...</td>\n",
              "      <td>1</td>\n",
              "      <td>0</td>\n",
              "      <td>0</td>\n",
              "      <td>0</td>\n",
              "    </tr>\n",
              "    <tr>\n",
              "      <th>4892</th>\n",
              "      <td>2337731</td>\n",
              "      <td>Lancôme</td>\n",
              "      <td>Value &amp; Gift Sets</td>\n",
              "      <td>Lash Rehab</td>\n",
              "      <td>no size</td>\n",
              "      <td>0.0</td>\n",
              "      <td>0</td>\n",
              "      <td>57</td>\n",
              "      <td>69.0</td>\n",
              "      <td>96.0</td>\n",
              "      <td>https://www.sephora.com/product/lancome-lash-r...</td>\n",
              "      <td>True</td>\n",
              "      <td>limited edition · exclusive</td>\n",
              "      <td>no options</td>\n",
              "      <td>What it is:  A set that features Lancôme's bes...</td>\n",
              "      <td>Suggested Usage:-After cleansing- sweep Advanc...</td>\n",
              "      <td>-Bifidus Prebiotic 10%: Supports skin's moist...</td>\n",
              "      <td>0</td>\n",
              "      <td>1</td>\n",
              "      <td>1</td>\n",
              "      <td>0</td>\n",
              "    </tr>\n",
              "    <tr>\n",
              "      <th>1962</th>\n",
              "      <td>2353589</td>\n",
              "      <td>dae</td>\n",
              "      <td>Scalp &amp; Hair Treatments</td>\n",
              "      <td>Deep Conditioning Treatment</td>\n",
              "      <td>10 oz/ 300 mL</td>\n",
              "      <td>4.5</td>\n",
              "      <td>23</td>\n",
              "      <td>1300</td>\n",
              "      <td>28.0</td>\n",
              "      <td>28.0</td>\n",
              "      <td>https://www.sephora.com/product/dae-deep-condi...</td>\n",
              "      <td>True</td>\n",
              "      <td>exclusive</td>\n",
              "      <td>no options</td>\n",
              "      <td>What it is: A treatment that gives dry and dam...</td>\n",
              "      <td>Suggested Usage:-Use weekly or as needed.-Mass...</td>\n",
              "      <td>-Moringa Leaf Extract: Rich in vitamins and a...</td>\n",
              "      <td>0</td>\n",
              "      <td>1</td>\n",
              "      <td>0</td>\n",
              "      <td>0</td>\n",
              "    </tr>\n",
              "  </tbody>\n",
              "</table>\n",
              "</div>"
            ],
            "text/plain": [
              "           id              brand  ... limited_edition limited_time_offer\n",
              "6732  2262426            Primera  ...               0                  0\n",
              "2359  2278695  Dr. Barbara Sturm  ...               0                  0\n",
              "143   2140226   ALTERNA Haircare  ...               0                  0\n",
              "4892  2337731            Lancôme  ...               1                  0\n",
              "1962  2353589                dae  ...               0                  0\n",
              "\n",
              "[5 rows x 21 columns]"
            ]
          },
          "metadata": {},
          "execution_count": 355
        }
      ]
    },
    {
      "cell_type": "markdown",
      "metadata": {
        "id": "0E5nFChuFfN1"
      },
      "source": [
        "# EDA"
      ]
    },
    {
      "cell_type": "code",
      "metadata": {
        "colab": {
          "base_uri": "https://localhost:8080/"
        },
        "id": "sC0f1Cs0eTOa",
        "outputId": "04108de7-282c-4a7f-988c-d2b2f827bd48"
      },
      "source": [
        "df.info()"
      ],
      "execution_count": null,
      "outputs": [
        {
          "output_type": "stream",
          "name": "stdout",
          "text": [
            "<class 'pandas.core.frame.DataFrame'>\n",
            "RangeIndex: 9168 entries, 0 to 9167\n",
            "Data columns (total 21 columns):\n",
            " #   Column                  Non-Null Count  Dtype  \n",
            "---  ------                  --------------  -----  \n",
            " 0   id                      9168 non-null   int64  \n",
            " 1   brand                   9168 non-null   object \n",
            " 2   category                9168 non-null   object \n",
            " 3   name                    9168 non-null   object \n",
            " 4   size                    9168 non-null   object \n",
            " 5   rating                  9168 non-null   float64\n",
            " 6   number_of_reviews       9168 non-null   int64  \n",
            " 7   love                    9168 non-null   int64  \n",
            " 8   price                   9168 non-null   float64\n",
            " 9   value_price             9168 non-null   float64\n",
            " 10  URL                     9168 non-null   object \n",
            " 11  MarketingFlags          9168 non-null   bool   \n",
            " 12  MarketingFlags_content  9168 non-null   object \n",
            " 13  options                 9168 non-null   object \n",
            " 14  details                 9168 non-null   object \n",
            " 15  how_to_use              9168 non-null   object \n",
            " 16  ingredients             9168 non-null   object \n",
            " 17  online_only             9168 non-null   int64  \n",
            " 18  exclusive               9168 non-null   int64  \n",
            " 19  limited_edition         9168 non-null   int64  \n",
            " 20  limited_time_offer      9168 non-null   int64  \n",
            "dtypes: bool(1), float64(3), int64(7), object(10)\n",
            "memory usage: 1.4+ MB\n"
          ]
        }
      ]
    },
    {
      "cell_type": "code",
      "metadata": {
        "colab": {
          "base_uri": "https://localhost:8080/",
          "height": 1000
        },
        "id": "C7G7GRAillrR",
        "outputId": "b3562a18-b987-45ef-cdbe-134998b56d4b"
      },
      "source": [
        "for column in df.columns:\n",
        "    print(f\"============= {column} =================\")\n",
        "    display(df[column].value_counts().sort_values(ascending=True))\n",
        "    print()"
      ],
      "execution_count": null,
      "outputs": [
        {
          "output_type": "stream",
          "name": "stdout",
          "text": [
            "============= id =================\n"
          ]
        },
        {
          "output_type": "display_data",
          "data": {
            "text/plain": [
              "2067072    1\n",
              "2320497    1\n",
              "1734649    1\n",
              "1961978    1\n",
              "1739499    1\n",
              "          ..\n",
              "1999473    2\n",
              "1029958    2\n",
              "1248988    2\n",
              "2105310    2\n",
              "2245199    2\n",
              "Name: id, Length: 9115, dtype: int64"
            ]
          },
          "metadata": {}
        },
        {
          "output_type": "stream",
          "name": "stdout",
          "text": [
            "\n",
            "============= brand =================\n"
          ]
        },
        {
          "output_type": "display_data",
          "data": {
            "text/plain": [
              "MDSolarSciences         1\n",
              "SHHHOWERCAP             1\n",
              "Jillian Dempsey         1\n",
              "Google                  1\n",
              "Taste Beauty            1\n",
              "                     ... \n",
              "Dior                  145\n",
              "TOM FORD              161\n",
              "tarte                 170\n",
              "CLINIQUE              234\n",
              "SEPHORA COLLECTION    496\n",
              "Name: brand, Length: 324, dtype: int64"
            ]
          },
          "metadata": {}
        },
        {
          "output_type": "stream",
          "name": "stdout",
          "text": [
            "\n",
            "============= category =================\n"
          ]
        },
        {
          "output_type": "display_data",
          "data": {
            "text/plain": [
              "Lid Shadow Brush               1\n",
              "Hair Styling & Treatments      1\n",
              "Spa Tools                      1\n",
              "Curls & Coils                  1\n",
              "Powder Brush                   1\n",
              "                            ... \n",
              "Face Wash & Cleansers        247\n",
              "Value & Gift Sets            378\n",
              "Face Serums                  384\n",
              "Moisturizers                 451\n",
              "Perfume                      665\n",
              "Name: category, Length: 143, dtype: int64"
            ]
          },
          "metadata": {}
        },
        {
          "output_type": "stream",
          "name": "stdout",
          "text": [
            "\n",
            "============= name =================\n"
          ]
        },
        {
          "output_type": "display_data",
          "data": {
            "text/plain": [
              "Pure Grace Perfumed Body Lotion                                 1\n",
              "Angel Hair Mist                                                 1\n",
              "Mandarino Di Amalfi                                             1\n",
              "Super Multi-Corrective Cream Sunscreen Broad Spectrum SPF 30    1\n",
              "Silver Skin Savior Salicylic/Glycolic Acid Treatment            1\n",
              "                                                               ..\n",
              "Pour Homme                                                      3\n",
              "Discovery Set                                                   3\n",
              "Face Mask                                                       3\n",
              "Lipstick                                                        3\n",
              "Blush                                                           4\n",
              "Name: name, Length: 9106, dtype: int64"
            ]
          },
          "metadata": {}
        },
        {
          "output_type": "stream",
          "name": "stdout",
          "text": [
            "\n",
            "============= size =================\n"
          ]
        },
        {
          "output_type": "display_data",
          "data": {
            "text/plain": [
              "9\" H x 5\"W x 1\" L       1\n",
              "0.58 oz / 16.47 g       1\n",
              "4.7 oz/ 125 mL          1\n",
              "1.14 oz/ 32.4 g         1\n",
              "21 Day Cleanse          1\n",
              "                     ... \n",
              "0.5 oz/ 15 mL         176\n",
              "3.4 oz/ 100 mL        188\n",
              "1 oz/ 30 mL           377\n",
              "1.7 oz/ 50 mL         504\n",
              "no size              3161\n",
              "Name: size, Length: 1623, dtype: int64"
            ]
          },
          "metadata": {}
        },
        {
          "output_type": "stream",
          "name": "stdout",
          "text": [
            "\n",
            "============= rating =================\n"
          ]
        },
        {
          "output_type": "display_data",
          "data": {
            "text/plain": [
              "1.5       9\n",
              "1.0      23\n",
              "2.0      39\n",
              "2.5      88\n",
              "3.0     308\n",
              "0.0     398\n",
              "5.0     872\n",
              "3.5    1051\n",
              "4.0    2853\n",
              "4.5    3527\n",
              "Name: rating, dtype: int64"
            ]
          },
          "metadata": {}
        },
        {
          "output_type": "stream",
          "name": "stdout",
          "text": [
            "\n",
            "============= number_of_reviews =================\n"
          ]
        },
        {
          "output_type": "display_data",
          "data": {
            "text/plain": [
              "827       1\n",
              "560       1\n",
              "568       1\n",
              "630       1\n",
              "592       1\n",
              "       ... \n",
              "2       233\n",
              "3       237\n",
              "1       277\n",
              "1000    379\n",
              "0       397\n",
              "Name: number_of_reviews, Length: 833, dtype: int64"
            ]
          },
          "metadata": {}
        },
        {
          "output_type": "stream",
          "name": "stdout",
          "text": [
            "\n",
            "============= love =================\n"
          ]
        },
        {
          "output_type": "display_data",
          "data": {
            "text/plain": [
              "393200      1\n",
              "69100       1\n",
              "632         1\n",
              "388200      1\n",
              "242300      1\n",
              "         ... \n",
              "1300      112\n",
              "1200      114\n",
              "1100      126\n",
              "1500      126\n",
              "0         181\n",
              "Name: love, Length: 1683, dtype: int64"
            ]
          },
          "metadata": {}
        },
        {
          "output_type": "stream",
          "name": "stdout",
          "text": [
            "\n",
            "============= price =================\n"
          ]
        },
        {
          "output_type": "display_data",
          "data": {
            "text/plain": [
              "4.99        1\n",
              "127.00      1\n",
              "43.50       1\n",
              "3.95        1\n",
              "28.90       1\n",
              "         ... \n",
              "24.00     255\n",
              "29.00     259\n",
              "30.00     333\n",
              "28.00     334\n",
              "25.00     346\n",
              "Name: price, Length: 286, dtype: int64"
            ]
          },
          "metadata": {}
        },
        {
          "output_type": "stream",
          "name": "stdout",
          "text": [
            "\n",
            "============= value_price =================\n"
          ]
        },
        {
          "output_type": "display_data",
          "data": {
            "text/plain": [
              "4.95        1\n",
              "465.00      1\n",
              "384.00      1\n",
              "256.00      1\n",
              "32.40       1\n",
              "         ... \n",
              "24.00     244\n",
              "38.00     259\n",
              "25.00     311\n",
              "28.00     334\n",
              "30.00     337\n",
              "Name: value_price, Length: 322, dtype: int64"
            ]
          },
          "metadata": {}
        },
        {
          "output_type": "stream",
          "name": "stdout",
          "text": [
            "\n",
            "============= URL =================\n"
          ]
        },
        {
          "output_type": "display_data",
          "data": {
            "text/plain": [
              "https://www.sephora.com/product/rosa-nobile-P388670?icid2=products grid:p388670                                            1\n",
              "https://www.sephora.com/product/superstar-lips-lipstick-P446610?icid2=products grid:p446610                                1\n",
              "https://www.sephora.com/product/dphue-apple-cider-vinegar-hair-rinse-duo-P457619?icid2=products grid:p457619               1\n",
              "https://www.sephora.com/product/vault-leave-in-conditioner-P433831?icid2=products grid:p433831                             1\n",
              "https://www.sephora.com/product/l-homme-ultime-P407604?icid2=products grid:p407604                                         1\n",
              "                                                                                                                          ..\n",
              "https://www.sephora.com/product/h2-elemental-energy-firming-foam-mask-P418315?icid2=products grid:p418315                  1\n",
              "https://www.sephora.com/product/glow-brush-P433851?icid2=products grid:p433851                                             1\n",
              "https://www.sephora.com/product/avocado-melt-retinol-eye-sleeping-mask-P447791?icid2=products grid:p447791                 1\n",
              "https://www.sephora.com/product/amarige-P0782?icid2=products grid:p0782                                                    1\n",
              "https://www.sephora.com/product/photo-finish-foundation-primer-pore-minimizing-mini-P422469?icid2=products grid:p422469    1\n",
              "Name: URL, Length: 9168, dtype: int64"
            ]
          },
          "metadata": {}
        },
        {
          "output_type": "stream",
          "name": "stdout",
          "text": [
            "\n",
            "============= MarketingFlags =================\n"
          ]
        },
        {
          "output_type": "display_data",
          "data": {
            "text/plain": [
              "True     4382\n",
              "False    4786\n",
              "Name: MarketingFlags, dtype: int64"
            ]
          },
          "metadata": {}
        },
        {
          "output_type": "stream",
          "name": "stdout",
          "text": [
            "\n",
            "============= MarketingFlags_content =================\n"
          ]
        },
        {
          "output_type": "display_data",
          "data": {
            "text/plain": [
              "limited time offer · limited edition · exclusive       1\n",
              "limited time offer                                     2\n",
              "limited edition · exclusive · online only            119\n",
              "limited edition · online only                        188\n",
              "limited edition                                      237\n",
              "limited edition · exclusive                          297\n",
              "exclusive · online only                              318\n",
              "online only                                         1528\n",
              "exclusive                                           1692\n",
              "0                                                   4786\n",
              "Name: MarketingFlags_content, dtype: int64"
            ]
          },
          "metadata": {}
        },
        {
          "output_type": "stream",
          "name": "stdout",
          "text": [
            "\n",
            "============= options =================\n"
          ]
        },
        {
          "output_type": "display_data",
          "data": {
            "text/plain": [
              " - 3.4 oz/ 100 mL    - 1 oz/ 30 mL                                                                                                                    1\n",
              " - 1 oz Eau de Toilette Spray  - 3.3 oz/ 100 mL Eau de Toilette Spray                                                                                 1\n",
              " - 1.7 oz Eau de Toilette Spray  - 3.3 oz Eau de Toilette Spray                                                                                       1\n",
              " - 1 oz Eau de Parfum Spray - 1.7 oz/ 50 mL Eau de Parfum Spray  - 3.4 oz/ 100 mL Eau de Parfum Spray - 0.34 oz/ 10 mL Eau de Parfum Rollerball       1\n",
              " - 2.0 oz/ 60 mL  Spray  - 3.4 oz/ 100 mL  Spray                                                                                                      1\n",
              "                                                                                                                                                   ... \n",
              " - 0.33 oz/ 10 mL Eau de Parfum Spray                                                                                                                12\n",
              " - 1.0 oz/ 30 mL  Spray - 3.4 oz/ 100 mL  Spray                                                                                                      13\n",
              " - 1.7 oz/ 50 mL Eau de Parfum Spray  - 3.4 oz/ 100 mL Eau de Parfum Spray                                                                           14\n",
              " - 1.7 oz/ 50 mL Eau de Parfum Spray                                                                                                                 16\n",
              "no options                                                                                                                                         8377\n",
              "Name: options, Length: 564, dtype: int64"
            ]
          },
          "metadata": {}
        },
        {
          "output_type": "stream",
          "name": "stdout",
          "text": [
            "\n",
            "============= details =================\n"
          ]
        },
        {
          "output_type": "display_data",
          "data": {
            "text/plain": [
              "What it is:  A patented- award-winning microneedling tool that amplifies skincare absorption 200 times and creates firmer- smoother skin. Skin Type: Normal- Dry- Combination- and Oily Skincare Concerns: Fine Lines and Wrinkles- Dark Spots- and Dullness and Uneven Texture Ingredient Callouts: Free of sulfates SLS and SLES- parabens- formaldehydes- formaldehyde-releasing agents- phthalates- mineral oil- retinyl palmitate- oxybenzone- coal tar- hydroquinone- triclosan- and triclocarban- and contains less than one percent of synthetic fragrances. This product is also cruelty-free- and gluten-free- and comes in recyclable packaging. What Else You Need to Know: This tool uses microneedles to glide over the skin- and skin’s natural rejuvenation response is ignited- supporting cells to restore volume and glow from the inside out. It also uses LED red-light therapy and microcurrent stimulation to help stimulate cellular turnover and magnify results.  \"Any dermatologist will tell you that you have to wound the skin to regenerate the skin. Before GloPRO®- our only choices were laser- chemical peels- and micro-dermabrasions with lots of downtime- expense- and inconvenience. GloPRO® changed everything. Now we can vertically target without having to strip the skin- which means zero downtime plus all the firming upsides in less than a minute a day. It’s without doubt the biggest breakthrough the industry has had in two decades.\"—Jamie O'Banion- FounderThis Set Contains:- 0.17 oz/ 5 mL The Nightly Retinol + Peptide Anti-Aging Serum- 2 oz/ 59 mL The Balance pH Balancing Gel Cleanser- 0.17 oz/ 5 mL The Ultimate Hydrating Vitamin C Facial Moisturizer- GloPRO® Prep Pads Clarifying Skin Cleansing Wipes with Peptides- GloPRO® Microneedling Tool- Refillable spritzer bottle- 2 x triple AAA batteries (pre-loaded)Clinical Results: In a GloPRO consumer perception survey:- 100% felt GloPRO helped stimulate skin’s natural collagen - 97% agreed skin looked younger after using the GloPRO - 97% felt the firmness of skin improved     1\n",
              "What it is:\\nA highlighter palette with two different textures: a pearlescent creamy shade and three light-catching pressed pearl hues.\\n\\nWhat it does:\\n Inspired by Huda Kattan’s hack of layering oil with powder highlighter to amplify her glow- this palette is packed with two different textures. The Melted Strobe- a pearlescent creamy formula enriched with karite butter- creates a flawless- lit-from-within canvas for layering powders. The three- light-catching pressed pearls are staggered in complimentary tones to give you sculpted- 3D radiance. With effortless blendability and layering power- this palette lets you build and sculpt your highlight to a desired level of radiance—from subtle- natural radiance to an all-over glow.\\n\\nThis palette contains:\\n- 0.35 oz/ 10.3 mL Melted Strobe Cream Highlight\\n- 3 x 0.28 oz/ 7.93 g Powder Highlight\\n\\nWhat it is formulated WITHOUT:\\n- Parabens\\n- Sulfates\\n\\n\\nWhat else you need to know:\\n \"I wanted to make getting the ultimate glow easy for everyone. So we combined colors- formula and technique to make highlighting like a pro within each person’s grasp. Highlighter can really magnify any makeup- but there are concerns for people with larger pores as the pigments tend to emphasize skin unevenness which is a problem that I have. I love to blend face oils and pigments together to smooth the skin texture and amplify the reflection of the pearls. That’s when I knew I had to create this highlighter. It’s the all-in-one- ultimate cheek palette for everyone.\"—Huda Kattan\\n                                                                                                                                                                                                                                                                                                                                                                                                                                                                                                                      1\n",
              "What it is: A high-pigment- petal-soft blush that blends effortlessly into skin for an intense bloom of transfer-resistant color that lasts all day.Ingredient Callouts: This product is vegan and cruelty-free.What Else You Need to Know: This blush contains silky- micro-milled powder that is highly pigmented yet velvety as a rose petal- allowing it to blend effortlessly into skin. A bouquet of six shades offers a range of depths for every complexion each in a rose compact. Everlasting Blush delivers extreme long wear and a beautiful- soft-matte finish.Clinical Results:In a consumer study on 32 volunteers over 24 hours:- 100% agreed it applied smoothly and seamlessly - 100% agreed it had a soft- velvety texture- 100% felt it was easy to apply.                                                                                                                                                                                                                                                                                                                                                                                                                                                                                                                                                                                                                                                                                                                                                                                                                                                                                                                                                                                                                                                                                                                                                                                                                                                                                                                                       1\n",
              "Rarely in the history of fragrance has a creation embodied such enchantment- mystery- magic- and exoticism. Introduced in 1977- Opium symbolizes Yves Saint Laurent's fascination with the Orient and his unique understanding of a woman's hidden emotions and inexplicable passions. Opium arouses the senses with an exotic blend of lush florals- rich spices- and deep wood notes.Notes:Tangerine- Plum- Cloves- Coriander- Carnation- Lily of the Valley- Rose- Myrrh- Opoponax- Castoreum- Cedarwood- Sandalwood.Style:An enchanting- mysterious- and intriguing fragrance inspired by the Orient.                                                                                                                                                                                                                                                                                                                                                                                                                                                                                                                                                                                                                                                                                                                                                                                                                                                                                                                                                                                                                                                                                                                                                                                                                                                                                                                                                                                                                                                                                                            1\n",
              "What it is: A micro-fine eyeliner that glides across lids with the utmost precision to deliver a weightless- smudge-proof- inky line that lasts up to 24 hours.What it does: This foolproof eyeliner is infused with high-impact pigments that deliver smudge-proof- saturated- matte color. The weightless- inky pencil features thermo-sensory technology that allows this formula to transform from a solid to a liquid upon contact with skin- creating a flexible- water-resistant film that lasts up to 24 hours. The micro-thin tip on this next-generation pencil can be dotted between lashes or glided across eyes with remarkable precision and no skipping. It’s available in five shades inspired by sumi ink sticks used in traditional Japanese calligraphy.What it is formulated WITHOUT:- Parabens- Sulfates- PhthalatesWhat else you need to know: This product is dermatologist- and ophthalmologist-tested. It is formulated without oil- fragrance- and talc. It is also an Allure Best of Beauty award winner.                                                                                                                                                                                                                                                                                                                                                                                                                                                                                                                                                                                                                                                                                                                                                                                                                                                                                                                                                                                                                                                                                 1\n",
              "                                                                                                                                                                                                                                                                                                                                                                                                                                                                                                                                                                                                                                                                                                                                                                                                                                                                                                                                                                                                                                                                                                                                                                                                                                                                                                                                                                                                                                                                                                                                                                                                                                                                                                                                                                                                                                                                                                                                                                                                                                                                                                                    ..\n",
              "What it is: An elevated and effortless statement hair pin with crystal rhinestones. Hair Type: Straight- Wavy- Curly- and CoilyWhat Else You Need to Know:  Justine Marjan is known for creating some of the most iconic looks on the most glamorous and influential celebrities. KITSCH is a self-financed- female-owned company and global go-to brand for feel good beauty accessories and jewelry- delivering elevated versions of your everyday staples. This hair pin measures 7 centimeters by  2.3 centimeters.                                                                                                                                                                                                                                                                                                                                                                                                                                                                                                                                                                                                                                                                                                                                                                                                                                                                                                                                                                                                                                                                                                                                                                                                                                                                                                                                                                                                                                                                                                                                                                                              3\n",
              "Fragrance Family: Earthy & WoodyScent Type: Warm WoodsKey Notes: Sandalwood- Vetiver- Amber WoodAbout: Maison Louis Marie composes delicate scents to enchant your lifestyle with a botanical tradition since 1792. This scent is a sandalwood fragrance with a dominant cedarwood and sandalwood accord supplemented by a spicy cinnamon nutmeg complex and an earthy vetiver note.What else you need to know: Louis Marie Aubert du Petit Thouars was a pioneer in French botanical history. Marie du Petit Thouars continues his legacy by creating luxurious products that focus on illustrious scents imbued with unique floral fragrances. All of her creations are phthalate-- paraben-- sulfate- and cruelty-free.Clean at Sephora\\nClean at Sephora is formulated without a list of over 50 ingredients- including sulfates (SLS and SLES)- parabens- phthalates- and more. For the full list- check out the Ingredients tab.                                                                                                                                                                                                                                                                                                                                                                                                                                                                                                                                                                                                                                                                                                                                                                                                                                                                                                                                                                                                                                                                                                                                                                               3\n",
              "Fragrance Family: Florals Scent Type: Warm Florals Key Notes: Wild Iris- Blackcurrant- Patchouli HeartFragrance Description: Maya is a warm floral fragrance that exudes strength of character. A tribute to fierce femininity- Maya is a rare joining of daring florals- iris- and sweet violet leaf with elegant earthy blackcurrant and patchouli heart. It’s a thoughtful indulgence for the inspiring visionary. About the Bottle: This iconic perfume bottle is inspired by the beauty of antique crystal. The decorated cap is hand finished- no two are the same. Discover TOCCA’s brand motto- \"Love yourself\" as a hidden message on every product.About the Fragrance: TOCCA celebrates the art of indulgence and is inspired by old world romance and charm.                                                                                                                                                                                                                                                                                                                                                                                                                                                                                                                                                                                                                                                                                                                                                                                                                                                                                                                                                                                                                                                                                                                                                                                                                                                                                                                                             3\n",
              "Fragrance Family: Fresh \\nScent Type: Fresh Citrus & Fruits\\nKey Notes: Tunisian Neroli- Italian Bergamot- Sicilian Lemon- Winter Yellow Mandarin- Orange Flower- Lavender\\nFragrance Description: Vibrant. Sparkling. Transportive. To Tom Ford- this scent perfectly captures the cool breezes- sparkling clear water- and lush foliage of the Italian Riviera. His reinvention of a classic eau de cologne features crisp citrus oils- surprising floral notes- and amber undertones to leave a splashy yet substantive impression.                                                                                                                                                                                                                                                                                                                                                                                                                                                                                                                                                                                                                                                                                                                                                                                                                                                                                                                                                                                                                                                                                                                                                                                                                                                                                                                                                                                                                                                                                                                                                                               6\n",
              "no details                                                                                                                                                                                                                                                                                                                                                                                                                                                                                                                                                                                                                                                                                                                                                                                                                                                                                                                                                                                                                                                                                                                                                                                                                                                                                                                                                                                                                                                                                                                                                                                                                                                                                                                                                                                                                                                                                                                                                                                                                                                                                                          14\n",
              "Name: details, Length: 8839, dtype: int64"
            ]
          },
          "metadata": {}
        },
        {
          "output_type": "stream",
          "name": "stdout",
          "text": [
            "\n",
            "============= how_to_use =================\n"
          ]
        },
        {
          "output_type": "display_data",
          "data": {
            "text/plain": [
              "Suggested Usage:-Glide over cleansed face- lips- neck- and décolletage for instant hydration anytime your skin needs that extra glow.\\n Precautions:-For cosmetic use only.-If irritation occurs- discontinue use. -Store below 30 degrees C / 86 degrees F. -External use only. -Keep out of reach of children. -Avoid contact with eyes. -Patch test on the inside of the wrist to ensure skin compatibility. -Refer to koraorganics.com for further information on ingredients and the use of essential oils.\\n                                                                                                                                                                                                                                                                                  1\n",
              "Suggested Usage:\\n-Twist top to unlock- then pump liquid onto a cotton. \\n-Press down on nail for five seconds. \\n-Firmly pull cotton towards tip of nail to remove nail color in one swipe.Precautions:\\n-Flammable. Avoid heat or flame.\\n                                                                                                                                                                                                                                                                                                                                                                                                                                                                                                                                                        1\n",
              "Suggested Usage:No-Poo® Original: -Fully wet your curls in the shower. -Apply a generous amount to your scalp and massage with your fingertips. -Rinse- allowing the water to help move the No-Poo through your ends. -Make sure to rinse thoroughly by massaging your scalp as the water runs over your curls.Condition® Original: -Apply through curls. -Use your fingers to gently detangle and glide it through your ends to thoroughly moisturize. -Rinse. Light Defining Gel: -Rub between palms and apply to wet hair—the wetter the better. -Flip hair and glide from nape to ends. -Scrunch for definition. -Air-dry or diffuse dry. -Once fully dry- shake at the root and scrunch to soften the curl cast for a touchable finish.                                                        1\n",
              "Suggested Usage:-Spritz on pulse points and layer as desired. Eau de Toilette or Eau de Parfum?: The difference lies in the volume of perfume oil. While EDT contains five to nine percent- EDP contains more- usually eight to 14 percent. EDPs- therefore- last longer and smell more intense.                                                                                                                                                                                                                                                                                                                                                                                                                                                                                                    1\n",
              "Suggested Usage:-Blend two teaspoons with water- milk- or smoothies.                                                                                                                                                                                                                                                                                                                                                                                                                                                                                                                                                                                                                                                                                                                                1\n",
              "                                                                                                                                                                                                                                                                                                                                                                                                                                                                                                                                                                                                                                                                                                                                                                                                 ... \n",
              "Suggested Usage:-Fragrance is intensified by the warmth of your own body. Apply in the creases of your knees and elbows for a longer-lasting- stronger scent. -After applying- avoid rubbing or dabbing skin. This breaks down the fragrance- causing it to wear off more quickly. -If you prefer placing fragrance on your wrists- be sure to reapply after frequent hand-washing- as this tends to rinse off the scent. -Replace fragrance after 12 months. Expired perfumes more than a year old lose the integrity of the original scent. Eau de Toilette or Eau de Parfum?: The difference lies in the volume of perfume oil. While EDT contains five to nine percent- EDP contains more- usually eight to 14 percent. EDPs- therefore- last longer and smell more intense.                   19\n",
              "Suggested Usage:\\n-Fragrance is intensified by the warmth of your own body. Apply in the creases of your knees and elbows for a longer-lasting- stronger scent. \\n-After applying- avoid rubbing or dabbing skin. This breaks down the fragrance- causing it to wear off more quickly. \\n-If you prefer placing fragrance on your wrists- be sure to reapply after frequent hand-washing- as this tends to rinse off the scent. \\n-Replace fragrance after 12 months. Expired perfumes more than a year old lose the integrity of the original scent.\\n\\n Eau de Toilette or Eau de Parfum?:\\nThe difference lies in the volume of perfume oil. While EDT contains five to nine percent- EDP contains more- usually eight to 14 percent. EDPs- therefore- last longer and smell more intense.      21\n",
              "Suggested Usage:-Fragrance is intensified by the warmth of your own body. Apply in the creases of your knees and elbows for a longer-lasting- stronger scent. -After applying- avoid rubbing or dabbing skin. This breaks down the fragrance- causing it to wear off more quickly. -If you prefer placing fragrance on your wrists- be sure to reapply after frequent hand-washing- as this tends to rinse off the scent. -Replace fragrance after 12 months. Expired perfumes more than a year old lose the integrity of the original scent.                                                                                                                                                                                                                                                      34\n",
              "Suggested Usage:-Fragrance is intensified by the warmth of your own body. Apply in the creases of your knees and elbows for a longer-lasting- stronger scent. -After applying- avoid rubbing or dabbing skin. This breaks down the fragrance- causing it to wear off more quickly. -If you prefer placing fragrance on your wrists- be sure to reapply after frequent hand-washing- as this tends to rinse off the scent. -Replace fragrance after 12 months. Expired perfumes more than a year old lose the integrity of the original scent. Eau de Toilette or Eau de Parfum?: The difference lies in the volume of perfume oil. While EDT contains five to nine percent- EDP contains more- usually eight to 14 percent. EDPs- therefore- last longer and smell more intense.                  389\n",
              "no instructions                                                                                                                                                                                                                                                                                                                                                                                                                                                                                                                                                                                                                                                                                                                                                                                  1573\n",
              "Name: how_to_use, Length: 6497, dtype: int64"
            ]
          },
          "metadata": {}
        },
        {
          "output_type": "stream",
          "name": "stdout",
          "text": [
            "\n",
            "============= ingredients =================\n"
          ]
        },
        {
          "output_type": "display_data",
          "data": {
            "text/plain": [
              "Water- Isododecane- Methylpropanediol- Pentylene Glycol- Acrylates Copolymer- Tromethamine- Butylene Glycol- Glycerin- Caprylyl Glycol- Sodium Dehydroacetate- Disodium Edta- Panthenol- Mel Extract (Honey Extract)- Sodium Lauryl Sulfate- Urea- Gossypium Herbaceum (Cotton) Flower Extract- Ci 42090 (Blue 1)- Fructose- Glucose- Inositol- Sucrose- Trehalose- Arginine Hcl- Lysine Hcl- Ornithine Hcl- Sodium Lactate- Sodium Citrate.                                                                                                                                                                                                                                                                                                                                                                                                                                                                                                                                                                                                                                                                                                                                                                                                                                                                                                                                                                                                                                                                                                                                                                                                                                                                                                                                                                                                                                                                                                                                                                                                                                                              1\n",
              "Soy Wax Blend- Fragrance.\\nClean at Sephora products are formulated without:\\nSulfates—SLS + SLES- Parabens- Formaldehydes- Formaldehyde-releasing agents- Phthalates- Mineral Oil- Retinyl Palmitate- Oxybenzone- Coal Tar- Hydroquinone- Triclosan- Triclocarban- Undisclosed synthetic fragrances (Products can be formulated with disclosed synthetic fragrances that meet the following two criteria: (1) the synthetic fragrances do not include any of the ingredients listed in numbers 1 through 12 above and (2) the synthetic fragrances are at a concentration below 1% of the total formula) The following type of acrylates: (ethyl acrylate- ethyl methacrylate- methyl methacrylate- butyl methacrylate- hydroxypropyl methacrylate- tetrahydrofurfuryl methacrylate- trimethylolpropane trimethacrylate - aluminum salts)- Animal Oils/Musks/Fats- Benzophenone + Related Compounds- Butoxyethanol- Carbon Black- Lead/Lead Acetate- Methyl Cellosolve + Methoxyethanol- Methylchloroisothiazolinone & Methylisothiazolinone- Mercury + Mercury Compounds (Thimerisol)- Insoluble Plastic Microbeads (This prohibited ingredient applies to products that are meant to be rinsed off )- Resorcinol- Talc (Talc that is free of any asbestos can be used in the formulation provided that Brand conducts testing to ensure that talc is free of any asbestos.)- Toluene- Butylated hydroxyanisole (BHA)- Butylated hydroxytoluene (BHT) that is 0.1% or more of total formula- Ethanolamines DEA/TEA/MEA/ETA- Nanoparticles as defined by the European Commission- Petrolatum and Parrafin that is not USP grade- Phenoxyethanol that is 1% or more of total formulation- Polyacrylamide & Acrylamide- The following types of Styrene (Bromostyrene- Deastyrene/acrylates/dvbcopolymer- sodium styrene/divinylbenzene copolymer - styrene oxide- styrene)- 1-4 Dioxane in final formulas must comply with the thresholds as follows: (10 or < ppm for products that are meant to be rinsed off- wiped off or removed- 3ppm or < for products that are meant to remain on the skin).       1\n",
              "Alcohol Denat.- Water- Fragrance- Limonene- Butylphenyl Methylpropional- Linalool- Geraniol- Hexyl Cinnamal- Benzyl Benzoate- Citronellol                                                                                                                                                                                                                                                                                                                                                                                                                                                                                                                                                                                                                                                                                                                                                                                                                                                                                                                                                                                                                                                                                                                                                                                                                                                                                                                                                                                                                                                                                                                                                                                                                                                                                                                                                                                                                                                                                                                                                                 1\n",
              "Talc- Magnesium Myristate- Nylon-12- Caprylic/Capric Triglyceride- EthylhexylPalmitate- Zea Mays (Corn) Starch- Sodium Dehydroacetate- Methylparaben- Lauroyl Lysine- Propylparaben- Polymethyl Methacrylate- Butylparaben- Ascorbyl Palmitate- Glycine Soja (Soybean) Oil- Tocopherol- Methicone. May contain: Ultramarines (Cl 77007)- Iron Oxides (Cl 77491- Cl 77492- Cl 77499).                                                                                                                                                                                                                                                                                                                                                                                                                                                                                                                                                                                                                                                                                                                                                                                                                                                                                                                                                                                                                                                                                                                                                                                                                                                                                                                                                                                                                                                                                                                                                                                                                                                                                                                      1\n",
              "-Kaolin Clay: Helps absorb excess oil and exfoliates skin to remove dead cells- dirt- grime- and visible signs of pollution.-Activated Binchotan Charcoal: Removes impurities and minimizes the appearance of pores.-Murumuru Seed: Provides nutrients and protection from free-radical and sun damage.Water/Aqua/Eau- Sodium Cocoyl Isethionate- Glycerin- Carthamus Tinctorius (Safflower) Seed Oil- Kaolin- Glyceryl Stearate SE- PEG-100 Stearate- Propanediol- Coconut Acid- Butylene Glycol- Charcoal Powder- Sodium Astrocaryum Murumuruate- Brassica Oleracea Italica (Broccoli) Extract- Bioflavonoids- Citrus Grandis (Grapefruit) Peel Oil- Palmitic Acid- Sodium Isethionate- Aloe Barbadensis Leaf Extract- Melaleuca Alternifolia (Tea Tree) Leaf Oil- Cocamidopropyl Betaine- Tocopheryl Acetate- Myristic Acid- Quartz- Stearic Acid- Ethylhexylglycerin- Citric Acid- O-Cymen-5-Ol- Cetearyl Alcohol- Polysorbate 60- Pentylene Glycol- Polyacrylate Crosspolymer-6- Caprylyl Glycol- Tetrasodium Glutamate Diacetate- Sodium Hydroxide- Disodium EDTA- Citral- Limonene- CI 77891.                                                                                                                                                                                                                                                                                                                                                                                                                                                                                                                                                                                                                                                                                                                                                                                                                                                                                                                                                                                                      1\n",
              "                                                                                                                                                                                                                                                                                                                                                                                                                                                                                                                                                                                                                                                                                                                                                                                                                                                                                                                                                                                                                                                                                                                                                                                                                                                                                                                                                                                                                                                                                                                                                                                                                                                                                                                                                                                                                                                                                                                                                                                                                                                                                                       ... \n",
              "Safflower Oil- Fragrance.\\nClean at Sephora products are formulated without:\\nSulfates—SLS + SLES- Parabens- Formaldehydes- Formaldehyde-releasing agents- Phthalates- Mineral Oil- Retinyl Palmitate- Oxybenzone- Coal Tar- Hydroquinone- Triclosan- Triclocarban- Undisclosed synthetic fragrances (Products can be formulated with disclosed synthetic fragrances that meet the following two criteria: (1) the synthetic fragrances do not include any of the ingredients listed in numbers 1 through 12 above and (2) the synthetic fragrances are at a concentration below 1% of the total formula) The following type of acrylates: (ethyl acrylate- ethyl methacrylate- methyl methacrylate- butyl methacrylate- hydroxypropyl methacrylate- tetrahydrofurfuryl methacrylate- trimethylolpropane trimethacrylate - aluminum salts)- Animal Oils/Musks/Fats- Benzophenone + Related Compounds- Butoxyethanol- Carbon Black- Lead/Lead Acetate- Methyl Cellosolve + Methoxyethanol- Methylchloroisothiazolinone & Methylisothiazolinone- Mercury + Mercury Compounds (Thimerisol)- Insoluble Plastic Microbeads (This prohibited ingredient applies to products that are meant to be rinsed off )- Resorcinol- Talc (Talc that is free of any asbestos can be used in the formulation provided that Brand conducts testing to ensure that talc is free of any asbestos.)- Toluene- Butylated hydroxyanisole (BHA)- Butylated hydroxytoluene (BHT) that is 0.1% or more of total formula- Ethanolamines DEA/TEA/MEA/ETA- Nanoparticles as defined by the European Commission- Petrolatum and Parrafin that is not USP grade- Phenoxyethanol that is 1% or more of total formulation- Polyacrylamide & Acrylamide- The following types of Styrene (Bromostyrene- Deastyrene/acrylates/dvbcopolymer- sodium styrene/divinylbenzene copolymer - styrene oxide- styrene)- 1-4 Dioxane in final formulas must comply with the thresholds as follows: (10 or < ppm for products that are meant to be rinsed off- wiped off or removed- 3ppm or < for products that are meant to remain on the skin).       6\n",
              "Soy Wax Blend- Fragrance.                                                                                                                                                                                                                                                                                                                                                                                                                                                                                                                                                                                                                                                                                                                                                                                                                                                                                                                                                                                                                                                                                                                                                                                                                                                                                                                                                                                                                                                                                                                                                                                                                                                                                                                                                                                                                                                                                                                                                                                                                                                                                 6\n",
              "\\nClean at Sephora products are formulated without:\\nSulfates—SLS + SLES- Parabens- Formaldehydes- Formaldehyde-releasing agents- Phthalates- Mineral Oil- Retinyl Palmitate- Oxybenzone- Coal Tar- Hydroquinone- Triclosan- Triclocarban- Undisclosed synthetic fragrances (Products can be formulated with disclosed synthetic fragrances that meet the following two criteria: (1) the synthetic fragrances do not include any of the ingredients listed in numbers 1 through 12 above and (2) the synthetic fragrances are at a concentration below 1% of the total formula) The following type of acrylates: (ethyl acrylate- ethyl methacrylate- methyl methacrylate- butyl methacrylate- hydroxypropyl methacrylate- tetrahydrofurfuryl methacrylate- trimethylolpropane trimethacrylate - aluminum salts)- Animal Oils/Musks/Fats- Benzophenone + Related Compounds- Butoxyethanol- Carbon Black- Lead/Lead Acetate- Methyl Cellosolve + Methoxyethanol- Methylchloroisothiazolinone & Methylisothiazolinone- Mercury + Mercury Compounds (Thimerisol)- Insoluble Plastic Microbeads (This prohibited ingredient applies to products that are meant to be rinsed off )- Resorcinol- Talc (Talc that is free of any asbestos can be used in the formulation provided that Brand conducts testing to ensure that talc is free of any asbestos.)- Toluene- Butylated hydroxyanisole (BHA)- Butylated hydroxytoluene (BHT) that is 0.1% or more of total formula- Ethanolamines DEA/TEA/MEA/ETA- Nanoparticles as defined by the European Commission- Petrolatum and Parrafin that is not USP grade- Phenoxyethanol that is 1% or more of total formulation- Polyacrylamide & Acrylamide- The following types of Styrene (Bromostyrene- Deastyrene/acrylates/dvbcopolymer- sodium styrene/divinylbenzene copolymer - styrene oxide- styrene)- 1-4 Dioxane in final formulas must comply with the thresholds as follows: (10 or < ppm for products that are meant to be rinsed off- wiped off or removed- 3ppm or < for products that are meant to remain on the skin).                                7\n",
              "Clean at Sephora products are formulated without:\\nSulfates—SLS + SLES- Parabens- Formaldehydes- Formaldehyde-releasing agents- Phthalates- Mineral Oil- Retinyl Palmitate- Oxybenzone- Coal Tar- Hydroquinone- Triclosan- Triclocarban- Undisclosed synthetic fragrances (Products can be formulated with disclosed synthetic fragrances that meet the following two criteria: (1) the synthetic fragrances do not include any of the ingredients listed in numbers 1 through 12 above and (2) the synthetic fragrances are at a concentration below 1% of the total formula) The following type of acrylates: (ethyl acrylate- ethyl methacrylate- methyl methacrylate- butyl methacrylate- hydroxypropyl methacrylate- tetrahydrofurfuryl methacrylate- trimethylolpropane trimethacrylate - aluminum salts)- Animal Oils/Musks/Fats- Benzophenone + Related Compounds- Butoxyethanol- Carbon Black- Lead/Lead Acetate- Methyl Cellosolve + Methoxyethanol- Methylchloroisothiazolinone & Methylisothiazolinone- Mercury + Mercury Compounds (Thimerisol)- Insoluble Plastic Microbeads (This prohibited ingredient applies to products that are meant to be rinsed off )- Resorcinol- Talc (Talc that is free of any asbestos can be used in the formulation provided that Brand conducts testing to ensure that talc is free of any asbestos.)- Toluene- Butylated hydroxyanisole (BHA)- Butylated hydroxytoluene (BHT) that is 0.1% or more of total formula- Ethanolamines DEA/TEA/MEA/ETA- Nanoparticles as defined by the European Commission- Petrolatum and Parrafin that is not USP grade- Phenoxyethanol that is 1% or more of total formulation- Polyacrylamide & Acrylamide- The following types of Styrene (Bromostyrene- Deastyrene/acrylates/dvbcopolymer- sodium styrene/divinylbenzene copolymer - styrene oxide- styrene)- 1-4 Dioxane in final formulas must comply with the thresholds as follows: (10 or < ppm for products that are meant to be rinsed off- wiped off or removed- 3ppm or < for products that are meant to remain on the skin).                                 40\n",
              "unknown                                                                                                                                                                                                                                                                                                                                                                                                                                                                                                                                                                                                                                                                                                                                                                                                                                                                                                                                                                                                                                                                                                                                                                                                                                                                                                                                                                                                                                                                                                                                                                                                                                                                                                                                                                                                                                                                                                                                                                                                                                                                                                1630\n",
              "Name: ingredients, Length: 6962, dtype: int64"
            ]
          },
          "metadata": {}
        },
        {
          "output_type": "stream",
          "name": "stdout",
          "text": [
            "\n",
            "============= online_only =================\n"
          ]
        },
        {
          "output_type": "display_data",
          "data": {
            "text/plain": [
              "1    2153\n",
              "0    7015\n",
              "Name: online_only, dtype: int64"
            ]
          },
          "metadata": {}
        },
        {
          "output_type": "stream",
          "name": "stdout",
          "text": [
            "\n",
            "============= exclusive =================\n"
          ]
        },
        {
          "output_type": "display_data",
          "data": {
            "text/plain": [
              "1    2427\n",
              "0    6741\n",
              "Name: exclusive, dtype: int64"
            ]
          },
          "metadata": {}
        },
        {
          "output_type": "stream",
          "name": "stdout",
          "text": [
            "\n",
            "============= limited_edition =================\n"
          ]
        },
        {
          "output_type": "display_data",
          "data": {
            "text/plain": [
              "1     842\n",
              "0    8326\n",
              "Name: limited_edition, dtype: int64"
            ]
          },
          "metadata": {}
        },
        {
          "output_type": "stream",
          "name": "stdout",
          "text": [
            "\n",
            "============= limited_time_offer =================\n"
          ]
        },
        {
          "output_type": "display_data",
          "data": {
            "text/plain": [
              "1       3\n",
              "0    9165\n",
              "Name: limited_time_offer, dtype: int64"
            ]
          },
          "metadata": {}
        },
        {
          "output_type": "stream",
          "name": "stdout",
          "text": [
            "\n"
          ]
        }
      ]
    },
    {
      "cell_type": "markdown",
      "metadata": {
        "id": "9xSetlSvJdFr"
      },
      "source": [
        "There are no strange or odd value in each row was found in this dataset. But limited editon and limited time offer have a imbalance data."
      ]
    },
    {
      "cell_type": "code",
      "metadata": {
        "colab": {
          "base_uri": "https://localhost:8080/"
        },
        "id": "dHJaV2laJyXT",
        "outputId": "139e8418-3f9b-4686-948b-8f9934b1adec"
      },
      "source": [
        "df.isnull().sum()"
      ],
      "execution_count": null,
      "outputs": [
        {
          "output_type": "execute_result",
          "data": {
            "text/plain": [
              "id                        0\n",
              "brand                     0\n",
              "category                  0\n",
              "name                      0\n",
              "size                      0\n",
              "rating                    0\n",
              "number_of_reviews         0\n",
              "love                      0\n",
              "price                     0\n",
              "value_price               0\n",
              "URL                       0\n",
              "MarketingFlags            0\n",
              "MarketingFlags_content    0\n",
              "options                   0\n",
              "details                   0\n",
              "how_to_use                0\n",
              "ingredients               0\n",
              "online_only               0\n",
              "exclusive                 0\n",
              "limited_edition           0\n",
              "limited_time_offer        0\n",
              "dtype: int64"
            ]
          },
          "metadata": {},
          "execution_count": 356
        }
      ]
    },
    {
      "cell_type": "markdown",
      "metadata": {
        "id": "Feg7XIB9UENg"
      },
      "source": [
        "There are no missing value was found from every rows in this dataset"
      ]
    },
    {
      "cell_type": "code",
      "metadata": {
        "id": "IP_CdMPQr8To"
      },
      "source": [
        "df_sephora = df.reset_index()"
      ],
      "execution_count": null,
      "outputs": []
    },
    {
      "cell_type": "code",
      "metadata": {
        "colab": {
          "base_uri": "https://localhost:8080/",
          "height": 69
        },
        "id": "w70DQ1o6gH9q",
        "outputId": "7a14c000-bba0-49ed-9c77-0f9d97e84f70"
      },
      "source": [
        "df_sephora[df_sephora.duplicated(keep=False)]"
      ],
      "execution_count": null,
      "outputs": [
        {
          "output_type": "execute_result",
          "data": {
            "text/html": [
              "<div>\n",
              "<style scoped>\n",
              "    .dataframe tbody tr th:only-of-type {\n",
              "        vertical-align: middle;\n",
              "    }\n",
              "\n",
              "    .dataframe tbody tr th {\n",
              "        vertical-align: top;\n",
              "    }\n",
              "\n",
              "    .dataframe thead th {\n",
              "        text-align: right;\n",
              "    }\n",
              "</style>\n",
              "<table border=\"1\" class=\"dataframe\">\n",
              "  <thead>\n",
              "    <tr style=\"text-align: right;\">\n",
              "      <th></th>\n",
              "      <th>index</th>\n",
              "      <th>id</th>\n",
              "      <th>brand</th>\n",
              "      <th>category</th>\n",
              "      <th>name</th>\n",
              "      <th>size</th>\n",
              "      <th>rating</th>\n",
              "      <th>number_of_reviews</th>\n",
              "      <th>love</th>\n",
              "      <th>price</th>\n",
              "      <th>value_price</th>\n",
              "      <th>URL</th>\n",
              "      <th>MarketingFlags</th>\n",
              "      <th>MarketingFlags_content</th>\n",
              "      <th>options</th>\n",
              "      <th>details</th>\n",
              "      <th>how_to_use</th>\n",
              "      <th>ingredients</th>\n",
              "      <th>online_only</th>\n",
              "      <th>exclusive</th>\n",
              "      <th>limited_edition</th>\n",
              "      <th>limited_time_offer</th>\n",
              "    </tr>\n",
              "  </thead>\n",
              "  <tbody>\n",
              "  </tbody>\n",
              "</table>\n",
              "</div>"
            ],
            "text/plain": [
              "Empty DataFrame\n",
              "Columns: [index, id, brand, category, name, size, rating, number_of_reviews, love, price, value_price, URL, MarketingFlags, MarketingFlags_content, options, details, how_to_use, ingredients, online_only, exclusive, limited_edition, limited_time_offer]\n",
              "Index: []"
            ]
          },
          "metadata": {},
          "execution_count": 358
        }
      ]
    },
    {
      "cell_type": "code",
      "metadata": {
        "colab": {
          "base_uri": "https://localhost:8080/"
        },
        "id": "_2qeAFD_UkBT",
        "outputId": "54c719ff-d380-4c5f-e28c-757fe89c00eb"
      },
      "source": [
        "print(f'dataset dimension before duplication check: {df_sephora.shape[0]}')\n",
        "df_sephora= df_sephora.drop_duplicates()\n",
        "print(f'dataset dimension after duplication handling: {df_sephora.shape[0]}')"
      ],
      "execution_count": null,
      "outputs": [
        {
          "output_type": "stream",
          "name": "stdout",
          "text": [
            "dataset dimension before duplication check: 9168\n",
            "dataset dimension after duplication handling: 9168\n"
          ]
        }
      ]
    },
    {
      "cell_type": "markdown",
      "metadata": {
        "id": "PfZSwoRXVWNF"
      },
      "source": [
        "There are no data duplication was found in this dataset"
      ]
    },
    {
      "cell_type": "code",
      "metadata": {
        "colab": {
          "base_uri": "https://localhost:8080/",
          "height": 621
        },
        "id": "wkqHqjXlWGP8",
        "outputId": "f05023fd-c9d9-4fec-e81c-120983e25c4a"
      },
      "source": [
        "plt.figure(figsize=(20,10))\n",
        "df_sephora.boxplot(vert=False)\n",
        "plt.title('Data outlier checking')\n",
        "plt.show()"
      ],
      "execution_count": null,
      "outputs": [
        {
          "output_type": "display_data",
          "data": {
            "image/png": "[encoded data removed]",
            "text/plain": [
              "<Figure size 1440x720 with 1 Axes>"
            ]
          },
          "metadata": {
            "needs_background": "light"
          }
        }
      ]
    },
    {
      "cell_type": "markdown",
      "metadata": {
        "id": "Lpa1R9guVD4_"
      },
      "source": [
        "There are outliers with very extreme values in each column"
      ]
    },
    {
      "cell_type": "markdown",
      "metadata": {
        "id": "1ZmRCi7kVXLc"
      },
      "source": [
        "## Handling outlier"
      ]
    },
    {
      "cell_type": "code",
      "metadata": {
        "id": "v67w8NfkrXZ8"
      },
      "source": [
        "# handling outlier limited_time_offer\n",
        "Q1 = df_sephora['limited_time_offer'].quantile(0.25)\n",
        "Q3 = df_sephora[\"limited_time_offer\"].quantile(0.75)\n",
        "IQR = Q3 - Q1\n",
        "low_limit = Q1 - (IQR * 1.5)\n",
        "high_limit = Q3 + (IQR * 1.5)\n",
        "df_sephora = df_sephora[(df_sephora[\"limited_time_offer\"] >= low_limit) &\n",
        "                        (df_sephora[\"limited_time_offer\"] <= high_limit)\n",
        "                        ]"
      ],
      "execution_count": null,
      "outputs": []
    },
    {
      "cell_type": "code",
      "metadata": {
        "id": "9aaPMyHStlrY"
      },
      "source": [
        "# handling outlier love\n",
        "Q1 = df_sephora['love'].quantile(0.25)\n",
        "Q3 = df_sephora[\"love\"].quantile(0.75)\n",
        "IQR = Q3 - Q1\n",
        "low_limit = Q1 - (IQR * 1.5)\n",
        "high_limit = Q3 + (IQR * 1.5)\n",
        "df_sephora = df_sephora[(df_sephora[\"love\"] >= low_limit) &\n",
        "                        (df_sephora[\"love\"] <= high_limit)\n",
        "                        ]"
      ],
      "execution_count": null,
      "outputs": []
    },
    {
      "cell_type": "code",
      "metadata": {
        "id": "MmTVK84c0pvP"
      },
      "source": [
        "# handling outlier number_of_reviews\n",
        "Q1 = df_sephora['number_of_reviews'].quantile(0.25)\n",
        "Q3 = df_sephora[\"number_of_reviews\"].quantile(0.75)\n",
        "IQR = Q3 - Q1\n",
        "low_limit = Q1 - (IQR * 1.5)\n",
        "high_limit = Q3 + (IQR * 1.5)\n",
        "df_sephora = df_sephora[(df_sephora[\"number_of_reviews\"] >= low_limit) &\n",
        "                        (df_sephora[\"number_of_reviews\"] <= high_limit)\n",
        "                        ]"
      ],
      "execution_count": null,
      "outputs": []
    },
    {
      "cell_type": "code",
      "metadata": {
        "id": "_HcvNK5WPQ2T"
      },
      "source": [
        "# handling outlier id\n",
        "Q1 = df_sephora['id'].quantile(0.25)\n",
        "Q3 = df_sephora[\"id\"].quantile(0.75)\n",
        "IQR = Q3 - Q1\n",
        "low_limit = Q1 - (IQR * 1.5)\n",
        "high_limit = Q3 + (IQR * 1.5)\n",
        "df_sephora = df_sephora[(df_sephora[\"id\"] >= low_limit) &\n",
        "                        (df_sephora[\"id\"] <= high_limit)\n",
        "                        ]"
      ],
      "execution_count": null,
      "outputs": []
    },
    {
      "cell_type": "code",
      "metadata": {
        "id": "3PNis1OKPec5"
      },
      "source": [
        "# handling outlier rating\n",
        "Q1 = df_sephora['rating'].quantile(0.25)\n",
        "Q3 = df_sephora[\"rating\"].quantile(0.75)\n",
        "IQR = Q3 - Q1\n",
        "low_limit = Q1 - (IQR * 1.5)\n",
        "high_limit = Q3 + (IQR * 1.5)\n",
        "df_sephora = df_sephora[(df_sephora[\"rating\"] >= low_limit) &\n",
        "                        (df_sephora[\"rating\"] <= high_limit)\n",
        "                        ]"
      ],
      "execution_count": null,
      "outputs": []
    },
    {
      "cell_type": "code",
      "metadata": {
        "id": "lnqLKQCSQptI"
      },
      "source": [
        "# handling outlier price\n",
        "Q1 = df_sephora['price'].quantile(0.25)\n",
        "Q3 = df_sephora[\"price\"].quantile(0.75)\n",
        "IQR = Q3 - Q1\n",
        "low_limit = Q1 - (IQR * 1.5)\n",
        "high_limit = Q3 + (IQR * 1.5)\n",
        "df_sephora = df_sephora[(df_sephora[\"price\"] >= low_limit) &\n",
        "                        (df_sephora[\"price\"] <= high_limit)\n",
        "                        ]"
      ],
      "execution_count": null,
      "outputs": []
    },
    {
      "cell_type": "code",
      "metadata": {
        "id": "AqfszGK7QvL0"
      },
      "source": [
        "# handling outlier value_price\n",
        "Q1 = df_sephora['value_price'].quantile(0.25)\n",
        "Q3 = df_sephora[\"value_price\"].quantile(0.75)\n",
        "IQR = Q3 - Q1\n",
        "low_limit = Q1 - (IQR * 1.5)\n",
        "high_limit = Q3 + (IQR * 1.5)\n",
        "df_sephora = df_sephora[(df_sephora[\"value_price\"] >= low_limit) &\n",
        "                        (df_sephora[\"value_price\"] <= high_limit)\n",
        "                        ]"
      ],
      "execution_count": null,
      "outputs": []
    },
    {
      "cell_type": "code",
      "metadata": {
        "id": "qXQ9SlyVQynC"
      },
      "source": [
        "# handling outlier limited_edition\n",
        "Q1 = df_sephora['limited_edition'].quantile(0.25)\n",
        "Q3 = df_sephora[\"limited_edition\"].quantile(0.75)\n",
        "IQR = Q3 - Q1\n",
        "low_limit = Q1 - (IQR * 1.5)\n",
        "high_limit = Q3 + (IQR * 1.5)\n",
        "df_sephora = df_sephora[(df_sephora[\"limited_edition\"] >= low_limit) &\n",
        "                        (df_sephora[\"limited_edition\"] <= high_limit)\n",
        "                        ]"
      ],
      "execution_count": null,
      "outputs": []
    },
    {
      "cell_type": "code",
      "metadata": {
        "id": "NTEbhnKIQ7tO"
      },
      "source": [
        "# handling outlier online_only\n",
        "Q1 = df_sephora['online_only'].quantile(0.25)\n",
        "Q3 = df_sephora[\"online_only\"].quantile(0.75)\n",
        "IQR = Q3 - Q1\n",
        "low_limit = Q1 - (IQR * 1.5)\n",
        "high_limit = Q3 + (IQR * 1.5)\n",
        "df_sephora = df_sephora[(df_sephora[\"online_only\"] >= low_limit) &\n",
        "                        (df_sephora[\"online_only\"] <= high_limit)\n",
        "                        ]"
      ],
      "execution_count": null,
      "outputs": []
    },
    {
      "cell_type": "code",
      "metadata": {
        "colab": {
          "base_uri": "https://localhost:8080/",
          "height": 296
        },
        "id": "_XOA81A-Pr44",
        "outputId": "1b06123d-ace4-4be3-e382-3b9f6e4377d3"
      },
      "source": [
        "df_sephora.describe( )"
      ],
      "execution_count": null,
      "outputs": [
        {
          "output_type": "execute_result",
          "data": {
            "text/html": [
              "<div>\n",
              "<style scoped>\n",
              "    .dataframe tbody tr th:only-of-type {\n",
              "        vertical-align: middle;\n",
              "    }\n",
              "\n",
              "    .dataframe tbody tr th {\n",
              "        vertical-align: top;\n",
              "    }\n",
              "\n",
              "    .dataframe thead th {\n",
              "        text-align: right;\n",
              "    }\n",
              "</style>\n",
              "<table border=\"1\" class=\"dataframe\">\n",
              "  <thead>\n",
              "    <tr style=\"text-align: right;\">\n",
              "      <th></th>\n",
              "      <th>index</th>\n",
              "      <th>id</th>\n",
              "      <th>rating</th>\n",
              "      <th>number_of_reviews</th>\n",
              "      <th>love</th>\n",
              "      <th>price</th>\n",
              "      <th>value_price</th>\n",
              "      <th>online_only</th>\n",
              "      <th>exclusive</th>\n",
              "      <th>limited_edition</th>\n",
              "      <th>limited_time_offer</th>\n",
              "    </tr>\n",
              "  </thead>\n",
              "  <tbody>\n",
              "    <tr>\n",
              "      <th>count</th>\n",
              "      <td>5111.000000</td>\n",
              "      <td>5.111000e+03</td>\n",
              "      <td>5111.000000</td>\n",
              "      <td>5111.000000</td>\n",
              "      <td>5111.00000</td>\n",
              "      <td>5111.000000</td>\n",
              "      <td>5111.000000</td>\n",
              "      <td>5111.00000</td>\n",
              "      <td>5111.000000</td>\n",
              "      <td>5111.0</td>\n",
              "      <td>5111.0</td>\n",
              "    </tr>\n",
              "    <tr>\n",
              "      <th>mean</th>\n",
              "      <td>4624.736842</td>\n",
              "      <td>2.032949e+06</td>\n",
              "      <td>4.140873</td>\n",
              "      <td>60.106633</td>\n",
              "      <td>5904.82254</td>\n",
              "      <td>38.089444</td>\n",
              "      <td>38.441626</td>\n",
              "      <td>0.25944</td>\n",
              "      <td>0.257875</td>\n",
              "      <td>0.0</td>\n",
              "      <td>0.0</td>\n",
              "    </tr>\n",
              "    <tr>\n",
              "      <th>std</th>\n",
              "      <td>2619.844432</td>\n",
              "      <td>2.359207e+05</td>\n",
              "      <td>0.554747</td>\n",
              "      <td>68.103569</td>\n",
              "      <td>6249.37026</td>\n",
              "      <td>21.865380</td>\n",
              "      <td>22.047962</td>\n",
              "      <td>0.43837</td>\n",
              "      <td>0.437508</td>\n",
              "      <td>0.0</td>\n",
              "      <td>0.0</td>\n",
              "    </tr>\n",
              "    <tr>\n",
              "      <th>min</th>\n",
              "      <td>0.000000</td>\n",
              "      <td>1.310168e+06</td>\n",
              "      <td>2.000000</td>\n",
              "      <td>1.000000</td>\n",
              "      <td>0.00000</td>\n",
              "      <td>2.000000</td>\n",
              "      <td>2.000000</td>\n",
              "      <td>0.00000</td>\n",
              "      <td>0.000000</td>\n",
              "      <td>0.0</td>\n",
              "      <td>0.0</td>\n",
              "    </tr>\n",
              "    <tr>\n",
              "      <th>25%</th>\n",
              "      <td>2334.000000</td>\n",
              "      <td>1.877831e+06</td>\n",
              "      <td>4.000000</td>\n",
              "      <td>10.000000</td>\n",
              "      <td>1500.00000</td>\n",
              "      <td>23.000000</td>\n",
              "      <td>24.000000</td>\n",
              "      <td>0.00000</td>\n",
              "      <td>0.000000</td>\n",
              "      <td>0.0</td>\n",
              "      <td>0.0</td>\n",
              "    </tr>\n",
              "    <tr>\n",
              "      <th>50%</th>\n",
              "      <td>4585.000000</td>\n",
              "      <td>2.081792e+06</td>\n",
              "      <td>4.000000</td>\n",
              "      <td>30.000000</td>\n",
              "      <td>3600.00000</td>\n",
              "      <td>32.000000</td>\n",
              "      <td>32.000000</td>\n",
              "      <td>0.00000</td>\n",
              "      <td>0.000000</td>\n",
              "      <td>0.0</td>\n",
              "      <td>0.0</td>\n",
              "    </tr>\n",
              "    <tr>\n",
              "      <th>75%</th>\n",
              "      <td>6874.500000</td>\n",
              "      <td>2.221054e+06</td>\n",
              "      <td>4.500000</td>\n",
              "      <td>89.000000</td>\n",
              "      <td>8000.00000</td>\n",
              "      <td>49.000000</td>\n",
              "      <td>49.250000</td>\n",
              "      <td>1.00000</td>\n",
              "      <td>1.000000</td>\n",
              "      <td>0.0</td>\n",
              "      <td>0.0</td>\n",
              "    </tr>\n",
              "    <tr>\n",
              "      <th>max</th>\n",
              "      <td>9162.000000</td>\n",
              "      <td>2.358570e+06</td>\n",
              "      <td>5.000000</td>\n",
              "      <td>294.000000</td>\n",
              "      <td>31900.00000</td>\n",
              "      <td>99.000000</td>\n",
              "      <td>99.000000</td>\n",
              "      <td>1.00000</td>\n",
              "      <td>1.000000</td>\n",
              "      <td>0.0</td>\n",
              "      <td>0.0</td>\n",
              "    </tr>\n",
              "  </tbody>\n",
              "</table>\n",
              "</div>"
            ],
            "text/plain": [
              "             index            id  ...  limited_edition  limited_time_offer\n",
              "count  5111.000000  5.111000e+03  ...           5111.0              5111.0\n",
              "mean   4624.736842  2.032949e+06  ...              0.0                 0.0\n",
              "std    2619.844432  2.359207e+05  ...              0.0                 0.0\n",
              "min       0.000000  1.310168e+06  ...              0.0                 0.0\n",
              "25%    2334.000000  1.877831e+06  ...              0.0                 0.0\n",
              "50%    4585.000000  2.081792e+06  ...              0.0                 0.0\n",
              "75%    6874.500000  2.221054e+06  ...              0.0                 0.0\n",
              "max    9162.000000  2.358570e+06  ...              0.0                 0.0\n",
              "\n",
              "[8 rows x 11 columns]"
            ]
          },
          "metadata": {},
          "execution_count": 370
        }
      ]
    },
    {
      "cell_type": "code",
      "metadata": {
        "colab": {
          "base_uri": "https://localhost:8080/",
          "height": 621
        },
        "id": "-YrT-nMQU2BJ",
        "outputId": "a835c50f-07c3-415d-a8bb-98cd60afd951"
      },
      "source": [
        "plt.figure(figsize=(20,10))\n",
        "df_sephora.boxplot(vert=False)\n",
        "plt.title('Data after handling outlier')\n",
        "plt.show()"
      ],
      "execution_count": null,
      "outputs": [
        {
          "output_type": "display_data",
          "data": {
            "image/png": "[encoded data removed]",
            "text/plain": [
              "<Figure size 1440x720 with 1 Axes>"
            ]
          },
          "metadata": {
            "needs_background": "light"
          }
        }
      ]
    },
    {
      "cell_type": "markdown",
      "metadata": {
        "id": "lBoO8qg9U_1A"
      },
      "source": [
        ""
      ]
    },
    {
      "cell_type": "code",
      "metadata": {
        "colab": {
          "base_uri": "https://localhost:8080/",
          "height": 1000
        },
        "id": "i0FdnFAiYlje",
        "outputId": "da90d7a5-97c4-4f76-a4dc-fa4732ae3515"
      },
      "source": [
        "for column in df_sephora.columns:\n",
        "    print(f'=========={column}==========')\n",
        "    display(df_sephora[column].value_counts().sort_values(ascending=True))\n",
        "    print()\n",
        "\n",
        "    "
      ],
      "execution_count": null,
      "outputs": [
        {
          "output_type": "stream",
          "name": "stdout",
          "text": [
            "==========index==========\n"
          ]
        },
        {
          "output_type": "display_data",
          "data": {
            "text/plain": [
              "2047    1\n",
              "2039    1\n",
              "6133    1\n",
              "8180    1\n",
              "2035    1\n",
              "       ..\n",
              "4098    1\n",
              "6159    1\n",
              "76      1\n",
              "6155    1\n",
              "0       1\n",
              "Name: index, Length: 5111, dtype: int64"
            ]
          },
          "metadata": {}
        },
        {
          "output_type": "stream",
          "name": "stdout",
          "text": [
            "\n",
            "==========id==========\n"
          ]
        },
        {
          "output_type": "display_data",
          "data": {
            "text/plain": [
              "2079085    1\n",
              "1806306    1\n",
              "2140143    1\n",
              "1728492    1\n",
              "1984491    1\n",
              "          ..\n",
              "1858133    2\n",
              "2163491    2\n",
              "1696798    2\n",
              "2202950    2\n",
              "2258515    2\n",
              "Name: id, Length: 5094, dtype: int64"
            ]
          },
          "metadata": {}
        },
        {
          "output_type": "stream",
          "name": "stdout",
          "text": [
            "\n",
            "==========brand==========\n"
          ]
        },
        {
          "output_type": "display_data",
          "data": {
            "text/plain": [
              "Crushed Tonic           1\n",
              "PLAY! by SEPHORA        1\n",
              "bkr                     1\n",
              "Flora + Bast            1\n",
              "stila                   1\n",
              "                     ... \n",
              "TOM FORD               82\n",
              "Kérastase              84\n",
              "CLINIQUE              106\n",
              "Kiehl's Since 1851    109\n",
              "SEPHORA COLLECTION    287\n",
              "Name: brand, Length: 305, dtype: int64"
            ]
          },
          "metadata": {}
        },
        {
          "output_type": "stream",
          "name": "stdout",
          "text": [
            "\n",
            "==========category==========\n"
          ]
        },
        {
          "output_type": "display_data",
          "data": {
            "text/plain": [
              "Cologne Gift Sets              1\n",
              "Hair Removal & Shaving         1\n",
              "Wellness                       1\n",
              "Lip Treatments                 1\n",
              "Body Moisturizers              1\n",
              "                            ... \n",
              "Hair Styling Products        177\n",
              "Rollerballs & Travel Size    195\n",
              "Face Serums                  201\n",
              "Perfume                      234\n",
              "Moisturizers                 246\n",
              "Name: category, Length: 139, dtype: int64"
            ]
          },
          "metadata": {}
        },
        {
          "output_type": "stream",
          "name": "stdout",
          "text": [
            "\n",
            "==========name==========\n"
          ]
        },
        {
          "output_type": "display_data",
          "data": {
            "text/plain": [
              "Grab & Go Traveler™                    1\n",
              "Major Glow Setting Fan                 1\n",
              "Gilt Pomander Diffuser                 1\n",
              "Anti-Precision Pencil Eyeliner         1\n",
              "Ginger Essence™ Sensuous Skin Scent    1\n",
              "                                      ..\n",
              "Shave Cream                            2\n",
              "Color Care Shampoo                     2\n",
              "Body Cleanser                          2\n",
              "Discovery Set                          3\n",
              "The Foundation Brush                   3\n",
              "Name: name, Length: 5091, dtype: int64"
            ]
          },
          "metadata": {}
        },
        {
          "output_type": "stream",
          "name": "stdout",
          "text": [
            "\n",
            "==========size==========\n"
          ]
        },
        {
          "output_type": "display_data",
          "data": {
            "text/plain": [
              "0.9 oz/ 26 mL                  1\n",
              "2.2 oz/ 60 mL                  1\n",
              "5 x 0.17 oz/ 5 g sachets       1\n",
              "5 oz                           1\n",
              "0.6 oz/ 17.1 g                 1\n",
              "                            ... \n",
              "3.4 oz/ 100 mL                77\n",
              "0.5 oz/ 15 mL                111\n",
              "1 oz/ 30 mL                  203\n",
              "1.7 oz/ 50 mL                278\n",
              "no size                     1526\n",
              "Name: size, Length: 1103, dtype: int64"
            ]
          },
          "metadata": {}
        },
        {
          "output_type": "stream",
          "name": "stdout",
          "text": [
            "\n",
            "==========rating==========\n"
          ]
        },
        {
          "output_type": "display_data",
          "data": {
            "text/plain": [
              "2.0      27\n",
              "2.5      65\n",
              "3.0     221\n",
              "5.0     553\n",
              "3.5     752\n",
              "4.0    1662\n",
              "4.5    1831\n",
              "Name: rating, dtype: int64"
            ]
          },
          "metadata": {}
        },
        {
          "output_type": "stream",
          "name": "stdout",
          "text": [
            "\n",
            "==========number_of_reviews==========\n"
          ]
        },
        {
          "output_type": "display_data",
          "data": {
            "text/plain": [
              "202      1\n",
              "255      1\n",
              "231      1\n",
              "259      1\n",
              "244      1\n",
              "      ... \n",
              "2      138\n",
              "5      151\n",
              "4      153\n",
              "1      155\n",
              "3      165\n",
              "Name: number_of_reviews, Length: 292, dtype: int64"
            ]
          },
          "metadata": {}
        },
        {
          "output_type": "stream",
          "name": "stdout",
          "text": [
            "\n",
            "==========love==========\n"
          ]
        },
        {
          "output_type": "display_data",
          "data": {
            "text/plain": [
              "761       1\n",
              "376       1\n",
              "807       1\n",
              "815       1\n",
              "380       1\n",
              "       ... \n",
              "1500     78\n",
              "1600     79\n",
              "2100     82\n",
              "1100     90\n",
              "0       135\n",
              "Name: love, Length: 773, dtype: int64"
            ]
          },
          "metadata": {}
        },
        {
          "output_type": "stream",
          "name": "stdout",
          "text": [
            "\n",
            "==========price==========\n"
          ]
        },
        {
          "output_type": "display_data",
          "data": {
            "text/plain": [
              "4.95       1\n",
              "7.70       1\n",
              "55.50      1\n",
              "44.50      1\n",
              "12.90      1\n",
              "        ... \n",
              "38.00    163\n",
              "18.00    174\n",
              "25.00    191\n",
              "28.00    217\n",
              "30.00    234\n",
              "Name: price, Length: 151, dtype: int64"
            ]
          },
          "metadata": {}
        },
        {
          "output_type": "stream",
          "name": "stdout",
          "text": [
            "\n",
            "==========value_price==========\n"
          ]
        },
        {
          "output_type": "display_data",
          "data": {
            "text/plain": [
              "4.95       1\n",
              "27.50      1\n",
              "17.50      1\n",
              "8.80       1\n",
              "16.50      1\n",
              "        ... \n",
              "38.00    164\n",
              "18.00    170\n",
              "25.00    185\n",
              "28.00    217\n",
              "30.00    226\n",
              "Name: value_price, Length: 153, dtype: int64"
            ]
          },
          "metadata": {}
        },
        {
          "output_type": "stream",
          "name": "stdout",
          "text": [
            "\n",
            "==========URL==========\n"
          ]
        },
        {
          "output_type": "display_data",
          "data": {
            "text/plain": [
              "https://www.sephora.com/product/reset-clarifying-shampoo-P447113?icid2=products grid:p447113                  1\n",
              "https://www.sephora.com/product/the-2-in-1-oil-mask-P445448?icid2=products grid:p445448                       1\n",
              "https://www.sephora.com/product/sheer-mineral-sun-spray-spf-50-P385431?icid2=products grid:p385431            1\n",
              "https://www.sephora.com/product/b-well-vegan-omega-3-6-9-biotin-P449134?icid2=products grid:p449134           1\n",
              "https://www.sephora.com/product/ocean-mist-sea-salt-reed-diffuser-P416384?icid2=products grid:p416384         1\n",
              "                                                                                                             ..\n",
              "https://www.sephora.com/product/elevate-advanced-lift-contouring-cream-P420638?icid2=products grid:p420638    1\n",
              "https://www.sephora.com/product/mending-infusion-P425008?icid2=products grid:p425008                          1\n",
              "https://www.sephora.com/product/explorer-P450810?icid2=products grid:p450810                                  1\n",
              "https://www.sephora.com/product/mini-diamond-glow-P440314?icid2=products grid:p440314                         1\n",
              "https://www.sephora.com/product/vip-texturing-hair-spray-P434452?icid2=products grid:p434452                  1\n",
              "Name: URL, Length: 5111, dtype: int64"
            ]
          },
          "metadata": {}
        },
        {
          "output_type": "stream",
          "name": "stdout",
          "text": [
            "\n",
            "==========MarketingFlags==========\n"
          ]
        },
        {
          "output_type": "display_data",
          "data": {
            "text/plain": [
              "True     2385\n",
              "False    2726\n",
              "Name: MarketingFlags, dtype: int64"
            ]
          },
          "metadata": {}
        },
        {
          "output_type": "stream",
          "name": "stdout",
          "text": [
            "\n",
            "==========MarketingFlags_content==========\n"
          ]
        },
        {
          "output_type": "display_data",
          "data": {
            "text/plain": [
              "exclusive · online only     259\n",
              "exclusive                  1059\n",
              "online only                1067\n",
              "0                          2726\n",
              "Name: MarketingFlags_content, dtype: int64"
            ]
          },
          "metadata": {}
        },
        {
          "output_type": "stream",
          "name": "stdout",
          "text": [
            "\n",
            "==========options==========\n"
          ]
        },
        {
          "output_type": "display_data",
          "data": {
            "text/plain": [
              " - Out of stock: 1.7 oz Eau de Toilette Spray  - 3 oz Eau de Toilette Spray                                                 1\n",
              " - 3.4 oz/ 100 mL Eau de Parfum Spray  - 0.34 oz/ 10 mL Eau de Parfum Spray                                                 1\n",
              " - 2.5 oz/ 75 mL Eau de Toilette Spray  - 4.2 oz/ 125 mL Eau de Toilette Spray - 6.7 oz/ 200 mL Eau de Toilette Spray       1\n",
              " - 1.7 oz/ 50 mL Eau de Parfum spray - 3.4 oz/ 100 mL Eau de Parfum Spray                                                   1\n",
              " - 2.5 oz/ 75 mL Eau de Cologne Spray  - 4.2 oz/ 125 mL Eau de Cologne Spray                                                1\n",
              "                                                                                                                         ... \n",
              " - 1.7 fl oz / 50mL Eau de Toilette Spray  - 0.33 fl oz/ 10mL Eau de Toilette ROLLERBALL                                    6\n",
              " - 0.25 oz/ 7.5 mL Eau de Parfum Travel Spray                                                                               7\n",
              " - 0.33 oz/ 10 mL Eau de Parfum Spray                                                                                       9\n",
              " - 0.34 oz/ 10 mL Eau de Parfum Travel Spray                                                                               10\n",
              "no options                                                                                                               4776\n",
              "Name: options, Length: 244, dtype: int64"
            ]
          },
          "metadata": {}
        },
        {
          "output_type": "stream",
          "name": "stdout",
          "text": [
            "\n",
            "==========details==========\n"
          ]
        },
        {
          "output_type": "display_data",
          "data": {
            "text/plain": [
              "What it is:  A facial mask that helps visibly firm and smooth skin overnight.Skin Type: Normal and Dry Skincare Concerns: Loss of firmness and elasticityFormulation: MaskHighlighted Ingredients:- Botanical Hibiscus and Ginger Leaf: Smooth and firm the appearance of skin.  Ingredient Callouts: This product is free of sulfates SLS and SLES- parabens. It features recyclable packaging. What Else You Need to Know: This face mask helps skin feel firmer and smoother overnight. The richly textured formula is infused with ginger leaf and hibiscus- whose flowers close and preserve its nectar overnight. This mask also helps to visibly reduce the appearance of fine lines over time.                                                                                                                                                                                                                                                                                                                                                                                     1\n",
              "Which hair type is it good for?\\n✔ Straight\\n✔ Wavy\\n✔ Curly\\n✔ Coiled\\n✔ Tightly Coiled\\n\\nWhat it is:\\n A dry cleansing spray that absorbs oil- buildup- and odor to leave hair instantly refreshed and cleansed- without leaving a dull- chalky residue.\\n\\nKey Benefits:\\n- Maintains the natural richness of dark-colored hair\\n- Instantly cleanses and refreshes for that just-left-the-salon feel\\n- Deodorizes- leaving behind the signature Moroccanoil scent\\n\\nIf you want to know more…\\nMoroccanoil®’s Dry Shampoo Dark Tones instantly cleanses and refreshes- thanks to ultra-fine rice starch that absorbs excess oil and product buildup. Formulated for dark hair tones- it maintains the natural richness of dark-colored hair- without leaving a dull- chalky residue. This argan oil-infused dry shampoo protects from UV rays- while deodorizing and leaving your hair with the signature Moroccanoil scent.\\n\\nWhat it is formulated WITHOUT:\\n- Parabens\\n- Phthalates                                                                                            1\n",
              "What it is:  A refreshing- light- and smooth gel cream that pre-emptively targets the causes of discoloration.Skin Type: Normal- Dry- Combination- and Oily Skincare Concerns: Dark Spots- Fine Lines and Wrinkles- and Dullness and Uneven TextureFormulation: Gel Highlighted Ingredients:- ReNeura Technology+™: Helps skin to self-repair damage and improve the appearance of spots- discoloration- and signs of aging.- SAKURA-Bright Complex: Promotes brightening.  Ingredient Callouts: Free of sulfates SLS and SLES- parabens- and phthalates. What Else You Need to Know:  This refreshing moisturizing gel cream visibly brightens skin and diminishes the look of dark spots and unevenness. Skin is left looking bright- vibrant- dewy- and filled with moisture. It helps protect skin from pollen and air pollutants- while providing all day moisture to improve the appearance dryness and fine lines.Clinical Results: After 4 weeks use:- 90% said that immediately skin became brighter- 96% said it makes skin soft and supple- 89% said it improves dark spots     1\n",
              "What it is:\\n A broad-spectrum SPF 25 Hand Cream.\\n\\nWhat it does:\\n Your hands are the first to reveal your age. Keep them guessing with this award-winning cream formulated with shea butter- avocado- and jojoba oil. A botanical brightening complex helps to even skin tone while a broad-spectrum sunscreen protects against the sun's harmful rays. \\nWhat it is formulated WITHOUT:\\n- Parabens\\n- Sulfates \\n\\nWhat else you need to know:\\nRich Girl is not tested on animals. The non-greasy formula absorbs quickly.\\n                                                                                                                                                                                                                                                                                                                                                                                                                                                                                                                                                         1\n",
              "What it is: A felt-tip liquid eyeliner pen.What it does: This super-fine tip pen allows for precise application and versatility in line width for a variety of looks. The rich- highly pigmented color glides on smoothly and effortlessly for intense payoff that dries down quickly and stays put without smudging for up to 24 hours.What else you need to know:This product is ophthalmologist tested.The non-staining formula does not flake after application and can be easily removed.\\n                                                                                                                                                                                                                                                                                                                                                                                                                                                                                                                                                                                           1\n",
              "                                                                                                                                                                                                                                                                                                                                                                                                                                                                                                                                                                                                                                                                                                                                                                                                                                                                                                                                                                                                                                                                                          ..\n",
              "Fragrance Family: Earthy & WoodyScent Type: Warm WoodsKey Notes: Sandalwood- Vetiver- Amber WoodAbout: Maison Louis Marie composes delicate scents to enchant your lifestyle with a botanical tradition since 1792. This scent is a sandalwood fragrance with a dominant cedarwood and sandalwood accord supplemented by a spicy cinnamon nutmeg complex and an earthy vetiver note.What else you need to know: Louis Marie Aubert du Petit Thouars was a pioneer in French botanical history. Marie du Petit Thouars continues his legacy by creating luxurious products that focus on illustrious scents imbued with unique floral fragrances. All of her creations are phthalate-- paraben-- sulfate- and cruelty-free.Clean at Sephora\\nClean at Sephora is formulated without a list of over 50 ingredients- including sulfates (SLS and SLES)- parabens- phthalates- and more. For the full list- check out the Ingredients tab.                                                                                                                                                     3\n",
              "Fragrance Family: Florals Scent Type: Warm Florals Key Notes: Wild Iris- Blackcurrant- Patchouli HeartFragrance Description: Maya is a warm floral fragrance that exudes strength of character. A tribute to fierce femininity- Maya is a rare joining of daring florals- iris- and sweet violet leaf with elegant earthy blackcurrant and patchouli heart. It’s a thoughtful indulgence for the inspiring visionary. About the Bottle: This iconic perfume bottle is inspired by the beauty of antique crystal. The decorated cap is hand finished- no two are the same. Discover TOCCA’s brand motto- \"Love yourself\" as a hidden message on every product.About the Fragrance: TOCCA celebrates the art of indulgence and is inspired by old world romance and charm.                                                                                                                                                                                                                                                                                                                   3\n",
              "Fragrance Family: Earthy & WoodyScent Type: Classic WoodsKey Notes: Hinoki Wood- Cedarwood- White MuskAbout: Maison Louis Marie composes delicate scents to enchant your lifestyle with a botanical tradition since 1792. This scent is a savory mixture of hinoki wood accord underlined by notes of cedarwood and patchouli with a strong amber character.What else you need to know: Louis Marie Aubert du Petit Thouars was a pioneer in French botanical history. Marie du Petit Thouars continues his legacy by creating luxurious products that focus on illustrious scents imbued with unique floral fragrances. All of her creations are phthalate-- paraben-- sulfate-- and cruelty-free. Clean at Sephora\\nClean at Sephora is formulated without a list of over 50 ingredients- including sulfates (SLS and SLES)- parabens- phthalates- and more. For the full list- check out the Ingredients tab.                                                                                                                                                                           3\n",
              "Fragrance Family: Fresh \\nScent Type: Fresh Citrus & Fruits\\nKey Notes: Tunisian Neroli- Italian Bergamot- Sicilian Lemon- Winter Yellow Mandarin- Orange Flower- Lavender\\nFragrance Description: Vibrant. Sparkling. Transportive. To Tom Ford- this scent perfectly captures the cool breezes- sparkling clear water- and lush foliage of the Italian Riviera. His reinvention of a classic eau de cologne features crisp citrus oils- surprising floral notes- and amber undertones to leave a splashy yet substantive impression.                                                                                                                                                                                                                                                                                                                                                                                                                                                                                                                                                     6\n",
              "no details                                                                                                                                                                                                                                                                                                                                                                                                                                                                                                                                                                                                                                                                                                                                                                                                                                                                                                                                                                                                                                                                                14\n",
              "Name: details, Length: 4983, dtype: int64"
            ]
          },
          "metadata": {}
        },
        {
          "output_type": "stream",
          "name": "stdout",
          "text": [
            "\n",
            "==========how_to_use==========\n"
          ]
        },
        {
          "output_type": "display_data",
          "data": {
            "text/plain": [
              "Suggested Usage:-Apply to the skin- ideally after a bath or shower.                                                                                                                                                                                                                                                                                                                                                                                                                                                                                                                                                                                                                                                                                                                                1\n",
              "Suggested Usage:-Use twice daily- day and night.\\n-Gently massage cleanser in circular motions on wet skin.\\n-Rinse thoroughly with warm water. \\n-Follow with a toner and moisturizer/night cream. For best results- use Special Cucumber Lotion (sold separately) after cleansing.\\n                                                                                                                                                                                                                                                                                                                                                                                                                                                                                                             1\n",
              "Suggested Usage:-Using the Camouflage Powder Brush (sold separately)- pat over makeup or onto eyelids. Don't drag the brush over skin. Precautions:-Because this powder contains white pigment- don't use it on the entire face. Keep to areas to be lightened and brightened around the eyes.                                                                                                                                                                                                                                                                                                                                                                                                                                                                                                     1\n",
              "Suggested Usage:\\n-Apply to the lower inner rim and inner corner of the eyes for a wide-awake effect.\\n-Use to sculpt and underscore the brow for balanced dimension and a bright- youthful look.\\n-Use the built-in smudger to soften and blend.\\n-For enhanced drama- pair it with sex kitten eyeliner- applying the black liner on the upper and lower lash line. \\n-On the lower lash line- blend the edges with your inner rim highlight for the most natural look.  \\n                                                                                                                                                                                                                                                                                                                       1\n",
              "Suggested Usage:-Pour the entire bottle of solution over the pads and discard bottle.\\n-Every night after cleansing- gently wipe one pad once over face- neck- and hands.\\nPrecautions:-If irritation occurs- apply every other day. \\n-Avoid contact with eyes. If contact occurs- flush with water.\\n-This product contains retinol that may increase your skin’s sensitivity to the sun and particularly the possibility of sunburn. Use a sunscreen while using this product and for a week afterwards. \\n-May not be suitable for sensitive skin.                                                                                                                                                                                                                                             1\n",
              "                                                                                                                                                                                                                                                                                                                                                                                                                                                                                                                                                                                                                                                                                                                                                                                                ... \n",
              "Suggested Usage:-Just spritz and waft. -To make fragrance last longer- make sure your skin is well hydrated and don’t press wrists together after application.                                                                                                                                                                                                                                                                                                                                                                                                                                                                                                                                                                                                                                    10\n",
              "Suggested Usage:-When applying your fragrance to your wrist- tap your wrists together (don't rub) to help make the scent last longer. -Spray the perfume into the air and walk directly through to gently and safely work the scent into your hair and clothing. Your hair and clothing tend to hold fragrance even longer than your skin. -Layer multiple Skylar fragrances together to create different possibilities and make your fragrance last even longer. -Replace fragrance after 12 months. -Expired perfumes more than a year old lose the integrity of the original scent.                                                                                                                                                                                                            12\n",
              "Suggested Usage:\\n-Fragrance is intensified by the warmth of your own body. Apply in the creases of your knees and elbows for a longer-lasting- stronger scent. \\n-After applying- avoid rubbing or dabbing skin. This breaks down the fragrance- causing it to wear off more quickly. \\n-If you prefer placing fragrance on your wrists- be sure to reapply after frequent hand-washing- as this tends to rinse off the scent. \\n-Replace fragrance after 12 months. Expired perfumes more than a year old lose the integrity of the original scent.\\n\\n Eau de Toilette or Eau de Parfum?:\\nThe difference lies in the volume of perfume oil. While EDT contains five to nine percent- EDP contains more- usually eight to 14 percent. EDPs- therefore- last longer and smell more intense.     19\n",
              "Suggested Usage:-Fragrance is intensified by the warmth of your own body. Apply in the creases of your knees and elbows for a longer-lasting- stronger scent. -After applying- avoid rubbing or dabbing skin. This breaks down the fragrance- causing it to wear off more quickly. -If you prefer placing fragrance on your wrists- be sure to reapply after frequent hand-washing- as this tends to rinse off the scent. -Replace fragrance after 12 months. Expired perfumes more than a year old lose the integrity of the original scent. Eau de Toilette or Eau de Parfum?: The difference lies in the volume of perfume oil. While EDT contains five to nine percent- EDP contains more- usually eight to 14 percent. EDPs- therefore- last longer and smell more intense.                 150\n",
              "no instructions                                                                                                                                                                                                                                                                                                                                                                                                                                                                                                                                                                                                                                                                                                                                                                                  837\n",
              "Name: how_to_use, Length: 3834, dtype: int64"
            ]
          },
          "metadata": {}
        },
        {
          "output_type": "stream",
          "name": "stdout",
          "text": [
            "\n",
            "==========ingredients==========\n"
          ]
        },
        {
          "output_type": "display_data",
          "data": {
            "text/plain": [
              "Alcohol Denat.- Fragrance- Water- Glycerin- Aloe Barbadensis Leaf Juice- Phenoxyethanol- Coumarin- Citral- Benzyl Benzoate- Linalool- Limonene- Geraniol- Benzyl Salicylate- Citronellol.                                                                                                                                                                                                                                                                                                                                                                                                                                                                                                                                                                                                                                                                                                                                                                                                                                                                                                                                                                                                                                                                                                                                                                                                                                                                                                                                                                                                                                                                                                                                                                                                                                                                                                                                                                                                                                                                                                                1\n",
              "Cyclopentasiloxane- Dimethicone- Hdi/Trimethylol Hexyllactone Crosspolymer- Silica- Isononyl Isononanoate- Isododecane- Dimethicone/Vinyl Dimethicone Crosspolymer- Vinyl Dimethicone/Methicone Silsesquioxane Crosspolymer- Polymethyl Methacrylate- Lauroyl Lysine- Tocopheryl Acetate- Ethylhexylglycerin- Phytosteryl/Octyldodecyl Lauroyl Glutamate- Hydrolyzed Soy Protein- Methicone- Stearyl Glycyrrhetinate- Water\\Aqua\\Eau- Coconut Acid- Phenoxyethanol- Mica- Titanium Dioxide (Ci 77891)- Iron Oxides (Ci 77491- Ci 77492- Ci 77499).                                                                                                                                                                                                                                                                                                                                                                                                                                                                                                                                                                                                                                                                                                                                                                                                                                                                                                                                                                                                                                                                                                                                                                                                                                                                                                                                                                                                                                                                                                                                                       1\n",
              " -Spirulina extract of natural origin.Water- Glycerin- Disiloxane- Propanediol- Acrylates Copolymer- Cocamidopropyl Betaine- Disodium Cocoamphodiacetate- Decyl Glucoside- 1-2-Hexanediol- Sodium Chloride- Hydroxyacetophenone- Fragrance- Potassium Olivate- Arginine- Phenoxyethanol- Ethylhexylglycerin- Aloe Barbadensis Leaf Extract- Disodium EDTA- Benzyl Alcohol- Hexylene Glycol- Spirulina Platensis Extract- Bioflavonoids- Sodium Benzoate- Malic Acid- Brassica Oleracea Italica (Broccoli) Extract- Potassium Sorbate- Tocopherol- Maltodextrin- Persea Gratissima (Avocado) Fruit Extract.                                                                                                                                                                                                                                                                                                                                                                                                                                                                                                                                                                                                                                                                                                                                                                                                                                                                                                                                                                                                                                                                                                                                                                                                                                                                                                                                                                                                                                                                                               1\n",
              " -Mica-infused Powder: Creates an even finish and adds sublime radiance to the under-eye area.-Proprietary Powder Blend: Gives a barely there feel with a unique- sensorial application.Synthetic Fluorphlogopite- Silica- Caprylic/Capric Triglyceride- Mica- Octyldodecyl Stearoyl Stearate- Zea Mays (Corn) Starch- Potassium Sorbate- Dehydroacetic Acid- Benzyl Alcohol- Xanthan Gum- Water / Aqua / Eau- Iron Oxides (Ci 77491- Ci 77492- Ci 77499).                                                                                                                                                                                                                                                                                                                                                                                                                                                                                                                                                                                                                                                                                                                                                                                                                                                                                                                                                                                                                                                                                                                                                                                                                                                                                                                                                                                                                                                                                                                                                                                                                                               1\n",
              "Hydrogenated Polyisobutene- Macadamia Ternifolia Seed Oil- Diisostearyl Malate- Ethylhexyl Palmitate- Polyethylene- Phytosteryl/Isostearyl/Cetyl/Stearyl/Behenyl Dimer Dilinoleate- Triethylhexanoin- Ceresin- Silica Dimethyl Silylate- Aluminum Hydroxide- Tocopherol- Simethicone- Bht- Mica (Ci 77019)- Titanium Dioxide (Ci 77891)- Iron Oxides (Ci 77492)- Yellow 5 Lake (Ci 19140:1)- Red 7 (Ci 15850:1)- Iron Oxides (Ci 77491)- Églantine- Bandy- Hevyn\\nHydrogenated Polyisobutene- Macadamia Ternifolia Seed Oil- Diisostearyl Malate- Ethylhexyl Palmitate- Polyethylene- Phytosteryl/Isostearyl/Cetyl/Stearyl/Behenyl Dimer Dilinoleate- Triethylhexanoin- Ceresin- Silica Dimethyl Silylate- Aluminum Hydroxide- Tocopherol- Simethicone- Bht- Titanium Dioxide (Ci 77891)- Mica (Ci 77019)- Iron Oxides (Ci 77491)- \\nIron Oxides (Ci 77492)- Red 7(01 15850:1)- Iron Oxides (Ci 77499).                                                                                                                                                                                                                                                                                                                                                                                                                                                                                                                                                                                                                                                                                                                                                                                                                                                                                                                                                                                                                                                                                                                                                                                                  1\n",
              "                                                                                                                                                                                                                                                                                                                                                                                                                                                                                                                                                                                                                                                                                                                                                                                                                                                                                                                                                                                                                                                                                                                                                                                                                                                                                                                                                                                                                                                                                                                                                                                                                                                                                                                                                                                                                                                                                                                                                                                                                                                                                                      ... \n",
              " -Argan Oil: Restores elasticity- smoothness- and manageability to hair.\\n-Glycerin: Natural humectant; provides hair moisturizing benefits.\\n-Cocamide Mea: Made from fatty acids derived from coconut oil.\\n-Tilia Tomentosa Bud Extract (Linden Bud Extract): Naturally plumps up the hair as it conditions.\\n\\n Water- Dimethicone- Cetearyl Alcohol- Fragrance- Behentrimonium Chloride- Canola Oil- Argania Spinosa (Argan) Kernel Oil- Nasturtium Officinale Leaf Extract- Allium Sativum (Garlic) Bulb Extract- Lamium Album Flower Extract- Pinus Sylvestris Bud Extract- Arctium Lappa Root Extract- Anthemis Nobilis Flower Extract- Rosmarinus Officinalis (Rosemary) Leaf Extract- Hedera Helix (Ivy) Extract- Arnica Montana Flower Extract- Tilia Tomentosa Bud Extract- Hydrolyzed Vegetable Protein Pg-Propyl Silanetriol- Glycerin- Propylene Glycol- Caprylyl Glycol- Isopropyl Alcohol- Citric Acid- Disodium Edta- Chlorphenesin- Phenoxyethanol- Sodium Benzoate- Potassium Sorbate- Butylphenyl Methylpropional- Hydroxyisohexyl 3- Cyclohexene Carboxaldehyde- Linalool- Alpha-Isomethyl Ionone.                                                                                                                                                                                                                                                                                                                                                                                                                                                                                                                                                                                                                                                                                                                                                                                                                                                                                                                                                                                 4\n",
              "\\nClean at Sephora products are formulated without:\\nSulfates—SLS + SLES- Parabens- Formaldehydes- Formaldehyde-releasing agents- Phthalates- Mineral Oil- Retinyl Palmitate- Oxybenzone- Coal Tar- Hydroquinone- Triclosan- Triclocarban- Undisclosed synthetic fragrances (Products can be formulated with disclosed synthetic fragrances that meet the following two criteria: (1) the synthetic fragrances do not include any of the ingredients listed in numbers 1 through 12 above and (2) the synthetic fragrances are at a concentration below 1% of the total formula) The following type of acrylates: (ethyl acrylate- ethyl methacrylate- methyl methacrylate- butyl methacrylate- hydroxypropyl methacrylate- tetrahydrofurfuryl methacrylate- trimethylolpropane trimethacrylate - aluminum salts)- Animal Oils/Musks/Fats- Benzophenone + Related Compounds- Butoxyethanol- Carbon Black- Lead/Lead Acetate- Methyl Cellosolve + Methoxyethanol- Methylchloroisothiazolinone & Methylisothiazolinone- Mercury + Mercury Compounds (Thimerisol)- Insoluble Plastic Microbeads (This prohibited ingredient applies to products that are meant to be rinsed off )- Resorcinol- Talc (Talc that is free of any asbestos can be used in the formulation provided that Brand conducts testing to ensure that talc is free of any asbestos.)- Toluene- Butylated hydroxyanisole (BHA)- Butylated hydroxytoluene (BHT) that is 0.1% or more of total formula- Ethanolamines DEA/TEA/MEA/ETA- Nanoparticles as defined by the European Commission- Petrolatum and Parrafin that is not USP grade- Phenoxyethanol that is 1% or more of total formulation- Polyacrylamide & Acrylamide- The following types of Styrene (Bromostyrene- Deastyrene/acrylates/dvbcopolymer- sodium styrene/divinylbenzene copolymer - styrene oxide- styrene)- 1-4 Dioxane in final formulas must comply with the thresholds as follows: (10 or < ppm for products that are meant to be rinsed off- wiped off or removed- 3ppm or < for products that are meant to remain on the skin).                               5\n",
              "Safflower Oil- Fragrance.\\nClean at Sephora products are formulated without:\\nSulfates—SLS + SLES- Parabens- Formaldehydes- Formaldehyde-releasing agents- Phthalates- Mineral Oil- Retinyl Palmitate- Oxybenzone- Coal Tar- Hydroquinone- Triclosan- Triclocarban- Undisclosed synthetic fragrances (Products can be formulated with disclosed synthetic fragrances that meet the following two criteria: (1) the synthetic fragrances do not include any of the ingredients listed in numbers 1 through 12 above and (2) the synthetic fragrances are at a concentration below 1% of the total formula) The following type of acrylates: (ethyl acrylate- ethyl methacrylate- methyl methacrylate- butyl methacrylate- hydroxypropyl methacrylate- tetrahydrofurfuryl methacrylate- trimethylolpropane trimethacrylate - aluminum salts)- Animal Oils/Musks/Fats- Benzophenone + Related Compounds- Butoxyethanol- Carbon Black- Lead/Lead Acetate- Methyl Cellosolve + Methoxyethanol- Methylchloroisothiazolinone & Methylisothiazolinone- Mercury + Mercury Compounds (Thimerisol)- Insoluble Plastic Microbeads (This prohibited ingredient applies to products that are meant to be rinsed off )- Resorcinol- Talc (Talc that is free of any asbestos can be used in the formulation provided that Brand conducts testing to ensure that talc is free of any asbestos.)- Toluene- Butylated hydroxyanisole (BHA)- Butylated hydroxytoluene (BHT) that is 0.1% or more of total formula- Ethanolamines DEA/TEA/MEA/ETA- Nanoparticles as defined by the European Commission- Petrolatum and Parrafin that is not USP grade- Phenoxyethanol that is 1% or more of total formulation- Polyacrylamide & Acrylamide- The following types of Styrene (Bromostyrene- Deastyrene/acrylates/dvbcopolymer- sodium styrene/divinylbenzene copolymer - styrene oxide- styrene)- 1-4 Dioxane in final formulas must comply with the thresholds as follows: (10 or < ppm for products that are meant to be rinsed off- wiped off or removed- 3ppm or < for products that are meant to remain on the skin).      5\n",
              "Clean at Sephora products are formulated without:\\nSulfates—SLS + SLES- Parabens- Formaldehydes- Formaldehyde-releasing agents- Phthalates- Mineral Oil- Retinyl Palmitate- Oxybenzone- Coal Tar- Hydroquinone- Triclosan- Triclocarban- Undisclosed synthetic fragrances (Products can be formulated with disclosed synthetic fragrances that meet the following two criteria: (1) the synthetic fragrances do not include any of the ingredients listed in numbers 1 through 12 above and (2) the synthetic fragrances are at a concentration below 1% of the total formula) The following type of acrylates: (ethyl acrylate- ethyl methacrylate- methyl methacrylate- butyl methacrylate- hydroxypropyl methacrylate- tetrahydrofurfuryl methacrylate- trimethylolpropane trimethacrylate - aluminum salts)- Animal Oils/Musks/Fats- Benzophenone + Related Compounds- Butoxyethanol- Carbon Black- Lead/Lead Acetate- Methyl Cellosolve + Methoxyethanol- Methylchloroisothiazolinone & Methylisothiazolinone- Mercury + Mercury Compounds (Thimerisol)- Insoluble Plastic Microbeads (This prohibited ingredient applies to products that are meant to be rinsed off )- Resorcinol- Talc (Talc that is free of any asbestos can be used in the formulation provided that Brand conducts testing to ensure that talc is free of any asbestos.)- Toluene- Butylated hydroxyanisole (BHA)- Butylated hydroxytoluene (BHT) that is 0.1% or more of total formula- Ethanolamines DEA/TEA/MEA/ETA- Nanoparticles as defined by the European Commission- Petrolatum and Parrafin that is not USP grade- Phenoxyethanol that is 1% or more of total formulation- Polyacrylamide & Acrylamide- The following types of Styrene (Bromostyrene- Deastyrene/acrylates/dvbcopolymer- sodium styrene/divinylbenzene copolymer - styrene oxide- styrene)- 1-4 Dioxane in final formulas must comply with the thresholds as follows: (10 or < ppm for products that are meant to be rinsed off- wiped off or removed- 3ppm or < for products that are meant to remain on the skin).                                35\n",
              "unknown                                                                                                                                                                                                                                                                                                                                                                                                                                                                                                                                                                                                                                                                                                                                                                                                                                                                                                                                                                                                                                                                                                                                                                                                                                                                                                                                                                                                                                                                                                                                                                                                                                                                                                                                                                                                                                                                                                                                                                                                                                                                                                844\n",
              "Name: ingredients, Length: 4041, dtype: int64"
            ]
          },
          "metadata": {}
        },
        {
          "output_type": "stream",
          "name": "stdout",
          "text": [
            "\n",
            "==========online_only==========\n"
          ]
        },
        {
          "output_type": "display_data",
          "data": {
            "text/plain": [
              "1    1326\n",
              "0    3785\n",
              "Name: online_only, dtype: int64"
            ]
          },
          "metadata": {}
        },
        {
          "output_type": "stream",
          "name": "stdout",
          "text": [
            "\n",
            "==========exclusive==========\n"
          ]
        },
        {
          "output_type": "display_data",
          "data": {
            "text/plain": [
              "1    1318\n",
              "0    3793\n",
              "Name: exclusive, dtype: int64"
            ]
          },
          "metadata": {}
        },
        {
          "output_type": "stream",
          "name": "stdout",
          "text": [
            "\n",
            "==========limited_edition==========\n"
          ]
        },
        {
          "output_type": "display_data",
          "data": {
            "text/plain": [
              "0    5111\n",
              "Name: limited_edition, dtype: int64"
            ]
          },
          "metadata": {}
        },
        {
          "output_type": "stream",
          "name": "stdout",
          "text": [
            "\n",
            "==========limited_time_offer==========\n"
          ]
        },
        {
          "output_type": "display_data",
          "data": {
            "text/plain": [
              "0    5111\n",
              "Name: limited_time_offer, dtype: int64"
            ]
          },
          "metadata": {}
        },
        {
          "output_type": "stream",
          "name": "stdout",
          "text": [
            "\n"
          ]
        }
      ]
    },
    {
      "cell_type": "markdown",
      "metadata": {
        "id": "wOE2CeIGI05G"
      },
      "source": [
        "# Gaining insight"
      ]
    },
    {
      "cell_type": "markdown",
      "metadata": {
        "id": "9BLZwQMpqMhv"
      },
      "source": [
        "## Question 1"
      ]
    },
    {
      "cell_type": "markdown",
      "metadata": {
        "id": "LB8djGJ8Tg4H"
      },
      "source": [
        "![image.png](data:image/png;base64,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)"
      ]
    },
    {
      "cell_type": "code",
      "metadata": {
        "colab": {
          "base_uri": "https://localhost:8080/",
          "height": 358
        },
        "id": "aKjVvWh6I4qV",
        "outputId": "cca3390d-3958-46e2-e6aa-1d2f7d9cfe23"
      },
      "source": [
        "df1 = df_sephora[df_sephora['online_only']==1].reset_index()\n",
        "df1= df1.groupby(['brand','category']).agg({'online_only':'count'}).sort_values('online_only',ascending=False).reset_index()\n",
        "df1.head(10)"
      ],
      "execution_count": null,
      "outputs": [
        {
          "output_type": "execute_result",
          "data": {
            "text/html": [
              "<div>\n",
              "<style scoped>\n",
              "    .dataframe tbody tr th:only-of-type {\n",
              "        vertical-align: middle;\n",
              "    }\n",
              "\n",
              "    .dataframe tbody tr th {\n",
              "        vertical-align: top;\n",
              "    }\n",
              "\n",
              "    .dataframe thead th {\n",
              "        text-align: right;\n",
              "    }\n",
              "</style>\n",
              "<table border=\"1\" class=\"dataframe\">\n",
              "  <thead>\n",
              "    <tr style=\"text-align: right;\">\n",
              "      <th></th>\n",
              "      <th>brand</th>\n",
              "      <th>category</th>\n",
              "      <th>online_only</th>\n",
              "    </tr>\n",
              "  </thead>\n",
              "  <tbody>\n",
              "    <tr>\n",
              "      <th>0</th>\n",
              "      <td>VOLUSPA</td>\n",
              "      <td>Candles &amp; Home Scents</td>\n",
              "      <td>19</td>\n",
              "    </tr>\n",
              "    <tr>\n",
              "      <th>1</th>\n",
              "      <td>The Ordinary</td>\n",
              "      <td>Face Serums</td>\n",
              "      <td>15</td>\n",
              "    </tr>\n",
              "    <tr>\n",
              "      <th>2</th>\n",
              "      <td>Kitsch</td>\n",
              "      <td>Hair Accessories</td>\n",
              "      <td>11</td>\n",
              "    </tr>\n",
              "    <tr>\n",
              "      <th>3</th>\n",
              "      <td>ALTERNA Haircare</td>\n",
              "      <td>Hair Styling Products</td>\n",
              "      <td>10</td>\n",
              "    </tr>\n",
              "    <tr>\n",
              "      <th>4</th>\n",
              "      <td>Vitruvi</td>\n",
              "      <td>Holistic Wellness</td>\n",
              "      <td>10</td>\n",
              "    </tr>\n",
              "    <tr>\n",
              "      <th>5</th>\n",
              "      <td>Marvis</td>\n",
              "      <td>Teeth Whitening</td>\n",
              "      <td>9</td>\n",
              "    </tr>\n",
              "    <tr>\n",
              "      <th>6</th>\n",
              "      <td>Viseart</td>\n",
              "      <td>Eye Palettes</td>\n",
              "      <td>8</td>\n",
              "    </tr>\n",
              "    <tr>\n",
              "      <th>7</th>\n",
              "      <td>Moon Juice</td>\n",
              "      <td>Beauty Supplements</td>\n",
              "      <td>8</td>\n",
              "    </tr>\n",
              "    <tr>\n",
              "      <th>8</th>\n",
              "      <td>Mount Lai</td>\n",
              "      <td>Facial Rollers</td>\n",
              "      <td>7</td>\n",
              "    </tr>\n",
              "    <tr>\n",
              "      <th>9</th>\n",
              "      <td>Sachajuan</td>\n",
              "      <td>Shampoo</td>\n",
              "      <td>7</td>\n",
              "    </tr>\n",
              "  </tbody>\n",
              "</table>\n",
              "</div>"
            ],
            "text/plain": [
              "              brand               category  online_only\n",
              "0           VOLUSPA  Candles & Home Scents           19\n",
              "1      The Ordinary            Face Serums           15\n",
              "2            Kitsch       Hair Accessories           11\n",
              "3  ALTERNA Haircare  Hair Styling Products           10\n",
              "4           Vitruvi      Holistic Wellness           10\n",
              "5            Marvis        Teeth Whitening            9\n",
              "6           Viseart           Eye Palettes            8\n",
              "7        Moon Juice     Beauty Supplements            8\n",
              "8         Mount Lai         Facial Rollers            7\n",
              "9         Sachajuan                Shampoo            7"
            ]
          },
          "metadata": {},
          "execution_count": 393
        }
      ]
    },
    {
      "cell_type": "code",
      "metadata": {
        "colab": {
          "base_uri": "https://localhost:8080/",
          "height": 542
        },
        "id": "Q6EEuXvGUOih",
        "outputId": "84f5e413-8bd0-49bb-e5bf-f8f36caf4830"
      },
      "source": [
        "px.bar(df1.groupby(['category']).agg({'online_only':'sum'}).sort_values('online_only',ascending=False).reset_index().head(10), x='category',y='online_only',title='Category with the most sales')"
      ],
      "execution_count": null,
      "outputs": [
        {
          "output_type": "display_data",
          "data": {
            "text/html": [
              "<html>\n",
              "<head><meta charset=\"utf-8\" /></head>\n",
              "<body>\n",
              "    <div>\n",
              "            <script src=\"https://cdnjs.cloudflare.com/ajax/libs/mathjax/2.7.5/MathJax.js?config=TeX-AMS-MML_SVG\"></script><script type=\"text/javascript\">if (window.MathJax) {MathJax.Hub.Config({SVG: {font: \"STIX-Web\"}});}</script>\n",
              "                <script type=\"text/javascript\">window.PlotlyConfig = {MathJaxConfig: 'local'};</script>\n",
              "        <script src=\"https://cdn.plot.ly/plotly-latest.min.js\"></script>    \n",
              "            <div id=\"0b438f60-6999-4b1c-92f6-3c0a0db2ecc5\" class=\"plotly-graph-div\" style=\"height:525px; width:100%;\"></div>\n",
              "            <script type=\"text/javascript\">\n",
              "                \n",
              "                    window.PLOTLYENV=window.PLOTLYENV || {};\n",
              "                    \n",
              "                if (document.getElementById(\"0b438f60-6999-4b1c-92f6-3c0a0db2ecc5\")) {\n",
              "                    Plotly.newPlot(\n",
              "                        '0b438f60-6999-4b1c-92f6-3c0a0db2ecc5',\n",
              "                        [{\"alignmentgroup\": \"True\", \"hoverlabel\": {\"namelength\": 0}, \"hovertemplate\": \"category=%{x}<br>online_only=%{y}\", \"legendgroup\": \"\", \"marker\": {\"color\": \"#636efa\"}, \"name\": \"\", \"offsetgroup\": \"\", \"orientation\": \"v\", \"showlegend\": false, \"textposition\": \"auto\", \"type\": \"bar\", \"x\": [\"Face Serums\", \"Moisturizers\", \"Candles & Home Scents\", \"Hair Styling Products\", \"Shampoo\", \"Face Wash & Cleansers\", \"Conditioner\", \"Beauty Supplements\", \"Body Lotions & Body Oils\", \"Face Masks\"], \"xaxis\": \"x\", \"y\": [66, 61, 57, 53, 52, 45, 41, 37, 35, 34], \"yaxis\": \"y\"}],\n",
              "                        {\"barmode\": \"relative\", \"legend\": {\"tracegroupgap\": 0}, \"template\": {\"data\": {\"bar\": [{\"error_x\": {\"color\": \"#2a3f5f\"}, \"error_y\": {\"color\": \"#2a3f5f\"}, \"marker\": {\"line\": {\"color\": \"#E5ECF6\", \"width\": 0.5}}, \"type\": \"bar\"}], \"barpolar\": [{\"marker\": {\"line\": {\"color\": \"#E5ECF6\", \"width\": 0.5}}, \"type\": \"barpolar\"}], \"carpet\": [{\"aaxis\": {\"endlinecolor\": \"#2a3f5f\", \"gridcolor\": \"white\", \"linecolor\": \"white\", \"minorgridcolor\": \"white\", \"startlinecolor\": \"#2a3f5f\"}, \"baxis\": {\"endlinecolor\": \"#2a3f5f\", \"gridcolor\": \"white\", \"linecolor\": \"white\", \"minorgridcolor\": \"white\", \"startlinecolor\": \"#2a3f5f\"}, \"type\": \"carpet\"}], \"choropleth\": [{\"colorbar\": {\"outlinewidth\": 0, \"ticks\": \"\"}, \"type\": \"choropleth\"}], \"contour\": [{\"colorbar\": {\"outlinewidth\": 0, \"ticks\": \"\"}, \"colorscale\": [[0.0, \"#0d0887\"], [0.1111111111111111, \"#46039f\"], [0.2222222222222222, \"#7201a8\"], [0.3333333333333333, \"#9c179e\"], [0.4444444444444444, \"#bd3786\"], [0.5555555555555556, \"#d8576b\"], [0.6666666666666666, \"#ed7953\"], [0.7777777777777778, \"#fb9f3a\"], [0.8888888888888888, \"#fdca26\"], [1.0, \"#f0f921\"]], \"type\": \"contour\"}], \"contourcarpet\": [{\"colorbar\": {\"outlinewidth\": 0, \"ticks\": \"\"}, \"type\": \"contourcarpet\"}], \"heatmap\": [{\"colorbar\": {\"outlinewidth\": 0, \"ticks\": \"\"}, \"colorscale\": [[0.0, \"#0d0887\"], [0.1111111111111111, \"#46039f\"], [0.2222222222222222, \"#7201a8\"], [0.3333333333333333, \"#9c179e\"], [0.4444444444444444, \"#bd3786\"], [0.5555555555555556, \"#d8576b\"], [0.6666666666666666, \"#ed7953\"], [0.7777777777777778, \"#fb9f3a\"], [0.8888888888888888, \"#fdca26\"], [1.0, \"#f0f921\"]], \"type\": \"heatmap\"}], \"heatmapgl\": [{\"colorbar\": {\"outlinewidth\": 0, \"ticks\": \"\"}, \"colorscale\": [[0.0, \"#0d0887\"], [0.1111111111111111, \"#46039f\"], [0.2222222222222222, \"#7201a8\"], [0.3333333333333333, \"#9c179e\"], [0.4444444444444444, \"#bd3786\"], [0.5555555555555556, \"#d8576b\"], [0.6666666666666666, \"#ed7953\"], [0.7777777777777778, \"#fb9f3a\"], [0.8888888888888888, \"#fdca26\"], [1.0, \"#f0f921\"]], \"type\": \"heatmapgl\"}], \"histogram\": [{\"marker\": {\"colorbar\": {\"outlinewidth\": 0, \"ticks\": \"\"}}, \"type\": \"histogram\"}], \"histogram2d\": [{\"colorbar\": {\"outlinewidth\": 0, \"ticks\": \"\"}, \"colorscale\": [[0.0, \"#0d0887\"], [0.1111111111111111, \"#46039f\"], [0.2222222222222222, \"#7201a8\"], [0.3333333333333333, \"#9c179e\"], [0.4444444444444444, \"#bd3786\"], [0.5555555555555556, \"#d8576b\"], [0.6666666666666666, \"#ed7953\"], [0.7777777777777778, \"#fb9f3a\"], [0.8888888888888888, \"#fdca26\"], [1.0, \"#f0f921\"]], \"type\": \"histogram2d\"}], \"histogram2dcontour\": [{\"colorbar\": {\"outlinewidth\": 0, \"ticks\": \"\"}, \"colorscale\": [[0.0, \"#0d0887\"], [0.1111111111111111, \"#46039f\"], [0.2222222222222222, \"#7201a8\"], [0.3333333333333333, \"#9c179e\"], [0.4444444444444444, \"#bd3786\"], [0.5555555555555556, \"#d8576b\"], [0.6666666666666666, \"#ed7953\"], [0.7777777777777778, \"#fb9f3a\"], [0.8888888888888888, \"#fdca26\"], [1.0, \"#f0f921\"]], \"type\": \"histogram2dcontour\"}], \"mesh3d\": [{\"colorbar\": {\"outlinewidth\": 0, \"ticks\": \"\"}, \"type\": \"mesh3d\"}], \"parcoords\": [{\"line\": {\"colorbar\": {\"outlinewidth\": 0, \"ticks\": \"\"}}, \"type\": \"parcoords\"}], \"pie\": [{\"automargin\": true, \"type\": \"pie\"}], \"scatter\": [{\"marker\": {\"colorbar\": {\"outlinewidth\": 0, \"ticks\": \"\"}}, \"type\": \"scatter\"}], \"scatter3d\": [{\"line\": {\"colorbar\": {\"outlinewidth\": 0, \"ticks\": \"\"}}, \"marker\": {\"colorbar\": {\"outlinewidth\": 0, \"ticks\": \"\"}}, \"type\": \"scatter3d\"}], \"scattercarpet\": [{\"marker\": {\"colorbar\": {\"outlinewidth\": 0, \"ticks\": \"\"}}, \"type\": \"scattercarpet\"}], \"scattergeo\": [{\"marker\": {\"colorbar\": {\"outlinewidth\": 0, \"ticks\": \"\"}}, \"type\": \"scattergeo\"}], \"scattergl\": [{\"marker\": {\"colorbar\": {\"outlinewidth\": 0, \"ticks\": \"\"}}, \"type\": \"scattergl\"}], \"scattermapbox\": [{\"marker\": {\"colorbar\": {\"outlinewidth\": 0, \"ticks\": \"\"}}, \"type\": \"scattermapbox\"}], \"scatterpolar\": [{\"marker\": {\"colorbar\": {\"outlinewidth\": 0, \"ticks\": \"\"}}, \"type\": \"scatterpolar\"}], \"scatterpolargl\": [{\"marker\": {\"colorbar\": {\"outlinewidth\": 0, \"ticks\": \"\"}}, \"type\": \"scatterpolargl\"}], \"scatterternary\": [{\"marker\": {\"colorbar\": {\"outlinewidth\": 0, \"ticks\": \"\"}}, \"type\": \"scatterternary\"}], \"surface\": [{\"colorbar\": {\"outlinewidth\": 0, \"ticks\": \"\"}, \"colorscale\": [[0.0, \"#0d0887\"], [0.1111111111111111, \"#46039f\"], [0.2222222222222222, \"#7201a8\"], [0.3333333333333333, \"#9c179e\"], [0.4444444444444444, \"#bd3786\"], [0.5555555555555556, \"#d8576b\"], [0.6666666666666666, \"#ed7953\"], [0.7777777777777778, \"#fb9f3a\"], [0.8888888888888888, \"#fdca26\"], [1.0, \"#f0f921\"]], \"type\": \"surface\"}], \"table\": [{\"cells\": {\"fill\": {\"color\": \"#EBF0F8\"}, \"line\": {\"color\": \"white\"}}, \"header\": {\"fill\": {\"color\": \"#C8D4E3\"}, \"line\": {\"color\": \"white\"}}, \"type\": \"table\"}]}, \"layout\": {\"annotationdefaults\": {\"arrowcolor\": \"#2a3f5f\", \"arrowhead\": 0, \"arrowwidth\": 1}, \"coloraxis\": {\"colorbar\": {\"outlinewidth\": 0, \"ticks\": \"\"}}, \"colorscale\": {\"diverging\": [[0, \"#8e0152\"], [0.1, \"#c51b7d\"], [0.2, \"#de77ae\"], [0.3, \"#f1b6da\"], [0.4, \"#fde0ef\"], [0.5, \"#f7f7f7\"], [0.6, \"#e6f5d0\"], [0.7, \"#b8e186\"], [0.8, \"#7fbc41\"], [0.9, \"#4d9221\"], [1, \"#276419\"]], \"sequential\": [[0.0, \"#0d0887\"], [0.1111111111111111, \"#46039f\"], [0.2222222222222222, \"#7201a8\"], [0.3333333333333333, \"#9c179e\"], [0.4444444444444444, \"#bd3786\"], [0.5555555555555556, \"#d8576b\"], [0.6666666666666666, \"#ed7953\"], [0.7777777777777778, \"#fb9f3a\"], [0.8888888888888888, \"#fdca26\"], [1.0, \"#f0f921\"]], \"sequentialminus\": [[0.0, \"#0d0887\"], [0.1111111111111111, \"#46039f\"], [0.2222222222222222, \"#7201a8\"], [0.3333333333333333, \"#9c179e\"], [0.4444444444444444, \"#bd3786\"], [0.5555555555555556, \"#d8576b\"], [0.6666666666666666, \"#ed7953\"], [0.7777777777777778, \"#fb9f3a\"], [0.8888888888888888, \"#fdca26\"], [1.0, \"#f0f921\"]]}, \"colorway\": [\"#636efa\", \"#EF553B\", \"#00cc96\", \"#ab63fa\", \"#FFA15A\", \"#19d3f3\", \"#FF6692\", \"#B6E880\", \"#FF97FF\", \"#FECB52\"], \"font\": {\"color\": \"#2a3f5f\"}, \"geo\": {\"bgcolor\": \"white\", \"lakecolor\": \"white\", \"landcolor\": \"#E5ECF6\", \"showlakes\": true, \"showland\": true, \"subunitcolor\": \"white\"}, \"hoverlabel\": {\"align\": \"left\"}, \"hovermode\": \"closest\", \"mapbox\": {\"style\": \"light\"}, \"paper_bgcolor\": \"white\", \"plot_bgcolor\": \"#E5ECF6\", \"polar\": {\"angularaxis\": {\"gridcolor\": \"white\", \"linecolor\": \"white\", \"ticks\": \"\"}, \"bgcolor\": \"#E5ECF6\", \"radialaxis\": {\"gridcolor\": \"white\", \"linecolor\": \"white\", \"ticks\": \"\"}}, \"scene\": {\"xaxis\": {\"backgroundcolor\": \"#E5ECF6\", \"gridcolor\": \"white\", \"gridwidth\": 2, \"linecolor\": \"white\", \"showbackground\": true, \"ticks\": \"\", \"zerolinecolor\": \"white\"}, \"yaxis\": {\"backgroundcolor\": \"#E5ECF6\", \"gridcolor\": \"white\", \"gridwidth\": 2, \"linecolor\": \"white\", \"showbackground\": true, \"ticks\": \"\", \"zerolinecolor\": \"white\"}, \"zaxis\": {\"backgroundcolor\": \"#E5ECF6\", \"gridcolor\": \"white\", \"gridwidth\": 2, \"linecolor\": \"white\", \"showbackground\": true, \"ticks\": \"\", \"zerolinecolor\": \"white\"}}, \"shapedefaults\": {\"line\": {\"color\": \"#2a3f5f\"}}, \"ternary\": {\"aaxis\": {\"gridcolor\": \"white\", \"linecolor\": \"white\", \"ticks\": \"\"}, \"baxis\": {\"gridcolor\": \"white\", \"linecolor\": \"white\", \"ticks\": \"\"}, \"bgcolor\": \"#E5ECF6\", \"caxis\": {\"gridcolor\": \"white\", \"linecolor\": \"white\", \"ticks\": \"\"}}, \"title\": {\"x\": 0.05}, \"xaxis\": {\"automargin\": true, \"gridcolor\": \"white\", \"linecolor\": \"white\", \"ticks\": \"\", \"title\": {\"standoff\": 15}, \"zerolinecolor\": \"white\", \"zerolinewidth\": 2}, \"yaxis\": {\"automargin\": true, \"gridcolor\": \"white\", \"linecolor\": \"white\", \"ticks\": \"\", \"title\": {\"standoff\": 15}, \"zerolinecolor\": \"white\", \"zerolinewidth\": 2}}}, \"title\": {\"text\": \"Category with the most sales\"}, \"xaxis\": {\"anchor\": \"y\", \"domain\": [0.0, 1.0], \"title\": {\"text\": \"category\"}}, \"yaxis\": {\"anchor\": \"x\", \"domain\": [0.0, 1.0], \"title\": {\"text\": \"online_only\"}}},\n",
              "                        {\"responsive\": true}\n",
              "                    ).then(function(){\n",
              "                            \n",
              "var gd = document.getElementById('0b438f60-6999-4b1c-92f6-3c0a0db2ecc5');\n",
              "var x = new MutationObserver(function (mutations, observer) {{\n",
              "        var display = window.getComputedStyle(gd).display;\n",
              "        if (!display || display === 'none') {{\n",
              "            console.log([gd, 'removed!']);\n",
              "            Plotly.purge(gd);\n",
              "            observer.disconnect();\n",
              "        }}\n",
              "}});\n",
              "\n",
              "// Listen for the removal of the full notebook cells\n",
              "var notebookContainer = gd.closest('#notebook-container');\n",
              "if (notebookContainer) {{\n",
              "    x.observe(notebookContainer, {childList: true});\n",
              "}}\n",
              "\n",
              "// Listen for the clearing of the current output cell\n",
              "var outputEl = gd.closest('.output');\n",
              "if (outputEl) {{\n",
              "    x.observe(outputEl, {childList: true});\n",
              "}}\n",
              "\n",
              "                        })\n",
              "                };\n",
              "                \n",
              "            </script>\n",
              "        </div>\n",
              "</body>\n",
              "</html>"
            ]
          },
          "metadata": {}
        }
      ]
    },
    {
      "cell_type": "code",
      "metadata": {
        "colab": {
          "base_uri": "https://localhost:8080/",
          "height": 542
        },
        "id": "bTTyl9SQRXyt",
        "outputId": "8c6df863-e33b-49e3-cb1d-6166c70050af"
      },
      "source": [
        "px.bar(df1.groupby(['brand']).agg({'online_only':'sum'}).sort_values('online_only',ascending=False).reset_index().head(10), x='brand',y='online_only',title='Brand with the most sales')"
      ],
      "execution_count": null,
      "outputs": [
        {
          "output_type": "display_data",
          "data": {
            "text/html": [
              "<html>\n",
              "<head><meta charset=\"utf-8\" /></head>\n",
              "<body>\n",
              "    <div>\n",
              "            <script src=\"https://cdnjs.cloudflare.com/ajax/libs/mathjax/2.7.5/MathJax.js?config=TeX-AMS-MML_SVG\"></script><script type=\"text/javascript\">if (window.MathJax) {MathJax.Hub.Config({SVG: {font: \"STIX-Web\"}});}</script>\n",
              "                <script type=\"text/javascript\">window.PlotlyConfig = {MathJaxConfig: 'local'};</script>\n",
              "        <script src=\"https://cdn.plot.ly/plotly-latest.min.js\"></script>    \n",
              "            <div id=\"24485504-9ea0-4c88-8b72-6f4eb2963af5\" class=\"plotly-graph-div\" style=\"height:525px; width:100%;\"></div>\n",
              "            <script type=\"text/javascript\">\n",
              "                \n",
              "                    window.PLOTLYENV=window.PLOTLYENV || {};\n",
              "                    \n",
              "                if (document.getElementById(\"24485504-9ea0-4c88-8b72-6f4eb2963af5\")) {\n",
              "                    Plotly.newPlot(\n",
              "                        '24485504-9ea0-4c88-8b72-6f4eb2963af5',\n",
              "                        [{\"alignmentgroup\": \"True\", \"hoverlabel\": {\"namelength\": 0}, \"hovertemplate\": \"brand=%{x}<br>online_only=%{y}\", \"legendgroup\": \"\", \"marker\": {\"color\": \"#636efa\"}, \"name\": \"\", \"offsetgroup\": \"\", \"orientation\": \"v\", \"showlegend\": false, \"textposition\": \"auto\", \"type\": \"bar\", \"x\": [\"Kiehl's Since 1851\", \"ALTERNA Haircare\", \"Mario Badescu\", \"TOM FORD\", \"CLINIQUE\", \"Rahua\", \"SEPHORA COLLECTION\", \"The Ordinary\", \"O&M\", \"Dr Roebuck's\"], \"xaxis\": \"x\", \"y\": [33, 32, 26, 24, 24, 22, 22, 21, 21, 20], \"yaxis\": \"y\"}],\n",
              "                        {\"barmode\": \"relative\", \"legend\": {\"tracegroupgap\": 0}, \"template\": {\"data\": {\"bar\": [{\"error_x\": {\"color\": \"#2a3f5f\"}, \"error_y\": {\"color\": \"#2a3f5f\"}, \"marker\": {\"line\": {\"color\": \"#E5ECF6\", \"width\": 0.5}}, \"type\": \"bar\"}], \"barpolar\": [{\"marker\": {\"line\": {\"color\": \"#E5ECF6\", \"width\": 0.5}}, \"type\": \"barpolar\"}], \"carpet\": [{\"aaxis\": {\"endlinecolor\": \"#2a3f5f\", \"gridcolor\": \"white\", \"linecolor\": \"white\", \"minorgridcolor\": \"white\", \"startlinecolor\": \"#2a3f5f\"}, \"baxis\": {\"endlinecolor\": \"#2a3f5f\", \"gridcolor\": \"white\", \"linecolor\": \"white\", \"minorgridcolor\": \"white\", \"startlinecolor\": \"#2a3f5f\"}, \"type\": \"carpet\"}], \"choropleth\": [{\"colorbar\": {\"outlinewidth\": 0, \"ticks\": \"\"}, \"type\": \"choropleth\"}], \"contour\": [{\"colorbar\": {\"outlinewidth\": 0, \"ticks\": \"\"}, \"colorscale\": [[0.0, \"#0d0887\"], [0.1111111111111111, \"#46039f\"], [0.2222222222222222, \"#7201a8\"], [0.3333333333333333, \"#9c179e\"], [0.4444444444444444, \"#bd3786\"], [0.5555555555555556, \"#d8576b\"], [0.6666666666666666, \"#ed7953\"], [0.7777777777777778, \"#fb9f3a\"], [0.8888888888888888, \"#fdca26\"], [1.0, \"#f0f921\"]], \"type\": \"contour\"}], \"contourcarpet\": [{\"colorbar\": {\"outlinewidth\": 0, \"ticks\": \"\"}, \"type\": \"contourcarpet\"}], \"heatmap\": [{\"colorbar\": {\"outlinewidth\": 0, \"ticks\": \"\"}, \"colorscale\": [[0.0, \"#0d0887\"], [0.1111111111111111, \"#46039f\"], [0.2222222222222222, \"#7201a8\"], [0.3333333333333333, \"#9c179e\"], [0.4444444444444444, \"#bd3786\"], [0.5555555555555556, \"#d8576b\"], [0.6666666666666666, \"#ed7953\"], [0.7777777777777778, \"#fb9f3a\"], [0.8888888888888888, \"#fdca26\"], [1.0, \"#f0f921\"]], \"type\": \"heatmap\"}], \"heatmapgl\": [{\"colorbar\": {\"outlinewidth\": 0, \"ticks\": \"\"}, \"colorscale\": [[0.0, \"#0d0887\"], [0.1111111111111111, \"#46039f\"], [0.2222222222222222, \"#7201a8\"], [0.3333333333333333, \"#9c179e\"], [0.4444444444444444, \"#bd3786\"], [0.5555555555555556, \"#d8576b\"], [0.6666666666666666, \"#ed7953\"], [0.7777777777777778, \"#fb9f3a\"], [0.8888888888888888, \"#fdca26\"], [1.0, \"#f0f921\"]], \"type\": \"heatmapgl\"}], \"histogram\": [{\"marker\": {\"colorbar\": {\"outlinewidth\": 0, \"ticks\": \"\"}}, \"type\": \"histogram\"}], \"histogram2d\": [{\"colorbar\": {\"outlinewidth\": 0, \"ticks\": \"\"}, \"colorscale\": [[0.0, \"#0d0887\"], [0.1111111111111111, \"#46039f\"], [0.2222222222222222, \"#7201a8\"], [0.3333333333333333, \"#9c179e\"], [0.4444444444444444, \"#bd3786\"], [0.5555555555555556, \"#d8576b\"], [0.6666666666666666, \"#ed7953\"], [0.7777777777777778, \"#fb9f3a\"], [0.8888888888888888, \"#fdca26\"], [1.0, \"#f0f921\"]], \"type\": \"histogram2d\"}], \"histogram2dcontour\": [{\"colorbar\": {\"outlinewidth\": 0, \"ticks\": \"\"}, \"colorscale\": [[0.0, \"#0d0887\"], [0.1111111111111111, \"#46039f\"], [0.2222222222222222, \"#7201a8\"], [0.3333333333333333, \"#9c179e\"], [0.4444444444444444, \"#bd3786\"], [0.5555555555555556, \"#d8576b\"], [0.6666666666666666, \"#ed7953\"], [0.7777777777777778, \"#fb9f3a\"], [0.8888888888888888, \"#fdca26\"], [1.0, \"#f0f921\"]], \"type\": \"histogram2dcontour\"}], \"mesh3d\": [{\"colorbar\": {\"outlinewidth\": 0, \"ticks\": \"\"}, \"type\": \"mesh3d\"}], \"parcoords\": [{\"line\": {\"colorbar\": {\"outlinewidth\": 0, \"ticks\": \"\"}}, \"type\": \"parcoords\"}], \"pie\": [{\"automargin\": true, \"type\": \"pie\"}], \"scatter\": [{\"marker\": {\"colorbar\": {\"outlinewidth\": 0, \"ticks\": \"\"}}, \"type\": \"scatter\"}], \"scatter3d\": [{\"line\": {\"colorbar\": {\"outlinewidth\": 0, \"ticks\": \"\"}}, \"marker\": {\"colorbar\": {\"outlinewidth\": 0, \"ticks\": \"\"}}, \"type\": \"scatter3d\"}], \"scattercarpet\": [{\"marker\": {\"colorbar\": {\"outlinewidth\": 0, \"ticks\": \"\"}}, \"type\": \"scattercarpet\"}], \"scattergeo\": [{\"marker\": {\"colorbar\": {\"outlinewidth\": 0, \"ticks\": \"\"}}, \"type\": \"scattergeo\"}], \"scattergl\": [{\"marker\": {\"colorbar\": {\"outlinewidth\": 0, \"ticks\": \"\"}}, \"type\": \"scattergl\"}], \"scattermapbox\": [{\"marker\": {\"colorbar\": {\"outlinewidth\": 0, \"ticks\": \"\"}}, \"type\": \"scattermapbox\"}], \"scatterpolar\": [{\"marker\": {\"colorbar\": {\"outlinewidth\": 0, \"ticks\": \"\"}}, \"type\": \"scatterpolar\"}], \"scatterpolargl\": [{\"marker\": {\"colorbar\": {\"outlinewidth\": 0, \"ticks\": \"\"}}, \"type\": \"scatterpolargl\"}], \"scatterternary\": [{\"marker\": {\"colorbar\": {\"outlinewidth\": 0, \"ticks\": \"\"}}, \"type\": \"scatterternary\"}], \"surface\": [{\"colorbar\": {\"outlinewidth\": 0, \"ticks\": \"\"}, \"colorscale\": [[0.0, \"#0d0887\"], [0.1111111111111111, \"#46039f\"], [0.2222222222222222, \"#7201a8\"], [0.3333333333333333, \"#9c179e\"], [0.4444444444444444, \"#bd3786\"], [0.5555555555555556, \"#d8576b\"], [0.6666666666666666, \"#ed7953\"], [0.7777777777777778, \"#fb9f3a\"], [0.8888888888888888, \"#fdca26\"], [1.0, \"#f0f921\"]], \"type\": \"surface\"}], \"table\": [{\"cells\": {\"fill\": {\"color\": \"#EBF0F8\"}, \"line\": {\"color\": \"white\"}}, \"header\": {\"fill\": {\"color\": \"#C8D4E3\"}, \"line\": {\"color\": \"white\"}}, \"type\": \"table\"}]}, \"layout\": {\"annotationdefaults\": {\"arrowcolor\": \"#2a3f5f\", \"arrowhead\": 0, \"arrowwidth\": 1}, \"coloraxis\": {\"colorbar\": {\"outlinewidth\": 0, \"ticks\": \"\"}}, \"colorscale\": {\"diverging\": [[0, \"#8e0152\"], [0.1, \"#c51b7d\"], [0.2, \"#de77ae\"], [0.3, \"#f1b6da\"], [0.4, \"#fde0ef\"], [0.5, \"#f7f7f7\"], [0.6, \"#e6f5d0\"], [0.7, \"#b8e186\"], [0.8, \"#7fbc41\"], [0.9, \"#4d9221\"], [1, \"#276419\"]], \"sequential\": [[0.0, \"#0d0887\"], [0.1111111111111111, \"#46039f\"], [0.2222222222222222, \"#7201a8\"], [0.3333333333333333, \"#9c179e\"], [0.4444444444444444, \"#bd3786\"], [0.5555555555555556, \"#d8576b\"], [0.6666666666666666, \"#ed7953\"], [0.7777777777777778, \"#fb9f3a\"], [0.8888888888888888, \"#fdca26\"], [1.0, \"#f0f921\"]], \"sequentialminus\": [[0.0, \"#0d0887\"], [0.1111111111111111, \"#46039f\"], [0.2222222222222222, \"#7201a8\"], [0.3333333333333333, \"#9c179e\"], [0.4444444444444444, \"#bd3786\"], [0.5555555555555556, \"#d8576b\"], [0.6666666666666666, \"#ed7953\"], [0.7777777777777778, \"#fb9f3a\"], [0.8888888888888888, \"#fdca26\"], [1.0, \"#f0f921\"]]}, \"colorway\": [\"#636efa\", \"#EF553B\", \"#00cc96\", \"#ab63fa\", \"#FFA15A\", \"#19d3f3\", \"#FF6692\", \"#B6E880\", \"#FF97FF\", \"#FECB52\"], \"font\": {\"color\": \"#2a3f5f\"}, \"geo\": {\"bgcolor\": \"white\", \"lakecolor\": \"white\", \"landcolor\": \"#E5ECF6\", \"showlakes\": true, \"showland\": true, \"subunitcolor\": \"white\"}, \"hoverlabel\": {\"align\": \"left\"}, \"hovermode\": \"closest\", \"mapbox\": {\"style\": \"light\"}, \"paper_bgcolor\": \"white\", \"plot_bgcolor\": \"#E5ECF6\", \"polar\": {\"angularaxis\": {\"gridcolor\": \"white\", \"linecolor\": \"white\", \"ticks\": \"\"}, \"bgcolor\": \"#E5ECF6\", \"radialaxis\": {\"gridcolor\": \"white\", \"linecolor\": \"white\", \"ticks\": \"\"}}, \"scene\": {\"xaxis\": {\"backgroundcolor\": \"#E5ECF6\", \"gridcolor\": \"white\", \"gridwidth\": 2, \"linecolor\": \"white\", \"showbackground\": true, \"ticks\": \"\", \"zerolinecolor\": \"white\"}, \"yaxis\": {\"backgroundcolor\": \"#E5ECF6\", \"gridcolor\": \"white\", \"gridwidth\": 2, \"linecolor\": \"white\", \"showbackground\": true, \"ticks\": \"\", \"zerolinecolor\": \"white\"}, \"zaxis\": {\"backgroundcolor\": \"#E5ECF6\", \"gridcolor\": \"white\", \"gridwidth\": 2, \"linecolor\": \"white\", \"showbackground\": true, \"ticks\": \"\", \"zerolinecolor\": \"white\"}}, \"shapedefaults\": {\"line\": {\"color\": \"#2a3f5f\"}}, \"ternary\": {\"aaxis\": {\"gridcolor\": \"white\", \"linecolor\": \"white\", \"ticks\": \"\"}, \"baxis\": {\"gridcolor\": \"white\", \"linecolor\": \"white\", \"ticks\": \"\"}, \"bgcolor\": \"#E5ECF6\", \"caxis\": {\"gridcolor\": \"white\", \"linecolor\": \"white\", \"ticks\": \"\"}}, \"title\": {\"x\": 0.05}, \"xaxis\": {\"automargin\": true, \"gridcolor\": \"white\", \"linecolor\": \"white\", \"ticks\": \"\", \"title\": {\"standoff\": 15}, \"zerolinecolor\": \"white\", \"zerolinewidth\": 2}, \"yaxis\": {\"automargin\": true, \"gridcolor\": \"white\", \"linecolor\": \"white\", \"ticks\": \"\", \"title\": {\"standoff\": 15}, \"zerolinecolor\": \"white\", \"zerolinewidth\": 2}}}, \"title\": {\"text\": \"Brand with the most sales\"}, \"xaxis\": {\"anchor\": \"y\", \"domain\": [0.0, 1.0], \"title\": {\"text\": \"brand\"}}, \"yaxis\": {\"anchor\": \"x\", \"domain\": [0.0, 1.0], \"title\": {\"text\": \"online_only\"}}},\n",
              "                        {\"responsive\": true}\n",
              "                    ).then(function(){\n",
              "                            \n",
              "var gd = document.getElementById('24485504-9ea0-4c88-8b72-6f4eb2963af5');\n",
              "var x = new MutationObserver(function (mutations, observer) {{\n",
              "        var display = window.getComputedStyle(gd).display;\n",
              "        if (!display || display === 'none') {{\n",
              "            console.log([gd, 'removed!']);\n",
              "            Plotly.purge(gd);\n",
              "            observer.disconnect();\n",
              "        }}\n",
              "}});\n",
              "\n",
              "// Listen for the removal of the full notebook cells\n",
              "var notebookContainer = gd.closest('#notebook-container');\n",
              "if (notebookContainer) {{\n",
              "    x.observe(notebookContainer, {childList: true});\n",
              "}}\n",
              "\n",
              "// Listen for the clearing of the current output cell\n",
              "var outputEl = gd.closest('.output');\n",
              "if (outputEl) {{\n",
              "    x.observe(outputEl, {childList: true});\n",
              "}}\n",
              "\n",
              "                        })\n",
              "                };\n",
              "                \n",
              "            </script>\n",
              "        </div>\n",
              "</body>\n",
              "</html>"
            ]
          },
          "metadata": {}
        }
      ]
    },
    {
      "cell_type": "markdown",
      "metadata": {
        "id": "PLFPtvOPqW_R"
      },
      "source": [
        "## Question 2"
      ]
    },
    {
      "cell_type": "markdown",
      "metadata": {
        "id": "_NvrMcRAI0ra"
      },
      "source": [
        "How is the level of comparison between the number of transactions in the product category that is sold online and not?\n"
      ]
    },
    {
      "cell_type": "code",
      "metadata": {
        "colab": {
          "base_uri": "https://localhost:8080/",
          "height": 111
        },
        "id": "ci-dCaWGqZEW",
        "outputId": "7913fcc8-577e-40e0-81f2-c3ee548af89b"
      },
      "source": [
        "df2 = df_sephora['online_only'].value_counts().reset_index()\n",
        "df2.rename(columns={'index': 'online/not','online_only': 'count'},inplace=True)\n",
        "df2 ['percentage'] = (df2['count'] / df2['count'].sum())*100\n",
        "df2"
      ],
      "execution_count": null,
      "outputs": [
        {
          "output_type": "execute_result",
          "data": {
            "text/html": [
              "<div>\n",
              "<style scoped>\n",
              "    .dataframe tbody tr th:only-of-type {\n",
              "        vertical-align: middle;\n",
              "    }\n",
              "\n",
              "    .dataframe tbody tr th {\n",
              "        vertical-align: top;\n",
              "    }\n",
              "\n",
              "    .dataframe thead th {\n",
              "        text-align: right;\n",
              "    }\n",
              "</style>\n",
              "<table border=\"1\" class=\"dataframe\">\n",
              "  <thead>\n",
              "    <tr style=\"text-align: right;\">\n",
              "      <th></th>\n",
              "      <th>online/not</th>\n",
              "      <th>count</th>\n",
              "      <th>percentage</th>\n",
              "    </tr>\n",
              "  </thead>\n",
              "  <tbody>\n",
              "    <tr>\n",
              "      <th>0</th>\n",
              "      <td>0</td>\n",
              "      <td>3785</td>\n",
              "      <td>74.055958</td>\n",
              "    </tr>\n",
              "    <tr>\n",
              "      <th>1</th>\n",
              "      <td>1</td>\n",
              "      <td>1326</td>\n",
              "      <td>25.944042</td>\n",
              "    </tr>\n",
              "  </tbody>\n",
              "</table>\n",
              "</div>"
            ],
            "text/plain": [
              "   online/not  count  percentage\n",
              "0           0   3785   74.055958\n",
              "1           1   1326   25.944042"
            ]
          },
          "metadata": {},
          "execution_count": 396
        }
      ]
    },
    {
      "cell_type": "code",
      "metadata": {
        "colab": {
          "base_uri": "https://localhost:8080/",
          "height": 542
        },
        "id": "f8RA5Zae0rdB",
        "outputId": "8d2e6c8e-138c-4f07-9253-bcaa772be25e"
      },
      "source": [
        "# Yes = 1 , No = 0\n",
        "px.pie(df2, values='percentage', names='online/not', title='Percentage sold by online and offline')"
      ],
      "execution_count": null,
      "outputs": [
        {
          "output_type": "display_data",
          "data": {
            "text/html": [
              "<html>\n",
              "<head><meta charset=\"utf-8\" /></head>\n",
              "<body>\n",
              "    <div>\n",
              "            <script src=\"https://cdnjs.cloudflare.com/ajax/libs/mathjax/2.7.5/MathJax.js?config=TeX-AMS-MML_SVG\"></script><script type=\"text/javascript\">if (window.MathJax) {MathJax.Hub.Config({SVG: {font: \"STIX-Web\"}});}</script>\n",
              "                <script type=\"text/javascript\">window.PlotlyConfig = {MathJaxConfig: 'local'};</script>\n",
              "        <script src=\"https://cdn.plot.ly/plotly-latest.min.js\"></script>    \n",
              "            <div id=\"9a6425f8-574e-4ac6-8fb8-d0d2989e751e\" class=\"plotly-graph-div\" style=\"height:525px; width:100%;\"></div>\n",
              "            <script type=\"text/javascript\">\n",
              "                \n",
              "                    window.PLOTLYENV=window.PLOTLYENV || {};\n",
              "                    \n",
              "                if (document.getElementById(\"9a6425f8-574e-4ac6-8fb8-d0d2989e751e\")) {\n",
              "                    Plotly.newPlot(\n",
              "                        '9a6425f8-574e-4ac6-8fb8-d0d2989e751e',\n",
              "                        [{\"domain\": {\"x\": [0.0, 1.0], \"y\": [0.0, 1.0]}, \"hoverlabel\": {\"namelength\": 0}, \"hovertemplate\": \"online/not=%{label}<br>percentage=%{value}\", \"labels\": [0, 1], \"legendgroup\": \"\", \"name\": \"\", \"showlegend\": true, \"type\": \"pie\", \"values\": [76.51614310645725, 23.483856893542757]}],\n",
              "                        {\"legend\": {\"tracegroupgap\": 0}, \"template\": {\"data\": {\"bar\": [{\"error_x\": {\"color\": \"#2a3f5f\"}, \"error_y\": {\"color\": \"#2a3f5f\"}, \"marker\": {\"line\": {\"color\": \"#E5ECF6\", \"width\": 0.5}}, \"type\": \"bar\"}], \"barpolar\": [{\"marker\": {\"line\": {\"color\": \"#E5ECF6\", \"width\": 0.5}}, \"type\": \"barpolar\"}], \"carpet\": [{\"aaxis\": {\"endlinecolor\": \"#2a3f5f\", \"gridcolor\": \"white\", \"linecolor\": \"white\", \"minorgridcolor\": \"white\", \"startlinecolor\": \"#2a3f5f\"}, \"baxis\": {\"endlinecolor\": \"#2a3f5f\", \"gridcolor\": \"white\", \"linecolor\": \"white\", \"minorgridcolor\": \"white\", \"startlinecolor\": \"#2a3f5f\"}, \"type\": \"carpet\"}], \"choropleth\": [{\"colorbar\": {\"outlinewidth\": 0, \"ticks\": \"\"}, \"type\": \"choropleth\"}], \"contour\": [{\"colorbar\": {\"outlinewidth\": 0, \"ticks\": \"\"}, \"colorscale\": [[0.0, \"#0d0887\"], [0.1111111111111111, \"#46039f\"], [0.2222222222222222, \"#7201a8\"], [0.3333333333333333, \"#9c179e\"], [0.4444444444444444, \"#bd3786\"], [0.5555555555555556, \"#d8576b\"], [0.6666666666666666, \"#ed7953\"], [0.7777777777777778, \"#fb9f3a\"], [0.8888888888888888, \"#fdca26\"], [1.0, \"#f0f921\"]], \"type\": \"contour\"}], \"contourcarpet\": [{\"colorbar\": {\"outlinewidth\": 0, \"ticks\": \"\"}, \"type\": \"contourcarpet\"}], \"heatmap\": [{\"colorbar\": {\"outlinewidth\": 0, \"ticks\": \"\"}, \"colorscale\": [[0.0, \"#0d0887\"], [0.1111111111111111, \"#46039f\"], [0.2222222222222222, \"#7201a8\"], [0.3333333333333333, \"#9c179e\"], [0.4444444444444444, \"#bd3786\"], [0.5555555555555556, \"#d8576b\"], [0.6666666666666666, \"#ed7953\"], [0.7777777777777778, \"#fb9f3a\"], [0.8888888888888888, \"#fdca26\"], [1.0, \"#f0f921\"]], \"type\": \"heatmap\"}], \"heatmapgl\": [{\"colorbar\": {\"outlinewidth\": 0, \"ticks\": \"\"}, \"colorscale\": [[0.0, \"#0d0887\"], [0.1111111111111111, \"#46039f\"], [0.2222222222222222, \"#7201a8\"], [0.3333333333333333, \"#9c179e\"], [0.4444444444444444, \"#bd3786\"], [0.5555555555555556, \"#d8576b\"], [0.6666666666666666, \"#ed7953\"], [0.7777777777777778, \"#fb9f3a\"], [0.8888888888888888, \"#fdca26\"], [1.0, \"#f0f921\"]], \"type\": \"heatmapgl\"}], \"histogram\": [{\"marker\": {\"colorbar\": {\"outlinewidth\": 0, \"ticks\": \"\"}}, \"type\": \"histogram\"}], \"histogram2d\": [{\"colorbar\": {\"outlinewidth\": 0, \"ticks\": \"\"}, \"colorscale\": [[0.0, \"#0d0887\"], [0.1111111111111111, \"#46039f\"], [0.2222222222222222, \"#7201a8\"], [0.3333333333333333, \"#9c179e\"], [0.4444444444444444, \"#bd3786\"], [0.5555555555555556, \"#d8576b\"], [0.6666666666666666, \"#ed7953\"], [0.7777777777777778, \"#fb9f3a\"], [0.8888888888888888, \"#fdca26\"], [1.0, \"#f0f921\"]], \"type\": \"histogram2d\"}], \"histogram2dcontour\": [{\"colorbar\": {\"outlinewidth\": 0, \"ticks\": \"\"}, \"colorscale\": [[0.0, \"#0d0887\"], [0.1111111111111111, \"#46039f\"], [0.2222222222222222, \"#7201a8\"], [0.3333333333333333, \"#9c179e\"], [0.4444444444444444, \"#bd3786\"], [0.5555555555555556, \"#d8576b\"], [0.6666666666666666, \"#ed7953\"], [0.7777777777777778, \"#fb9f3a\"], [0.8888888888888888, \"#fdca26\"], [1.0, \"#f0f921\"]], \"type\": \"histogram2dcontour\"}], \"mesh3d\": [{\"colorbar\": {\"outlinewidth\": 0, \"ticks\": \"\"}, \"type\": \"mesh3d\"}], \"parcoords\": [{\"line\": {\"colorbar\": {\"outlinewidth\": 0, \"ticks\": \"\"}}, \"type\": \"parcoords\"}], \"pie\": [{\"automargin\": true, \"type\": \"pie\"}], \"scatter\": [{\"marker\": {\"colorbar\": {\"outlinewidth\": 0, \"ticks\": \"\"}}, \"type\": \"scatter\"}], \"scatter3d\": [{\"line\": {\"colorbar\": {\"outlinewidth\": 0, \"ticks\": \"\"}}, \"marker\": {\"colorbar\": {\"outlinewidth\": 0, \"ticks\": \"\"}}, \"type\": \"scatter3d\"}], \"scattercarpet\": [{\"marker\": {\"colorbar\": {\"outlinewidth\": 0, \"ticks\": \"\"}}, \"type\": \"scattercarpet\"}], \"scattergeo\": [{\"marker\": {\"colorbar\": {\"outlinewidth\": 0, \"ticks\": \"\"}}, \"type\": \"scattergeo\"}], \"scattergl\": [{\"marker\": {\"colorbar\": {\"outlinewidth\": 0, \"ticks\": \"\"}}, \"type\": \"scattergl\"}], \"scattermapbox\": [{\"marker\": {\"colorbar\": {\"outlinewidth\": 0, \"ticks\": \"\"}}, \"type\": \"scattermapbox\"}], \"scatterpolar\": [{\"marker\": {\"colorbar\": {\"outlinewidth\": 0, \"ticks\": \"\"}}, \"type\": \"scatterpolar\"}], \"scatterpolargl\": [{\"marker\": {\"colorbar\": {\"outlinewidth\": 0, \"ticks\": \"\"}}, \"type\": \"scatterpolargl\"}], \"scatterternary\": [{\"marker\": {\"colorbar\": {\"outlinewidth\": 0, \"ticks\": \"\"}}, \"type\": \"scatterternary\"}], \"surface\": [{\"colorbar\": {\"outlinewidth\": 0, \"ticks\": \"\"}, \"colorscale\": [[0.0, \"#0d0887\"], [0.1111111111111111, \"#46039f\"], [0.2222222222222222, \"#7201a8\"], [0.3333333333333333, \"#9c179e\"], [0.4444444444444444, \"#bd3786\"], [0.5555555555555556, \"#d8576b\"], [0.6666666666666666, \"#ed7953\"], [0.7777777777777778, \"#fb9f3a\"], [0.8888888888888888, \"#fdca26\"], [1.0, \"#f0f921\"]], \"type\": \"surface\"}], \"table\": [{\"cells\": {\"fill\": {\"color\": \"#EBF0F8\"}, \"line\": {\"color\": \"white\"}}, \"header\": {\"fill\": {\"color\": \"#C8D4E3\"}, \"line\": {\"color\": \"white\"}}, \"type\": \"table\"}]}, \"layout\": {\"annotationdefaults\": {\"arrowcolor\": \"#2a3f5f\", \"arrowhead\": 0, \"arrowwidth\": 1}, \"coloraxis\": {\"colorbar\": {\"outlinewidth\": 0, \"ticks\": \"\"}}, \"colorscale\": {\"diverging\": [[0, \"#8e0152\"], [0.1, \"#c51b7d\"], [0.2, \"#de77ae\"], [0.3, \"#f1b6da\"], [0.4, \"#fde0ef\"], [0.5, \"#f7f7f7\"], [0.6, \"#e6f5d0\"], [0.7, \"#b8e186\"], [0.8, \"#7fbc41\"], [0.9, \"#4d9221\"], [1, \"#276419\"]], \"sequential\": [[0.0, \"#0d0887\"], [0.1111111111111111, \"#46039f\"], [0.2222222222222222, \"#7201a8\"], [0.3333333333333333, \"#9c179e\"], [0.4444444444444444, \"#bd3786\"], [0.5555555555555556, \"#d8576b\"], [0.6666666666666666, \"#ed7953\"], [0.7777777777777778, \"#fb9f3a\"], [0.8888888888888888, \"#fdca26\"], [1.0, \"#f0f921\"]], \"sequentialminus\": [[0.0, \"#0d0887\"], [0.1111111111111111, \"#46039f\"], [0.2222222222222222, \"#7201a8\"], [0.3333333333333333, \"#9c179e\"], [0.4444444444444444, \"#bd3786\"], [0.5555555555555556, \"#d8576b\"], [0.6666666666666666, \"#ed7953\"], [0.7777777777777778, \"#fb9f3a\"], [0.8888888888888888, \"#fdca26\"], [1.0, \"#f0f921\"]]}, \"colorway\": [\"#636efa\", \"#EF553B\", \"#00cc96\", \"#ab63fa\", \"#FFA15A\", \"#19d3f3\", \"#FF6692\", \"#B6E880\", \"#FF97FF\", \"#FECB52\"], \"font\": {\"color\": \"#2a3f5f\"}, \"geo\": {\"bgcolor\": \"white\", \"lakecolor\": \"white\", \"landcolor\": \"#E5ECF6\", \"showlakes\": true, \"showland\": true, \"subunitcolor\": \"white\"}, \"hoverlabel\": {\"align\": \"left\"}, \"hovermode\": \"closest\", \"mapbox\": {\"style\": \"light\"}, \"paper_bgcolor\": \"white\", \"plot_bgcolor\": \"#E5ECF6\", \"polar\": {\"angularaxis\": {\"gridcolor\": \"white\", \"linecolor\": \"white\", \"ticks\": \"\"}, \"bgcolor\": \"#E5ECF6\", \"radialaxis\": {\"gridcolor\": \"white\", \"linecolor\": \"white\", \"ticks\": \"\"}}, \"scene\": {\"xaxis\": {\"backgroundcolor\": \"#E5ECF6\", \"gridcolor\": \"white\", \"gridwidth\": 2, \"linecolor\": \"white\", \"showbackground\": true, \"ticks\": \"\", \"zerolinecolor\": \"white\"}, \"yaxis\": {\"backgroundcolor\": \"#E5ECF6\", \"gridcolor\": \"white\", \"gridwidth\": 2, \"linecolor\": \"white\", \"showbackground\": true, \"ticks\": \"\", \"zerolinecolor\": \"white\"}, \"zaxis\": {\"backgroundcolor\": \"#E5ECF6\", \"gridcolor\": \"white\", \"gridwidth\": 2, \"linecolor\": \"white\", \"showbackground\": true, \"ticks\": \"\", \"zerolinecolor\": \"white\"}}, \"shapedefaults\": {\"line\": {\"color\": \"#2a3f5f\"}}, \"ternary\": {\"aaxis\": {\"gridcolor\": \"white\", \"linecolor\": \"white\", \"ticks\": \"\"}, \"baxis\": {\"gridcolor\": \"white\", \"linecolor\": \"white\", \"ticks\": \"\"}, \"bgcolor\": \"#E5ECF6\", \"caxis\": {\"gridcolor\": \"white\", \"linecolor\": \"white\", \"ticks\": \"\"}}, \"title\": {\"x\": 0.05}, \"xaxis\": {\"automargin\": true, \"gridcolor\": \"white\", \"linecolor\": \"white\", \"ticks\": \"\", \"title\": {\"standoff\": 15}, \"zerolinecolor\": \"white\", \"zerolinewidth\": 2}, \"yaxis\": {\"automargin\": true, \"gridcolor\": \"white\", \"linecolor\": \"white\", \"ticks\": \"\", \"title\": {\"standoff\": 15}, \"zerolinecolor\": \"white\", \"zerolinewidth\": 2}}}, \"title\": {\"text\": \"Percentage sold by online and offline\"}},\n",
              "                        {\"responsive\": true}\n",
              "                    ).then(function(){\n",
              "                            \n",
              "var gd = document.getElementById('9a6425f8-574e-4ac6-8fb8-d0d2989e751e');\n",
              "var x = new MutationObserver(function (mutations, observer) {{\n",
              "        var display = window.getComputedStyle(gd).display;\n",
              "        if (!display || display === 'none') {{\n",
              "            console.log([gd, 'removed!']);\n",
              "            Plotly.purge(gd);\n",
              "            observer.disconnect();\n",
              "        }}\n",
              "}});\n",
              "\n",
              "// Listen for the removal of the full notebook cells\n",
              "var notebookContainer = gd.closest('#notebook-container');\n",
              "if (notebookContainer) {{\n",
              "    x.observe(notebookContainer, {childList: true});\n",
              "}}\n",
              "\n",
              "// Listen for the clearing of the current output cell\n",
              "var outputEl = gd.closest('.output');\n",
              "if (outputEl) {{\n",
              "    x.observe(outputEl, {childList: true});\n",
              "}}\n",
              "\n",
              "                        })\n",
              "                };\n",
              "                \n",
              "            </script>\n",
              "        </div>\n",
              "</body>\n",
              "</html>"
            ]
          },
          "metadata": {}
        }
      ]
    },
    {
      "cell_type": "markdown",
      "metadata": {
        "id": "CUtsa6Pex4Qz"
      },
      "source": [
        "## Question 3"
      ]
    },
    {
      "cell_type": "markdown",
      "metadata": {
        "id": "nQ8-5PfTI4YW"
      },
      "source": [
        "Does the higher the product category with a high rating, the effect of a high number of transactions also through online sales? \n"
      ]
    },
    {
      "cell_type": "code",
      "metadata": {
        "colab": {
          "base_uri": "https://localhost:8080/",
          "height": 358
        },
        "id": "1HK_M4-IzF5e",
        "outputId": "ea111f93-837f-400a-ddc9-3d5b7afdcff1"
      },
      "source": [
        "df3 = df_sephora[df_sephora['online_only']==1].reset_index()\n",
        "df3= df3.groupby(['category','rating']).agg({'online_only':'count'}).sort_values('online_only',ascending=False).reset_index()\n",
        "df3.head(10)"
      ],
      "execution_count": null,
      "outputs": [
        {
          "output_type": "execute_result",
          "data": {
            "text/html": [
              "<div>\n",
              "<style scoped>\n",
              "    .dataframe tbody tr th:only-of-type {\n",
              "        vertical-align: middle;\n",
              "    }\n",
              "\n",
              "    .dataframe tbody tr th {\n",
              "        vertical-align: top;\n",
              "    }\n",
              "\n",
              "    .dataframe thead th {\n",
              "        text-align: right;\n",
              "    }\n",
              "</style>\n",
              "<table border=\"1\" class=\"dataframe\">\n",
              "  <thead>\n",
              "    <tr style=\"text-align: right;\">\n",
              "      <th></th>\n",
              "      <th>category</th>\n",
              "      <th>rating</th>\n",
              "      <th>online_only</th>\n",
              "    </tr>\n",
              "  </thead>\n",
              "  <tbody>\n",
              "    <tr>\n",
              "      <th>0</th>\n",
              "      <td>Face Serums</td>\n",
              "      <td>4.5</td>\n",
              "      <td>29</td>\n",
              "    </tr>\n",
              "    <tr>\n",
              "      <th>1</th>\n",
              "      <td>Moisturizers</td>\n",
              "      <td>4.0</td>\n",
              "      <td>27</td>\n",
              "    </tr>\n",
              "    <tr>\n",
              "      <th>2</th>\n",
              "      <td>Face Wash &amp; Cleansers</td>\n",
              "      <td>4.5</td>\n",
              "      <td>21</td>\n",
              "    </tr>\n",
              "    <tr>\n",
              "      <th>3</th>\n",
              "      <td>Hair Styling Products</td>\n",
              "      <td>4.0</td>\n",
              "      <td>19</td>\n",
              "    </tr>\n",
              "    <tr>\n",
              "      <th>4</th>\n",
              "      <td>Face Masks</td>\n",
              "      <td>4.5</td>\n",
              "      <td>19</td>\n",
              "    </tr>\n",
              "    <tr>\n",
              "      <th>5</th>\n",
              "      <td>Shampoo</td>\n",
              "      <td>4.0</td>\n",
              "      <td>18</td>\n",
              "    </tr>\n",
              "    <tr>\n",
              "      <th>6</th>\n",
              "      <td>Hair Styling Products</td>\n",
              "      <td>4.5</td>\n",
              "      <td>18</td>\n",
              "    </tr>\n",
              "    <tr>\n",
              "      <th>7</th>\n",
              "      <td>Conditioner</td>\n",
              "      <td>4.0</td>\n",
              "      <td>18</td>\n",
              "    </tr>\n",
              "    <tr>\n",
              "      <th>8</th>\n",
              "      <td>Shampoo</td>\n",
              "      <td>3.5</td>\n",
              "      <td>17</td>\n",
              "    </tr>\n",
              "    <tr>\n",
              "      <th>9</th>\n",
              "      <td>Perfume</td>\n",
              "      <td>4.5</td>\n",
              "      <td>17</td>\n",
              "    </tr>\n",
              "  </tbody>\n",
              "</table>\n",
              "</div>"
            ],
            "text/plain": [
              "                category  rating  online_only\n",
              "0            Face Serums     4.5           29\n",
              "1           Moisturizers     4.0           27\n",
              "2  Face Wash & Cleansers     4.5           21\n",
              "3  Hair Styling Products     4.0           19\n",
              "4             Face Masks     4.5           19\n",
              "5                Shampoo     4.0           18\n",
              "6  Hair Styling Products     4.5           18\n",
              "7            Conditioner     4.0           18\n",
              "8                Shampoo     3.5           17\n",
              "9                Perfume     4.5           17"
            ]
          },
          "metadata": {},
          "execution_count": 397
        }
      ]
    },
    {
      "cell_type": "code",
      "metadata": {
        "colab": {
          "base_uri": "https://localhost:8080/",
          "height": 542
        },
        "id": "SiwH91iW0cA_",
        "outputId": "65ddffa3-1744-4335-d301-63c20bc1c5c9"
      },
      "source": [
        "px.bar(df3.head(10), x='category',color='rating',y='online_only')"
      ],
      "execution_count": null,
      "outputs": [
        {
          "output_type": "display_data",
          "data": {
            "text/html": [
              "<html>\n",
              "<head><meta charset=\"utf-8\" /></head>\n",
              "<body>\n",
              "    <div>\n",
              "            <script src=\"https://cdnjs.cloudflare.com/ajax/libs/mathjax/2.7.5/MathJax.js?config=TeX-AMS-MML_SVG\"></script><script type=\"text/javascript\">if (window.MathJax) {MathJax.Hub.Config({SVG: {font: \"STIX-Web\"}});}</script>\n",
              "                <script type=\"text/javascript\">window.PlotlyConfig = {MathJaxConfig: 'local'};</script>\n",
              "        <script src=\"https://cdn.plot.ly/plotly-latest.min.js\"></script>    \n",
              "            <div id=\"3f520967-085e-421d-94e5-d9278a92b815\" class=\"plotly-graph-div\" style=\"height:525px; width:100%;\"></div>\n",
              "            <script type=\"text/javascript\">\n",
              "                \n",
              "                    window.PLOTLYENV=window.PLOTLYENV || {};\n",
              "                    \n",
              "                if (document.getElementById(\"3f520967-085e-421d-94e5-d9278a92b815\")) {\n",
              "                    Plotly.newPlot(\n",
              "                        '3f520967-085e-421d-94e5-d9278a92b815',\n",
              "                        [{\"alignmentgroup\": \"True\", \"hoverlabel\": {\"namelength\": 0}, \"hovertemplate\": \"category=%{x}<br>online_only=%{y}<br>rating=%{marker.color}\", \"legendgroup\": \"\", \"marker\": {\"color\": [4.5, 4.0, 4.5, 4.0, 4.5, 4.0, 4.5, 4.0, 3.5, 4.5], \"coloraxis\": \"coloraxis\"}, \"name\": \"\", \"offsetgroup\": \"\", \"orientation\": \"v\", \"showlegend\": false, \"textposition\": \"auto\", \"type\": \"bar\", \"x\": [\"Face Serums\", \"Moisturizers\", \"Face Wash & Cleansers\", \"Hair Styling Products\", \"Face Masks\", \"Shampoo\", \"Hair Styling Products\", \"Conditioner\", \"Shampoo\", \"Perfume\"], \"xaxis\": \"x\", \"y\": [29, 27, 21, 19, 19, 18, 18, 18, 17, 17], \"yaxis\": \"y\"}],\n",
              "                        {\"barmode\": \"relative\", \"coloraxis\": {\"colorbar\": {\"title\": {\"text\": \"rating\"}}, \"colorscale\": [[0.0, \"#0d0887\"], [0.1111111111111111, \"#46039f\"], [0.2222222222222222, \"#7201a8\"], [0.3333333333333333, \"#9c179e\"], [0.4444444444444444, \"#bd3786\"], [0.5555555555555556, \"#d8576b\"], [0.6666666666666666, \"#ed7953\"], [0.7777777777777778, \"#fb9f3a\"], [0.8888888888888888, \"#fdca26\"], [1.0, \"#f0f921\"]]}, \"legend\": {\"tracegroupgap\": 0}, \"margin\": {\"t\": 60}, \"template\": {\"data\": {\"bar\": [{\"error_x\": {\"color\": \"#2a3f5f\"}, \"error_y\": {\"color\": \"#2a3f5f\"}, \"marker\": {\"line\": {\"color\": \"#E5ECF6\", \"width\": 0.5}}, \"type\": \"bar\"}], \"barpolar\": [{\"marker\": {\"line\": {\"color\": \"#E5ECF6\", \"width\": 0.5}}, \"type\": \"barpolar\"}], \"carpet\": [{\"aaxis\": {\"endlinecolor\": \"#2a3f5f\", \"gridcolor\": \"white\", \"linecolor\": \"white\", \"minorgridcolor\": \"white\", \"startlinecolor\": \"#2a3f5f\"}, \"baxis\": {\"endlinecolor\": \"#2a3f5f\", \"gridcolor\": \"white\", \"linecolor\": \"white\", \"minorgridcolor\": \"white\", \"startlinecolor\": \"#2a3f5f\"}, \"type\": \"carpet\"}], \"choropleth\": [{\"colorbar\": {\"outlinewidth\": 0, \"ticks\": \"\"}, \"type\": \"choropleth\"}], \"contour\": [{\"colorbar\": {\"outlinewidth\": 0, \"ticks\": \"\"}, \"colorscale\": [[0.0, \"#0d0887\"], [0.1111111111111111, \"#46039f\"], [0.2222222222222222, \"#7201a8\"], [0.3333333333333333, \"#9c179e\"], [0.4444444444444444, \"#bd3786\"], [0.5555555555555556, \"#d8576b\"], [0.6666666666666666, \"#ed7953\"], [0.7777777777777778, \"#fb9f3a\"], [0.8888888888888888, \"#fdca26\"], [1.0, \"#f0f921\"]], \"type\": \"contour\"}], \"contourcarpet\": [{\"colorbar\": {\"outlinewidth\": 0, \"ticks\": \"\"}, \"type\": \"contourcarpet\"}], \"heatmap\": [{\"colorbar\": {\"outlinewidth\": 0, \"ticks\": \"\"}, \"colorscale\": [[0.0, \"#0d0887\"], [0.1111111111111111, \"#46039f\"], [0.2222222222222222, \"#7201a8\"], [0.3333333333333333, \"#9c179e\"], [0.4444444444444444, \"#bd3786\"], [0.5555555555555556, \"#d8576b\"], [0.6666666666666666, \"#ed7953\"], [0.7777777777777778, \"#fb9f3a\"], [0.8888888888888888, \"#fdca26\"], [1.0, \"#f0f921\"]], \"type\": \"heatmap\"}], \"heatmapgl\": [{\"colorbar\": {\"outlinewidth\": 0, \"ticks\": \"\"}, \"colorscale\": [[0.0, \"#0d0887\"], [0.1111111111111111, \"#46039f\"], [0.2222222222222222, \"#7201a8\"], [0.3333333333333333, \"#9c179e\"], [0.4444444444444444, \"#bd3786\"], [0.5555555555555556, \"#d8576b\"], [0.6666666666666666, \"#ed7953\"], [0.7777777777777778, \"#fb9f3a\"], [0.8888888888888888, \"#fdca26\"], [1.0, \"#f0f921\"]], \"type\": \"heatmapgl\"}], \"histogram\": [{\"marker\": {\"colorbar\": {\"outlinewidth\": 0, \"ticks\": \"\"}}, \"type\": \"histogram\"}], \"histogram2d\": [{\"colorbar\": {\"outlinewidth\": 0, \"ticks\": \"\"}, \"colorscale\": [[0.0, \"#0d0887\"], [0.1111111111111111, \"#46039f\"], [0.2222222222222222, \"#7201a8\"], [0.3333333333333333, \"#9c179e\"], [0.4444444444444444, \"#bd3786\"], [0.5555555555555556, \"#d8576b\"], [0.6666666666666666, \"#ed7953\"], [0.7777777777777778, \"#fb9f3a\"], [0.8888888888888888, \"#fdca26\"], [1.0, \"#f0f921\"]], \"type\": \"histogram2d\"}], \"histogram2dcontour\": [{\"colorbar\": {\"outlinewidth\": 0, \"ticks\": \"\"}, \"colorscale\": [[0.0, \"#0d0887\"], [0.1111111111111111, \"#46039f\"], [0.2222222222222222, \"#7201a8\"], [0.3333333333333333, \"#9c179e\"], [0.4444444444444444, \"#bd3786\"], [0.5555555555555556, \"#d8576b\"], [0.6666666666666666, \"#ed7953\"], [0.7777777777777778, \"#fb9f3a\"], [0.8888888888888888, \"#fdca26\"], [1.0, \"#f0f921\"]], \"type\": \"histogram2dcontour\"}], \"mesh3d\": [{\"colorbar\": {\"outlinewidth\": 0, \"ticks\": \"\"}, \"type\": \"mesh3d\"}], \"parcoords\": [{\"line\": {\"colorbar\": {\"outlinewidth\": 0, \"ticks\": \"\"}}, \"type\": \"parcoords\"}], \"pie\": [{\"automargin\": true, \"type\": \"pie\"}], \"scatter\": [{\"marker\": {\"colorbar\": {\"outlinewidth\": 0, \"ticks\": \"\"}}, \"type\": \"scatter\"}], \"scatter3d\": [{\"line\": {\"colorbar\": {\"outlinewidth\": 0, \"ticks\": \"\"}}, \"marker\": {\"colorbar\": {\"outlinewidth\": 0, \"ticks\": \"\"}}, \"type\": \"scatter3d\"}], \"scattercarpet\": [{\"marker\": {\"colorbar\": {\"outlinewidth\": 0, \"ticks\": \"\"}}, \"type\": \"scattercarpet\"}], \"scattergeo\": [{\"marker\": {\"colorbar\": {\"outlinewidth\": 0, \"ticks\": \"\"}}, \"type\": \"scattergeo\"}], \"scattergl\": [{\"marker\": {\"colorbar\": {\"outlinewidth\": 0, \"ticks\": \"\"}}, \"type\": \"scattergl\"}], \"scattermapbox\": [{\"marker\": {\"colorbar\": {\"outlinewidth\": 0, \"ticks\": \"\"}}, \"type\": \"scattermapbox\"}], \"scatterpolar\": [{\"marker\": {\"colorbar\": {\"outlinewidth\": 0, \"ticks\": \"\"}}, \"type\": \"scatterpolar\"}], \"scatterpolargl\": [{\"marker\": {\"colorbar\": {\"outlinewidth\": 0, \"ticks\": \"\"}}, \"type\": \"scatterpolargl\"}], \"scatterternary\": [{\"marker\": {\"colorbar\": {\"outlinewidth\": 0, \"ticks\": \"\"}}, \"type\": \"scatterternary\"}], \"surface\": [{\"colorbar\": {\"outlinewidth\": 0, \"ticks\": \"\"}, \"colorscale\": [[0.0, \"#0d0887\"], [0.1111111111111111, \"#46039f\"], [0.2222222222222222, \"#7201a8\"], [0.3333333333333333, \"#9c179e\"], [0.4444444444444444, \"#bd3786\"], [0.5555555555555556, \"#d8576b\"], [0.6666666666666666, \"#ed7953\"], [0.7777777777777778, \"#fb9f3a\"], [0.8888888888888888, \"#fdca26\"], [1.0, \"#f0f921\"]], \"type\": \"surface\"}], \"table\": [{\"cells\": {\"fill\": {\"color\": \"#EBF0F8\"}, \"line\": {\"color\": \"white\"}}, \"header\": {\"fill\": {\"color\": \"#C8D4E3\"}, \"line\": {\"color\": \"white\"}}, \"type\": \"table\"}]}, \"layout\": {\"annotationdefaults\": {\"arrowcolor\": \"#2a3f5f\", \"arrowhead\": 0, \"arrowwidth\": 1}, \"coloraxis\": {\"colorbar\": {\"outlinewidth\": 0, \"ticks\": \"\"}}, \"colorscale\": {\"diverging\": [[0, \"#8e0152\"], [0.1, \"#c51b7d\"], [0.2, \"#de77ae\"], [0.3, \"#f1b6da\"], [0.4, \"#fde0ef\"], [0.5, \"#f7f7f7\"], [0.6, \"#e6f5d0\"], [0.7, \"#b8e186\"], [0.8, \"#7fbc41\"], [0.9, \"#4d9221\"], [1, \"#276419\"]], \"sequential\": [[0.0, \"#0d0887\"], [0.1111111111111111, \"#46039f\"], [0.2222222222222222, \"#7201a8\"], [0.3333333333333333, \"#9c179e\"], [0.4444444444444444, \"#bd3786\"], [0.5555555555555556, \"#d8576b\"], [0.6666666666666666, \"#ed7953\"], [0.7777777777777778, \"#fb9f3a\"], [0.8888888888888888, \"#fdca26\"], [1.0, \"#f0f921\"]], \"sequentialminus\": [[0.0, \"#0d0887\"], [0.1111111111111111, \"#46039f\"], [0.2222222222222222, \"#7201a8\"], [0.3333333333333333, \"#9c179e\"], [0.4444444444444444, \"#bd3786\"], [0.5555555555555556, \"#d8576b\"], [0.6666666666666666, \"#ed7953\"], [0.7777777777777778, \"#fb9f3a\"], [0.8888888888888888, \"#fdca26\"], [1.0, \"#f0f921\"]]}, \"colorway\": [\"#636efa\", \"#EF553B\", \"#00cc96\", \"#ab63fa\", \"#FFA15A\", \"#19d3f3\", \"#FF6692\", \"#B6E880\", \"#FF97FF\", \"#FECB52\"], \"font\": {\"color\": \"#2a3f5f\"}, \"geo\": {\"bgcolor\": \"white\", \"lakecolor\": \"white\", \"landcolor\": \"#E5ECF6\", \"showlakes\": true, \"showland\": true, \"subunitcolor\": \"white\"}, \"hoverlabel\": {\"align\": \"left\"}, \"hovermode\": \"closest\", \"mapbox\": {\"style\": \"light\"}, \"paper_bgcolor\": \"white\", \"plot_bgcolor\": \"#E5ECF6\", \"polar\": {\"angularaxis\": {\"gridcolor\": \"white\", \"linecolor\": \"white\", \"ticks\": \"\"}, \"bgcolor\": \"#E5ECF6\", \"radialaxis\": {\"gridcolor\": \"white\", \"linecolor\": \"white\", \"ticks\": \"\"}}, \"scene\": {\"xaxis\": {\"backgroundcolor\": \"#E5ECF6\", \"gridcolor\": \"white\", \"gridwidth\": 2, \"linecolor\": \"white\", \"showbackground\": true, \"ticks\": \"\", \"zerolinecolor\": \"white\"}, \"yaxis\": {\"backgroundcolor\": \"#E5ECF6\", \"gridcolor\": \"white\", \"gridwidth\": 2, \"linecolor\": \"white\", \"showbackground\": true, \"ticks\": \"\", \"zerolinecolor\": \"white\"}, \"zaxis\": {\"backgroundcolor\": \"#E5ECF6\", \"gridcolor\": \"white\", \"gridwidth\": 2, \"linecolor\": \"white\", \"showbackground\": true, \"ticks\": \"\", \"zerolinecolor\": \"white\"}}, \"shapedefaults\": {\"line\": {\"color\": \"#2a3f5f\"}}, \"ternary\": {\"aaxis\": {\"gridcolor\": \"white\", \"linecolor\": \"white\", \"ticks\": \"\"}, \"baxis\": {\"gridcolor\": \"white\", \"linecolor\": \"white\", \"ticks\": \"\"}, \"bgcolor\": \"#E5ECF6\", \"caxis\": {\"gridcolor\": \"white\", \"linecolor\": \"white\", \"ticks\": \"\"}}, \"title\": {\"x\": 0.05}, \"xaxis\": {\"automargin\": true, \"gridcolor\": \"white\", \"linecolor\": \"white\", \"ticks\": \"\", \"title\": {\"standoff\": 15}, \"zerolinecolor\": \"white\", \"zerolinewidth\": 2}, \"yaxis\": {\"automargin\": true, \"gridcolor\": \"white\", \"linecolor\": \"white\", \"ticks\": \"\", \"title\": {\"standoff\": 15}, \"zerolinecolor\": \"white\", \"zerolinewidth\": 2}}}, \"xaxis\": {\"anchor\": \"y\", \"domain\": [0.0, 1.0], \"title\": {\"text\": \"category\"}}, \"yaxis\": {\"anchor\": \"x\", \"domain\": [0.0, 1.0], \"title\": {\"text\": \"online_only\"}}},\n",
              "                        {\"responsive\": true}\n",
              "                    ).then(function(){\n",
              "                            \n",
              "var gd = document.getElementById('3f520967-085e-421d-94e5-d9278a92b815');\n",
              "var x = new MutationObserver(function (mutations, observer) {{\n",
              "        var display = window.getComputedStyle(gd).display;\n",
              "        if (!display || display === 'none') {{\n",
              "            console.log([gd, 'removed!']);\n",
              "            Plotly.purge(gd);\n",
              "            observer.disconnect();\n",
              "        }}\n",
              "}});\n",
              "\n",
              "// Listen for the removal of the full notebook cells\n",
              "var notebookContainer = gd.closest('#notebook-container');\n",
              "if (notebookContainer) {{\n",
              "    x.observe(notebookContainer, {childList: true});\n",
              "}}\n",
              "\n",
              "// Listen for the clearing of the current output cell\n",
              "var outputEl = gd.closest('.output');\n",
              "if (outputEl) {{\n",
              "    x.observe(outputEl, {childList: true});\n",
              "}}\n",
              "\n",
              "                        })\n",
              "                };\n",
              "                \n",
              "            </script>\n",
              "        </div>\n",
              "</body>\n",
              "</html>"
            ]
          },
          "metadata": {}
        }
      ]
    },
    {
      "cell_type": "markdown",
      "metadata": {
        "id": "8MZfFyqE85hT"
      },
      "source": [
        "## Question 4"
      ]
    },
    {
      "cell_type": "markdown",
      "metadata": {
        "id": "9NbSbMOKI6Kn"
      },
      "source": [
        "Does the higher the number of product categories that visitors like, the effect of a high number of transactions also through online sales and how is the conversion rate? \n"
      ]
    },
    {
      "cell_type": "code",
      "metadata": {
        "colab": {
          "base_uri": "https://localhost:8080/",
          "height": 358
        },
        "id": "Sln5bHuWBiqE",
        "outputId": "11169e66-882a-4a39-9793-fe12638f30b0"
      },
      "source": [
        "df4 = df_sephora[df_sephora['online_only']==1].reset_index()\n",
        "df4= df4.groupby(['category']).agg({'online_only':'count','love':'sum'}).sort_values('online_only',ascending=False).reset_index()\n",
        "df4.head(10)\n"
      ],
      "execution_count": null,
      "outputs": [
        {
          "output_type": "execute_result",
          "data": {
            "text/html": [
              "<div>\n",
              "<style scoped>\n",
              "    .dataframe tbody tr th:only-of-type {\n",
              "        vertical-align: middle;\n",
              "    }\n",
              "\n",
              "    .dataframe tbody tr th {\n",
              "        vertical-align: top;\n",
              "    }\n",
              "\n",
              "    .dataframe thead th {\n",
              "        text-align: right;\n",
              "    }\n",
              "</style>\n",
              "<table border=\"1\" class=\"dataframe\">\n",
              "  <thead>\n",
              "    <tr style=\"text-align: right;\">\n",
              "      <th></th>\n",
              "      <th>category</th>\n",
              "      <th>online_only</th>\n",
              "      <th>love</th>\n",
              "    </tr>\n",
              "  </thead>\n",
              "  <tbody>\n",
              "    <tr>\n",
              "      <th>0</th>\n",
              "      <td>Face Serums</td>\n",
              "      <td>66</td>\n",
              "      <td>385609</td>\n",
              "    </tr>\n",
              "    <tr>\n",
              "      <th>1</th>\n",
              "      <td>Moisturizers</td>\n",
              "      <td>61</td>\n",
              "      <td>151896</td>\n",
              "    </tr>\n",
              "    <tr>\n",
              "      <th>2</th>\n",
              "      <td>Candles &amp; Home Scents</td>\n",
              "      <td>57</td>\n",
              "      <td>55920</td>\n",
              "    </tr>\n",
              "    <tr>\n",
              "      <th>3</th>\n",
              "      <td>Hair Styling Products</td>\n",
              "      <td>53</td>\n",
              "      <td>114960</td>\n",
              "    </tr>\n",
              "    <tr>\n",
              "      <th>4</th>\n",
              "      <td>Shampoo</td>\n",
              "      <td>52</td>\n",
              "      <td>107209</td>\n",
              "    </tr>\n",
              "    <tr>\n",
              "      <th>5</th>\n",
              "      <td>Face Wash &amp; Cleansers</td>\n",
              "      <td>45</td>\n",
              "      <td>209121</td>\n",
              "    </tr>\n",
              "    <tr>\n",
              "      <th>6</th>\n",
              "      <td>Conditioner</td>\n",
              "      <td>41</td>\n",
              "      <td>57259</td>\n",
              "    </tr>\n",
              "    <tr>\n",
              "      <th>7</th>\n",
              "      <td>Beauty Supplements</td>\n",
              "      <td>37</td>\n",
              "      <td>67433</td>\n",
              "    </tr>\n",
              "    <tr>\n",
              "      <th>8</th>\n",
              "      <td>Body Lotions &amp; Body Oils</td>\n",
              "      <td>35</td>\n",
              "      <td>129461</td>\n",
              "    </tr>\n",
              "    <tr>\n",
              "      <th>9</th>\n",
              "      <td>Face Masks</td>\n",
              "      <td>34</td>\n",
              "      <td>224311</td>\n",
              "    </tr>\n",
              "  </tbody>\n",
              "</table>\n",
              "</div>"
            ],
            "text/plain": [
              "                   category  online_only    love\n",
              "0               Face Serums           66  385609\n",
              "1              Moisturizers           61  151896\n",
              "2     Candles & Home Scents           57   55920\n",
              "3     Hair Styling Products           53  114960\n",
              "4                   Shampoo           52  107209\n",
              "5     Face Wash & Cleansers           45  209121\n",
              "6               Conditioner           41   57259\n",
              "7        Beauty Supplements           37   67433\n",
              "8  Body Lotions & Body Oils           35  129461\n",
              "9                Face Masks           34  224311"
            ]
          },
          "metadata": {},
          "execution_count": 399
        }
      ]
    },
    {
      "cell_type": "code",
      "metadata": {
        "colab": {
          "base_uri": "https://localhost:8080/",
          "height": 542
        },
        "id": "pZlawtjHB8zT",
        "outputId": "7145ab7e-f126-43c1-a5f4-c83f5616769e"
      },
      "source": [
        "px.bar(df4.head(10), x='category',color='love',y='online_only')"
      ],
      "execution_count": null,
      "outputs": [
        {
          "output_type": "display_data",
          "data": {
            "text/html": [
              "<html>\n",
              "<head><meta charset=\"utf-8\" /></head>\n",
              "<body>\n",
              "    <div>\n",
              "            <script src=\"https://cdnjs.cloudflare.com/ajax/libs/mathjax/2.7.5/MathJax.js?config=TeX-AMS-MML_SVG\"></script><script type=\"text/javascript\">if (window.MathJax) {MathJax.Hub.Config({SVG: {font: \"STIX-Web\"}});}</script>\n",
              "                <script type=\"text/javascript\">window.PlotlyConfig = {MathJaxConfig: 'local'};</script>\n",
              "        <script src=\"https://cdn.plot.ly/plotly-latest.min.js\"></script>    \n",
              "            <div id=\"31e8569b-2617-4fdb-9e41-fac28a32053d\" class=\"plotly-graph-div\" style=\"height:525px; width:100%;\"></div>\n",
              "            <script type=\"text/javascript\">\n",
              "                \n",
              "                    window.PLOTLYENV=window.PLOTLYENV || {};\n",
              "                    \n",
              "                if (document.getElementById(\"31e8569b-2617-4fdb-9e41-fac28a32053d\")) {\n",
              "                    Plotly.newPlot(\n",
              "                        '31e8569b-2617-4fdb-9e41-fac28a32053d',\n",
              "                        [{\"alignmentgroup\": \"True\", \"hoverlabel\": {\"namelength\": 0}, \"hovertemplate\": \"category=%{x}<br>online_only=%{y}<br>love=%{marker.color}\", \"legendgroup\": \"\", \"marker\": {\"color\": [385609, 151896, 55920, 114960, 107209, 209121, 57259, 67433, 129461, 224311], \"coloraxis\": \"coloraxis\"}, \"name\": \"\", \"offsetgroup\": \"\", \"orientation\": \"v\", \"showlegend\": false, \"textposition\": \"auto\", \"type\": \"bar\", \"x\": [\"Face Serums\", \"Moisturizers\", \"Candles & Home Scents\", \"Hair Styling Products\", \"Shampoo\", \"Face Wash & Cleansers\", \"Conditioner\", \"Beauty Supplements\", \"Body Lotions & Body Oils\", \"Face Masks\"], \"xaxis\": \"x\", \"y\": [66, 61, 57, 53, 52, 45, 41, 37, 35, 34], \"yaxis\": \"y\"}],\n",
              "                        {\"barmode\": \"relative\", \"coloraxis\": {\"colorbar\": {\"title\": {\"text\": \"love\"}}, \"colorscale\": [[0.0, \"#0d0887\"], [0.1111111111111111, \"#46039f\"], [0.2222222222222222, \"#7201a8\"], [0.3333333333333333, \"#9c179e\"], [0.4444444444444444, \"#bd3786\"], [0.5555555555555556, \"#d8576b\"], [0.6666666666666666, \"#ed7953\"], [0.7777777777777778, \"#fb9f3a\"], [0.8888888888888888, \"#fdca26\"], [1.0, \"#f0f921\"]]}, \"legend\": {\"tracegroupgap\": 0}, \"margin\": {\"t\": 60}, \"template\": {\"data\": {\"bar\": [{\"error_x\": {\"color\": \"#2a3f5f\"}, \"error_y\": {\"color\": \"#2a3f5f\"}, \"marker\": {\"line\": {\"color\": \"#E5ECF6\", \"width\": 0.5}}, \"type\": \"bar\"}], \"barpolar\": [{\"marker\": {\"line\": {\"color\": \"#E5ECF6\", \"width\": 0.5}}, \"type\": \"barpolar\"}], \"carpet\": [{\"aaxis\": {\"endlinecolor\": \"#2a3f5f\", \"gridcolor\": \"white\", \"linecolor\": \"white\", \"minorgridcolor\": \"white\", \"startlinecolor\": \"#2a3f5f\"}, \"baxis\": {\"endlinecolor\": \"#2a3f5f\", \"gridcolor\": \"white\", \"linecolor\": \"white\", \"minorgridcolor\": \"white\", \"startlinecolor\": \"#2a3f5f\"}, \"type\": \"carpet\"}], \"choropleth\": [{\"colorbar\": {\"outlinewidth\": 0, \"ticks\": \"\"}, \"type\": \"choropleth\"}], \"contour\": [{\"colorbar\": {\"outlinewidth\": 0, \"ticks\": \"\"}, \"colorscale\": [[0.0, \"#0d0887\"], [0.1111111111111111, \"#46039f\"], [0.2222222222222222, \"#7201a8\"], [0.3333333333333333, \"#9c179e\"], [0.4444444444444444, \"#bd3786\"], [0.5555555555555556, \"#d8576b\"], [0.6666666666666666, \"#ed7953\"], [0.7777777777777778, \"#fb9f3a\"], [0.8888888888888888, \"#fdca26\"], [1.0, \"#f0f921\"]], \"type\": \"contour\"}], \"contourcarpet\": [{\"colorbar\": {\"outlinewidth\": 0, \"ticks\": \"\"}, \"type\": \"contourcarpet\"}], \"heatmap\": [{\"colorbar\": {\"outlinewidth\": 0, \"ticks\": \"\"}, \"colorscale\": [[0.0, \"#0d0887\"], [0.1111111111111111, \"#46039f\"], [0.2222222222222222, \"#7201a8\"], [0.3333333333333333, \"#9c179e\"], [0.4444444444444444, \"#bd3786\"], [0.5555555555555556, \"#d8576b\"], [0.6666666666666666, \"#ed7953\"], [0.7777777777777778, \"#fb9f3a\"], [0.8888888888888888, \"#fdca26\"], [1.0, \"#f0f921\"]], \"type\": \"heatmap\"}], \"heatmapgl\": [{\"colorbar\": {\"outlinewidth\": 0, \"ticks\": \"\"}, \"colorscale\": [[0.0, \"#0d0887\"], [0.1111111111111111, \"#46039f\"], [0.2222222222222222, \"#7201a8\"], [0.3333333333333333, \"#9c179e\"], [0.4444444444444444, \"#bd3786\"], [0.5555555555555556, \"#d8576b\"], [0.6666666666666666, \"#ed7953\"], [0.7777777777777778, \"#fb9f3a\"], [0.8888888888888888, \"#fdca26\"], [1.0, \"#f0f921\"]], \"type\": \"heatmapgl\"}], \"histogram\": [{\"marker\": {\"colorbar\": {\"outlinewidth\": 0, \"ticks\": \"\"}}, \"type\": \"histogram\"}], \"histogram2d\": [{\"colorbar\": {\"outlinewidth\": 0, \"ticks\": \"\"}, \"colorscale\": [[0.0, \"#0d0887\"], [0.1111111111111111, \"#46039f\"], [0.2222222222222222, \"#7201a8\"], [0.3333333333333333, \"#9c179e\"], [0.4444444444444444, \"#bd3786\"], [0.5555555555555556, \"#d8576b\"], [0.6666666666666666, \"#ed7953\"], [0.7777777777777778, \"#fb9f3a\"], [0.8888888888888888, \"#fdca26\"], [1.0, \"#f0f921\"]], \"type\": \"histogram2d\"}], \"histogram2dcontour\": [{\"colorbar\": {\"outlinewidth\": 0, \"ticks\": \"\"}, \"colorscale\": [[0.0, \"#0d0887\"], [0.1111111111111111, \"#46039f\"], [0.2222222222222222, \"#7201a8\"], [0.3333333333333333, \"#9c179e\"], [0.4444444444444444, \"#bd3786\"], [0.5555555555555556, \"#d8576b\"], [0.6666666666666666, \"#ed7953\"], [0.7777777777777778, \"#fb9f3a\"], [0.8888888888888888, \"#fdca26\"], [1.0, \"#f0f921\"]], \"type\": \"histogram2dcontour\"}], \"mesh3d\": [{\"colorbar\": {\"outlinewidth\": 0, \"ticks\": \"\"}, \"type\": \"mesh3d\"}], \"parcoords\": [{\"line\": {\"colorbar\": {\"outlinewidth\": 0, \"ticks\": \"\"}}, \"type\": \"parcoords\"}], \"pie\": [{\"automargin\": true, \"type\": \"pie\"}], \"scatter\": [{\"marker\": {\"colorbar\": {\"outlinewidth\": 0, \"ticks\": \"\"}}, \"type\": \"scatter\"}], \"scatter3d\": [{\"line\": {\"colorbar\": {\"outlinewidth\": 0, \"ticks\": \"\"}}, \"marker\": {\"colorbar\": {\"outlinewidth\": 0, \"ticks\": \"\"}}, \"type\": \"scatter3d\"}], \"scattercarpet\": [{\"marker\": {\"colorbar\": {\"outlinewidth\": 0, \"ticks\": \"\"}}, \"type\": \"scattercarpet\"}], \"scattergeo\": [{\"marker\": {\"colorbar\": {\"outlinewidth\": 0, \"ticks\": \"\"}}, \"type\": \"scattergeo\"}], \"scattergl\": [{\"marker\": {\"colorbar\": {\"outlinewidth\": 0, \"ticks\": \"\"}}, \"type\": \"scattergl\"}], \"scattermapbox\": [{\"marker\": {\"colorbar\": {\"outlinewidth\": 0, \"ticks\": \"\"}}, \"type\": \"scattermapbox\"}], \"scatterpolar\": [{\"marker\": {\"colorbar\": {\"outlinewidth\": 0, \"ticks\": \"\"}}, \"type\": \"scatterpolar\"}], \"scatterpolargl\": [{\"marker\": {\"colorbar\": {\"outlinewidth\": 0, \"ticks\": \"\"}}, \"type\": \"scatterpolargl\"}], \"scatterternary\": [{\"marker\": {\"colorbar\": {\"outlinewidth\": 0, \"ticks\": \"\"}}, \"type\": \"scatterternary\"}], \"surface\": [{\"colorbar\": {\"outlinewidth\": 0, \"ticks\": \"\"}, \"colorscale\": [[0.0, \"#0d0887\"], [0.1111111111111111, \"#46039f\"], [0.2222222222222222, \"#7201a8\"], [0.3333333333333333, \"#9c179e\"], [0.4444444444444444, \"#bd3786\"], [0.5555555555555556, \"#d8576b\"], [0.6666666666666666, \"#ed7953\"], [0.7777777777777778, \"#fb9f3a\"], [0.8888888888888888, \"#fdca26\"], [1.0, \"#f0f921\"]], \"type\": \"surface\"}], \"table\": [{\"cells\": {\"fill\": {\"color\": \"#EBF0F8\"}, \"line\": {\"color\": \"white\"}}, \"header\": {\"fill\": {\"color\": \"#C8D4E3\"}, \"line\": {\"color\": \"white\"}}, \"type\": \"table\"}]}, \"layout\": {\"annotationdefaults\": {\"arrowcolor\": \"#2a3f5f\", \"arrowhead\": 0, \"arrowwidth\": 1}, \"coloraxis\": {\"colorbar\": {\"outlinewidth\": 0, \"ticks\": \"\"}}, \"colorscale\": {\"diverging\": [[0, \"#8e0152\"], [0.1, \"#c51b7d\"], [0.2, \"#de77ae\"], [0.3, \"#f1b6da\"], [0.4, \"#fde0ef\"], [0.5, \"#f7f7f7\"], [0.6, \"#e6f5d0\"], [0.7, \"#b8e186\"], [0.8, \"#7fbc41\"], [0.9, \"#4d9221\"], [1, \"#276419\"]], \"sequential\": [[0.0, \"#0d0887\"], [0.1111111111111111, \"#46039f\"], [0.2222222222222222, \"#7201a8\"], [0.3333333333333333, \"#9c179e\"], [0.4444444444444444, \"#bd3786\"], [0.5555555555555556, \"#d8576b\"], [0.6666666666666666, \"#ed7953\"], [0.7777777777777778, \"#fb9f3a\"], [0.8888888888888888, \"#fdca26\"], [1.0, \"#f0f921\"]], \"sequentialminus\": [[0.0, \"#0d0887\"], [0.1111111111111111, \"#46039f\"], [0.2222222222222222, \"#7201a8\"], [0.3333333333333333, \"#9c179e\"], [0.4444444444444444, \"#bd3786\"], [0.5555555555555556, \"#d8576b\"], [0.6666666666666666, \"#ed7953\"], [0.7777777777777778, \"#fb9f3a\"], [0.8888888888888888, \"#fdca26\"], [1.0, \"#f0f921\"]]}, \"colorway\": [\"#636efa\", \"#EF553B\", \"#00cc96\", \"#ab63fa\", \"#FFA15A\", \"#19d3f3\", \"#FF6692\", \"#B6E880\", \"#FF97FF\", \"#FECB52\"], \"font\": {\"color\": \"#2a3f5f\"}, \"geo\": {\"bgcolor\": \"white\", \"lakecolor\": \"white\", \"landcolor\": \"#E5ECF6\", \"showlakes\": true, \"showland\": true, \"subunitcolor\": \"white\"}, \"hoverlabel\": {\"align\": \"left\"}, \"hovermode\": \"closest\", \"mapbox\": {\"style\": \"light\"}, \"paper_bgcolor\": \"white\", \"plot_bgcolor\": \"#E5ECF6\", \"polar\": {\"angularaxis\": {\"gridcolor\": \"white\", \"linecolor\": \"white\", \"ticks\": \"\"}, \"bgcolor\": \"#E5ECF6\", \"radialaxis\": {\"gridcolor\": \"white\", \"linecolor\": \"white\", \"ticks\": \"\"}}, \"scene\": {\"xaxis\": {\"backgroundcolor\": \"#E5ECF6\", \"gridcolor\": \"white\", \"gridwidth\": 2, \"linecolor\": \"white\", \"showbackground\": true, \"ticks\": \"\", \"zerolinecolor\": \"white\"}, \"yaxis\": {\"backgroundcolor\": \"#E5ECF6\", \"gridcolor\": \"white\", \"gridwidth\": 2, \"linecolor\": \"white\", \"showbackground\": true, \"ticks\": \"\", \"zerolinecolor\": \"white\"}, \"zaxis\": {\"backgroundcolor\": \"#E5ECF6\", \"gridcolor\": \"white\", \"gridwidth\": 2, \"linecolor\": \"white\", \"showbackground\": true, \"ticks\": \"\", \"zerolinecolor\": \"white\"}}, \"shapedefaults\": {\"line\": {\"color\": \"#2a3f5f\"}}, \"ternary\": {\"aaxis\": {\"gridcolor\": \"white\", \"linecolor\": \"white\", \"ticks\": \"\"}, \"baxis\": {\"gridcolor\": \"white\", \"linecolor\": \"white\", \"ticks\": \"\"}, \"bgcolor\": \"#E5ECF6\", \"caxis\": {\"gridcolor\": \"white\", \"linecolor\": \"white\", \"ticks\": \"\"}}, \"title\": {\"x\": 0.05}, \"xaxis\": {\"automargin\": true, \"gridcolor\": \"white\", \"linecolor\": \"white\", \"ticks\": \"\", \"title\": {\"standoff\": 15}, \"zerolinecolor\": \"white\", \"zerolinewidth\": 2}, \"yaxis\": {\"automargin\": true, \"gridcolor\": \"white\", \"linecolor\": \"white\", \"ticks\": \"\", \"title\": {\"standoff\": 15}, \"zerolinecolor\": \"white\", \"zerolinewidth\": 2}}}, \"xaxis\": {\"anchor\": \"y\", \"domain\": [0.0, 1.0], \"title\": {\"text\": \"category\"}}, \"yaxis\": {\"anchor\": \"x\", \"domain\": [0.0, 1.0], \"title\": {\"text\": \"online_only\"}}},\n",
              "                        {\"responsive\": true}\n",
              "                    ).then(function(){\n",
              "                            \n",
              "var gd = document.getElementById('31e8569b-2617-4fdb-9e41-fac28a32053d');\n",
              "var x = new MutationObserver(function (mutations, observer) {{\n",
              "        var display = window.getComputedStyle(gd).display;\n",
              "        if (!display || display === 'none') {{\n",
              "            console.log([gd, 'removed!']);\n",
              "            Plotly.purge(gd);\n",
              "            observer.disconnect();\n",
              "        }}\n",
              "}});\n",
              "\n",
              "// Listen for the removal of the full notebook cells\n",
              "var notebookContainer = gd.closest('#notebook-container');\n",
              "if (notebookContainer) {{\n",
              "    x.observe(notebookContainer, {childList: true});\n",
              "}}\n",
              "\n",
              "// Listen for the clearing of the current output cell\n",
              "var outputEl = gd.closest('.output');\n",
              "if (outputEl) {{\n",
              "    x.observe(outputEl, {childList: true});\n",
              "}}\n",
              "\n",
              "                        })\n",
              "                };\n",
              "                \n",
              "            </script>\n",
              "        </div>\n",
              "</body>\n",
              "</html>"
            ]
          },
          "metadata": {}
        }
      ]
    },
    {
      "cell_type": "code",
      "metadata": {
        "colab": {
          "base_uri": "https://localhost:8080/",
          "height": 358
        },
        "id": "Da8vk3_oIxYB",
        "outputId": "6a1127d6-1269-4e73-e584-12945554cb3c"
      },
      "source": [
        "df5 = df_sephora[df_sephora['online_only']==1].reset_index()\n",
        "df5= df5.groupby(['category']).agg({'online_only':'count','love':'sum'}).reset_index()\n",
        "df5['conversion_rate'] = (df5['online_only'] / df5['love'])*100\n",
        "df5 = df5.sort_values('online_only',ascending=False)\n",
        "df5.head(10)"
      ],
      "execution_count": null,
      "outputs": [
        {
          "output_type": "execute_result",
          "data": {
            "text/html": [
              "<div>\n",
              "<style scoped>\n",
              "    .dataframe tbody tr th:only-of-type {\n",
              "        vertical-align: middle;\n",
              "    }\n",
              "\n",
              "    .dataframe tbody tr th {\n",
              "        vertical-align: top;\n",
              "    }\n",
              "\n",
              "    .dataframe thead th {\n",
              "        text-align: right;\n",
              "    }\n",
              "</style>\n",
              "<table border=\"1\" class=\"dataframe\">\n",
              "  <thead>\n",
              "    <tr style=\"text-align: right;\">\n",
              "      <th></th>\n",
              "      <th>category</th>\n",
              "      <th>online_only</th>\n",
              "      <th>love</th>\n",
              "      <th>conversion_rate</th>\n",
              "    </tr>\n",
              "  </thead>\n",
              "  <tbody>\n",
              "    <tr>\n",
              "      <th>50</th>\n",
              "      <td>Face Serums</td>\n",
              "      <td>66</td>\n",
              "      <td>385609</td>\n",
              "      <td>0.017116</td>\n",
              "    </tr>\n",
              "    <tr>\n",
              "      <th>99</th>\n",
              "      <td>Moisturizers</td>\n",
              "      <td>61</td>\n",
              "      <td>151896</td>\n",
              "      <td>0.040159</td>\n",
              "    </tr>\n",
              "    <tr>\n",
              "      <th>20</th>\n",
              "      <td>Candles &amp; Home Scents</td>\n",
              "      <td>57</td>\n",
              "      <td>55920</td>\n",
              "      <td>0.101931</td>\n",
              "    </tr>\n",
              "    <tr>\n",
              "      <th>75</th>\n",
              "      <td>Hair Styling Products</td>\n",
              "      <td>53</td>\n",
              "      <td>114960</td>\n",
              "      <td>0.046103</td>\n",
              "    </tr>\n",
              "    <tr>\n",
              "      <th>108</th>\n",
              "      <td>Shampoo</td>\n",
              "      <td>52</td>\n",
              "      <td>107209</td>\n",
              "      <td>0.048503</td>\n",
              "    </tr>\n",
              "    <tr>\n",
              "      <th>54</th>\n",
              "      <td>Face Wash &amp; Cleansers</td>\n",
              "      <td>45</td>\n",
              "      <td>209121</td>\n",
              "      <td>0.021519</td>\n",
              "    </tr>\n",
              "    <tr>\n",
              "      <th>27</th>\n",
              "      <td>Conditioner</td>\n",
              "      <td>41</td>\n",
              "      <td>57259</td>\n",
              "      <td>0.071604</td>\n",
              "    </tr>\n",
              "    <tr>\n",
              "      <th>6</th>\n",
              "      <td>Beauty Supplements</td>\n",
              "      <td>37</td>\n",
              "      <td>67433</td>\n",
              "      <td>0.054869</td>\n",
              "    </tr>\n",
              "    <tr>\n",
              "      <th>10</th>\n",
              "      <td>Body Lotions &amp; Body Oils</td>\n",
              "      <td>35</td>\n",
              "      <td>129461</td>\n",
              "      <td>0.027035</td>\n",
              "    </tr>\n",
              "    <tr>\n",
              "      <th>47</th>\n",
              "      <td>Face Masks</td>\n",
              "      <td>34</td>\n",
              "      <td>224311</td>\n",
              "      <td>0.015158</td>\n",
              "    </tr>\n",
              "  </tbody>\n",
              "</table>\n",
              "</div>"
            ],
            "text/plain": [
              "                     category  online_only    love  conversion_rate\n",
              "50                Face Serums           66  385609         0.017116\n",
              "99               Moisturizers           61  151896         0.040159\n",
              "20      Candles & Home Scents           57   55920         0.101931\n",
              "75      Hair Styling Products           53  114960         0.046103\n",
              "108                   Shampoo           52  107209         0.048503\n",
              "54      Face Wash & Cleansers           45  209121         0.021519\n",
              "27                Conditioner           41   57259         0.071604\n",
              "6          Beauty Supplements           37   67433         0.054869\n",
              "10   Body Lotions & Body Oils           35  129461         0.027035\n",
              "47                 Face Masks           34  224311         0.015158"
            ]
          },
          "metadata": {},
          "execution_count": 401
        }
      ]
    },
    {
      "cell_type": "code",
      "metadata": {
        "colab": {
          "base_uri": "https://localhost:8080/",
          "height": 542
        },
        "id": "rIqgFJChMcYT",
        "outputId": "2d541226-38e5-45ad-c3a6-7a42d05e14be"
      },
      "source": [
        "px.bar(df5.head(10),x='category',y='online_only',color='conversion_rate', title='Product category conversion rate based on transactions sold against product category likes ')"
      ],
      "execution_count": null,
      "outputs": [
        {
          "output_type": "display_data",
          "data": {
            "text/html": [
              "<html>\n",
              "<head><meta charset=\"utf-8\" /></head>\n",
              "<body>\n",
              "    <div>\n",
              "            <script src=\"https://cdnjs.cloudflare.com/ajax/libs/mathjax/2.7.5/MathJax.js?config=TeX-AMS-MML_SVG\"></script><script type=\"text/javascript\">if (window.MathJax) {MathJax.Hub.Config({SVG: {font: \"STIX-Web\"}});}</script>\n",
              "                <script type=\"text/javascript\">window.PlotlyConfig = {MathJaxConfig: 'local'};</script>\n",
              "        <script src=\"https://cdn.plot.ly/plotly-latest.min.js\"></script>    \n",
              "            <div id=\"e3f0c00c-c55d-408e-b5b8-9805618d1700\" class=\"plotly-graph-div\" style=\"height:525px; width:100%;\"></div>\n",
              "            <script type=\"text/javascript\">\n",
              "                \n",
              "                    window.PLOTLYENV=window.PLOTLYENV || {};\n",
              "                    \n",
              "                if (document.getElementById(\"e3f0c00c-c55d-408e-b5b8-9805618d1700\")) {\n",
              "                    Plotly.newPlot(\n",
              "                        'e3f0c00c-c55d-408e-b5b8-9805618d1700',\n",
              "                        [{\"alignmentgroup\": \"True\", \"hoverlabel\": {\"namelength\": 0}, \"hovertemplate\": \"category=%{x}<br>online_only=%{y}<br>conversion_rate=%{marker.color}\", \"legendgroup\": \"\", \"marker\": {\"color\": [0.01711578308597569, 0.04015905619634486, 0.10193133047210301, 0.04610299234516354, 0.048503390573552595, 0.021518642317127405, 0.07160446392706823, 0.05486927765337446, 0.027035168892562238, 0.015157526826593435], \"coloraxis\": \"coloraxis\"}, \"name\": \"\", \"offsetgroup\": \"\", \"orientation\": \"v\", \"showlegend\": false, \"textposition\": \"auto\", \"type\": \"bar\", \"x\": [\"Face Serums\", \"Moisturizers\", \"Candles & Home Scents\", \"Hair Styling Products\", \"Shampoo\", \"Face Wash & Cleansers\", \"Conditioner\", \"Beauty Supplements\", \"Body Lotions & Body Oils\", \"Face Masks\"], \"xaxis\": \"x\", \"y\": [66, 61, 57, 53, 52, 45, 41, 37, 35, 34], \"yaxis\": \"y\"}],\n",
              "                        {\"barmode\": \"relative\", \"coloraxis\": {\"colorbar\": {\"title\": {\"text\": \"conversion_rate\"}}, \"colorscale\": [[0.0, \"#0d0887\"], [0.1111111111111111, \"#46039f\"], [0.2222222222222222, \"#7201a8\"], [0.3333333333333333, \"#9c179e\"], [0.4444444444444444, \"#bd3786\"], [0.5555555555555556, \"#d8576b\"], [0.6666666666666666, \"#ed7953\"], [0.7777777777777778, \"#fb9f3a\"], [0.8888888888888888, \"#fdca26\"], [1.0, \"#f0f921\"]]}, \"legend\": {\"tracegroupgap\": 0}, \"template\": {\"data\": {\"bar\": [{\"error_x\": {\"color\": \"#2a3f5f\"}, \"error_y\": {\"color\": \"#2a3f5f\"}, \"marker\": {\"line\": {\"color\": \"#E5ECF6\", \"width\": 0.5}}, \"type\": \"bar\"}], \"barpolar\": [{\"marker\": {\"line\": {\"color\": \"#E5ECF6\", \"width\": 0.5}}, \"type\": \"barpolar\"}], \"carpet\": [{\"aaxis\": {\"endlinecolor\": \"#2a3f5f\", \"gridcolor\": \"white\", \"linecolor\": \"white\", \"minorgridcolor\": \"white\", \"startlinecolor\": \"#2a3f5f\"}, \"baxis\": {\"endlinecolor\": \"#2a3f5f\", \"gridcolor\": \"white\", \"linecolor\": \"white\", \"minorgridcolor\": \"white\", \"startlinecolor\": \"#2a3f5f\"}, \"type\": \"carpet\"}], \"choropleth\": [{\"colorbar\": {\"outlinewidth\": 0, \"ticks\": \"\"}, \"type\": \"choropleth\"}], \"contour\": [{\"colorbar\": {\"outlinewidth\": 0, \"ticks\": \"\"}, \"colorscale\": [[0.0, \"#0d0887\"], [0.1111111111111111, \"#46039f\"], [0.2222222222222222, \"#7201a8\"], [0.3333333333333333, \"#9c179e\"], [0.4444444444444444, \"#bd3786\"], [0.5555555555555556, \"#d8576b\"], [0.6666666666666666, \"#ed7953\"], [0.7777777777777778, \"#fb9f3a\"], [0.8888888888888888, \"#fdca26\"], [1.0, \"#f0f921\"]], \"type\": \"contour\"}], \"contourcarpet\": [{\"colorbar\": {\"outlinewidth\": 0, \"ticks\": \"\"}, \"type\": \"contourcarpet\"}], \"heatmap\": [{\"colorbar\": {\"outlinewidth\": 0, \"ticks\": \"\"}, \"colorscale\": [[0.0, \"#0d0887\"], [0.1111111111111111, \"#46039f\"], [0.2222222222222222, \"#7201a8\"], [0.3333333333333333, \"#9c179e\"], [0.4444444444444444, \"#bd3786\"], [0.5555555555555556, \"#d8576b\"], [0.6666666666666666, \"#ed7953\"], [0.7777777777777778, \"#fb9f3a\"], [0.8888888888888888, \"#fdca26\"], [1.0, \"#f0f921\"]], \"type\": \"heatmap\"}], \"heatmapgl\": [{\"colorbar\": {\"outlinewidth\": 0, \"ticks\": \"\"}, \"colorscale\": [[0.0, \"#0d0887\"], [0.1111111111111111, \"#46039f\"], [0.2222222222222222, \"#7201a8\"], [0.3333333333333333, \"#9c179e\"], [0.4444444444444444, \"#bd3786\"], [0.5555555555555556, \"#d8576b\"], [0.6666666666666666, \"#ed7953\"], [0.7777777777777778, \"#fb9f3a\"], [0.8888888888888888, \"#fdca26\"], [1.0, \"#f0f921\"]], \"type\": \"heatmapgl\"}], \"histogram\": [{\"marker\": {\"colorbar\": {\"outlinewidth\": 0, \"ticks\": \"\"}}, \"type\": \"histogram\"}], \"histogram2d\": [{\"colorbar\": {\"outlinewidth\": 0, \"ticks\": \"\"}, \"colorscale\": [[0.0, \"#0d0887\"], [0.1111111111111111, \"#46039f\"], [0.2222222222222222, \"#7201a8\"], [0.3333333333333333, \"#9c179e\"], [0.4444444444444444, \"#bd3786\"], [0.5555555555555556, \"#d8576b\"], [0.6666666666666666, \"#ed7953\"], [0.7777777777777778, \"#fb9f3a\"], [0.8888888888888888, \"#fdca26\"], [1.0, \"#f0f921\"]], \"type\": \"histogram2d\"}], \"histogram2dcontour\": [{\"colorbar\": {\"outlinewidth\": 0, \"ticks\": \"\"}, \"colorscale\": [[0.0, \"#0d0887\"], [0.1111111111111111, \"#46039f\"], [0.2222222222222222, \"#7201a8\"], [0.3333333333333333, \"#9c179e\"], [0.4444444444444444, \"#bd3786\"], [0.5555555555555556, \"#d8576b\"], [0.6666666666666666, \"#ed7953\"], [0.7777777777777778, \"#fb9f3a\"], [0.8888888888888888, \"#fdca26\"], [1.0, \"#f0f921\"]], \"type\": \"histogram2dcontour\"}], \"mesh3d\": [{\"colorbar\": {\"outlinewidth\": 0, \"ticks\": \"\"}, \"type\": \"mesh3d\"}], \"parcoords\": [{\"line\": {\"colorbar\": {\"outlinewidth\": 0, \"ticks\": \"\"}}, \"type\": \"parcoords\"}], \"pie\": [{\"automargin\": true, \"type\": \"pie\"}], \"scatter\": [{\"marker\": {\"colorbar\": {\"outlinewidth\": 0, \"ticks\": \"\"}}, \"type\": \"scatter\"}], \"scatter3d\": [{\"line\": {\"colorbar\": {\"outlinewidth\": 0, \"ticks\": \"\"}}, \"marker\": {\"colorbar\": {\"outlinewidth\": 0, \"ticks\": \"\"}}, \"type\": \"scatter3d\"}], \"scattercarpet\": [{\"marker\": {\"colorbar\": {\"outlinewidth\": 0, \"ticks\": \"\"}}, \"type\": \"scattercarpet\"}], \"scattergeo\": [{\"marker\": {\"colorbar\": {\"outlinewidth\": 0, \"ticks\": \"\"}}, \"type\": \"scattergeo\"}], \"scattergl\": [{\"marker\": {\"colorbar\": {\"outlinewidth\": 0, \"ticks\": \"\"}}, \"type\": \"scattergl\"}], \"scattermapbox\": [{\"marker\": {\"colorbar\": {\"outlinewidth\": 0, \"ticks\": \"\"}}, \"type\": \"scattermapbox\"}], \"scatterpolar\": [{\"marker\": {\"colorbar\": {\"outlinewidth\": 0, \"ticks\": \"\"}}, \"type\": \"scatterpolar\"}], \"scatterpolargl\": [{\"marker\": {\"colorbar\": {\"outlinewidth\": 0, \"ticks\": \"\"}}, \"type\": \"scatterpolargl\"}], \"scatterternary\": [{\"marker\": {\"colorbar\": {\"outlinewidth\": 0, \"ticks\": \"\"}}, \"type\": \"scatterternary\"}], \"surface\": [{\"colorbar\": {\"outlinewidth\": 0, \"ticks\": \"\"}, \"colorscale\": [[0.0, \"#0d0887\"], [0.1111111111111111, \"#46039f\"], [0.2222222222222222, \"#7201a8\"], [0.3333333333333333, \"#9c179e\"], [0.4444444444444444, \"#bd3786\"], [0.5555555555555556, \"#d8576b\"], [0.6666666666666666, \"#ed7953\"], [0.7777777777777778, \"#fb9f3a\"], [0.8888888888888888, \"#fdca26\"], [1.0, \"#f0f921\"]], \"type\": \"surface\"}], \"table\": [{\"cells\": {\"fill\": {\"color\": \"#EBF0F8\"}, \"line\": {\"color\": \"white\"}}, \"header\": {\"fill\": {\"color\": \"#C8D4E3\"}, \"line\": {\"color\": \"white\"}}, \"type\": \"table\"}]}, \"layout\": {\"annotationdefaults\": {\"arrowcolor\": \"#2a3f5f\", \"arrowhead\": 0, \"arrowwidth\": 1}, \"coloraxis\": {\"colorbar\": {\"outlinewidth\": 0, \"ticks\": \"\"}}, \"colorscale\": {\"diverging\": [[0, \"#8e0152\"], [0.1, \"#c51b7d\"], [0.2, \"#de77ae\"], [0.3, \"#f1b6da\"], [0.4, \"#fde0ef\"], [0.5, \"#f7f7f7\"], [0.6, \"#e6f5d0\"], [0.7, \"#b8e186\"], [0.8, \"#7fbc41\"], [0.9, \"#4d9221\"], [1, \"#276419\"]], \"sequential\": [[0.0, \"#0d0887\"], [0.1111111111111111, \"#46039f\"], [0.2222222222222222, \"#7201a8\"], [0.3333333333333333, \"#9c179e\"], [0.4444444444444444, \"#bd3786\"], [0.5555555555555556, \"#d8576b\"], [0.6666666666666666, \"#ed7953\"], [0.7777777777777778, \"#fb9f3a\"], [0.8888888888888888, \"#fdca26\"], [1.0, \"#f0f921\"]], \"sequentialminus\": [[0.0, \"#0d0887\"], [0.1111111111111111, \"#46039f\"], [0.2222222222222222, \"#7201a8\"], [0.3333333333333333, \"#9c179e\"], [0.4444444444444444, \"#bd3786\"], [0.5555555555555556, \"#d8576b\"], [0.6666666666666666, \"#ed7953\"], [0.7777777777777778, \"#fb9f3a\"], [0.8888888888888888, \"#fdca26\"], [1.0, \"#f0f921\"]]}, \"colorway\": [\"#636efa\", \"#EF553B\", \"#00cc96\", \"#ab63fa\", \"#FFA15A\", \"#19d3f3\", \"#FF6692\", \"#B6E880\", \"#FF97FF\", \"#FECB52\"], \"font\": {\"color\": \"#2a3f5f\"}, \"geo\": {\"bgcolor\": \"white\", \"lakecolor\": \"white\", \"landcolor\": \"#E5ECF6\", \"showlakes\": true, \"showland\": true, \"subunitcolor\": \"white\"}, \"hoverlabel\": {\"align\": \"left\"}, \"hovermode\": \"closest\", \"mapbox\": {\"style\": \"light\"}, \"paper_bgcolor\": \"white\", \"plot_bgcolor\": \"#E5ECF6\", \"polar\": {\"angularaxis\": {\"gridcolor\": \"white\", \"linecolor\": \"white\", \"ticks\": \"\"}, \"bgcolor\": \"#E5ECF6\", \"radialaxis\": {\"gridcolor\": \"white\", \"linecolor\": \"white\", \"ticks\": \"\"}}, \"scene\": {\"xaxis\": {\"backgroundcolor\": \"#E5ECF6\", \"gridcolor\": \"white\", \"gridwidth\": 2, \"linecolor\": \"white\", \"showbackground\": true, \"ticks\": \"\", \"zerolinecolor\": \"white\"}, \"yaxis\": {\"backgroundcolor\": \"#E5ECF6\", \"gridcolor\": \"white\", \"gridwidth\": 2, \"linecolor\": \"white\", \"showbackground\": true, \"ticks\": \"\", \"zerolinecolor\": \"white\"}, \"zaxis\": {\"backgroundcolor\": \"#E5ECF6\", \"gridcolor\": \"white\", \"gridwidth\": 2, \"linecolor\": \"white\", \"showbackground\": true, \"ticks\": \"\", \"zerolinecolor\": \"white\"}}, \"shapedefaults\": {\"line\": {\"color\": \"#2a3f5f\"}}, \"ternary\": {\"aaxis\": {\"gridcolor\": \"white\", \"linecolor\": \"white\", \"ticks\": \"\"}, \"baxis\": {\"gridcolor\": \"white\", \"linecolor\": \"white\", \"ticks\": \"\"}, \"bgcolor\": \"#E5ECF6\", \"caxis\": {\"gridcolor\": \"white\", \"linecolor\": \"white\", \"ticks\": \"\"}}, \"title\": {\"x\": 0.05}, \"xaxis\": {\"automargin\": true, \"gridcolor\": \"white\", \"linecolor\": \"white\", \"ticks\": \"\", \"title\": {\"standoff\": 15}, \"zerolinecolor\": \"white\", \"zerolinewidth\": 2}, \"yaxis\": {\"automargin\": true, \"gridcolor\": \"white\", \"linecolor\": \"white\", \"ticks\": \"\", \"title\": {\"standoff\": 15}, \"zerolinecolor\": \"white\", \"zerolinewidth\": 2}}}, \"title\": {\"text\": \"Product category conversion rate based on transactions sold against product category likes \"}, \"xaxis\": {\"anchor\": \"y\", \"domain\": [0.0, 1.0], \"title\": {\"text\": \"category\"}}, \"yaxis\": {\"anchor\": \"x\", \"domain\": [0.0, 1.0], \"title\": {\"text\": \"online_only\"}}},\n",
              "                        {\"responsive\": true}\n",
              "                    ).then(function(){\n",
              "                            \n",
              "var gd = document.getElementById('e3f0c00c-c55d-408e-b5b8-9805618d1700');\n",
              "var x = new MutationObserver(function (mutations, observer) {{\n",
              "        var display = window.getComputedStyle(gd).display;\n",
              "        if (!display || display === 'none') {{\n",
              "            console.log([gd, 'removed!']);\n",
              "            Plotly.purge(gd);\n",
              "            observer.disconnect();\n",
              "        }}\n",
              "}});\n",
              "\n",
              "// Listen for the removal of the full notebook cells\n",
              "var notebookContainer = gd.closest('#notebook-container');\n",
              "if (notebookContainer) {{\n",
              "    x.observe(notebookContainer, {childList: true});\n",
              "}}\n",
              "\n",
              "// Listen for the clearing of the current output cell\n",
              "var outputEl = gd.closest('.output');\n",
              "if (outputEl) {{\n",
              "    x.observe(outputEl, {childList: true});\n",
              "}}\n",
              "\n",
              "                        })\n",
              "                };\n",
              "                \n",
              "            </script>\n",
              "        </div>\n",
              "</body>\n",
              "</html>"
            ]
          },
          "metadata": {}
        }
      ]
    }
  ]
}